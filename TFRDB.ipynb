{
 "cells": [
  {
   "cell_type": "code",
   "execution_count": 6,
   "id": "b7269e5f",
   "metadata": {},
   "outputs": [],
   "source": [
    "import tensorflow as tf\n",
    "import SimpleITK as sitk\n",
    "import numpy as np\n",
    "import pandas as pd\n",
    "\n",
    "from tensorflow import keras\n",
    "from dltk.io import preprocessing\n",
    "from matplotlib import pyplot as plt\n",
    "\n",
    "import os"
   ]
  },
  {
   "cell_type": "code",
   "execution_count": 130,
   "id": "1c020013",
   "metadata": {},
   "outputs": [],
   "source": [
    "description= pd.read_csv('ADNI_descrip.csv')"
   ]
  },
  {
   "cell_type": "code",
   "execution_count": 131,
   "id": "f18f7f20",
   "metadata": {},
   "outputs": [
    {
     "data": {
      "text/html": [
       "<div>\n",
       "<style scoped>\n",
       "    .dataframe tbody tr th:only-of-type {\n",
       "        vertical-align: middle;\n",
       "    }\n",
       "\n",
       "    .dataframe tbody tr th {\n",
       "        vertical-align: top;\n",
       "    }\n",
       "\n",
       "    .dataframe thead th {\n",
       "        text-align: right;\n",
       "    }\n",
       "</style>\n",
       "<table border=\"1\" class=\"dataframe\">\n",
       "  <thead>\n",
       "    <tr style=\"text-align: right;\">\n",
       "      <th></th>\n",
       "      <th>Image Data ID</th>\n",
       "      <th>Subject</th>\n",
       "      <th>Group</th>\n",
       "      <th>Sex</th>\n",
       "      <th>Age</th>\n",
       "      <th>Visit</th>\n",
       "      <th>Modality</th>\n",
       "      <th>Description</th>\n",
       "      <th>Type</th>\n",
       "      <th>Acq Date</th>\n",
       "      <th>Format</th>\n",
       "      <th>Downloaded</th>\n",
       "    </tr>\n",
       "  </thead>\n",
       "  <tbody>\n",
       "    <tr>\n",
       "      <th>0</th>\n",
       "      <td>I79080</td>\n",
       "      <td>136_S_1227</td>\n",
       "      <td>MCI</td>\n",
       "      <td>F</td>\n",
       "      <td>65</td>\n",
       "      <td>3</td>\n",
       "      <td>MRI</td>\n",
       "      <td>MPR; ; N3; Scaled</td>\n",
       "      <td>Processed</td>\n",
       "      <td>9/11/2007</td>\n",
       "      <td>NiFTI</td>\n",
       "      <td>NaN</td>\n",
       "    </tr>\n",
       "    <tr>\n",
       "      <th>1</th>\n",
       "      <td>I66824</td>\n",
       "      <td>136_S_1227</td>\n",
       "      <td>MCI</td>\n",
       "      <td>F</td>\n",
       "      <td>65</td>\n",
       "      <td>2</td>\n",
       "      <td>MRI</td>\n",
       "      <td>MPR; ; N3; Scaled</td>\n",
       "      <td>Processed</td>\n",
       "      <td>2/21/2007</td>\n",
       "      <td>NiFTI</td>\n",
       "      <td>7/28/2021</td>\n",
       "    </tr>\n",
       "    <tr>\n",
       "      <th>2</th>\n",
       "      <td>I99265</td>\n",
       "      <td>136_S_1227</td>\n",
       "      <td>MCI</td>\n",
       "      <td>F</td>\n",
       "      <td>66</td>\n",
       "      <td>4</td>\n",
       "      <td>MRI</td>\n",
       "      <td>MPR; ; N3; Scaled</td>\n",
       "      <td>Processed</td>\n",
       "      <td>3/06/2008</td>\n",
       "      <td>NiFTI</td>\n",
       "      <td>NaN</td>\n",
       "    </tr>\n",
       "    <tr>\n",
       "      <th>3</th>\n",
       "      <td>I83554</td>\n",
       "      <td>136_S_0579</td>\n",
       "      <td>MCI</td>\n",
       "      <td>F</td>\n",
       "      <td>66</td>\n",
       "      <td>4</td>\n",
       "      <td>MRI</td>\n",
       "      <td>MPR; ; N3; Scaled</td>\n",
       "      <td>Processed</td>\n",
       "      <td>6/25/2007</td>\n",
       "      <td>NiFTI</td>\n",
       "      <td>NaN</td>\n",
       "    </tr>\n",
       "    <tr>\n",
       "      <th>4</th>\n",
       "      <td>I119735</td>\n",
       "      <td>136_S_0579</td>\n",
       "      <td>MCI</td>\n",
       "      <td>F</td>\n",
       "      <td>66</td>\n",
       "      <td>2</td>\n",
       "      <td>MRI</td>\n",
       "      <td>MPR-R; ; N3; Scaled_2</td>\n",
       "      <td>Processed</td>\n",
       "      <td>7/10/2006</td>\n",
       "      <td>NiFTI</td>\n",
       "      <td>NaN</td>\n",
       "    </tr>\n",
       "  </tbody>\n",
       "</table>\n",
       "</div>"
      ],
      "text/plain": [
       "  Image Data ID     Subject Group Sex  Age  Visit Modality  \\\n",
       "0        I79080  136_S_1227   MCI   F   65      3      MRI   \n",
       "1        I66824  136_S_1227   MCI   F   65      2      MRI   \n",
       "2        I99265  136_S_1227   MCI   F   66      4      MRI   \n",
       "3        I83554  136_S_0579   MCI   F   66      4      MRI   \n",
       "4       I119735  136_S_0579   MCI   F   66      2      MRI   \n",
       "\n",
       "             Description       Type   Acq Date Format Downloaded  \n",
       "0      MPR; ; N3; Scaled  Processed  9/11/2007  NiFTI        NaN  \n",
       "1      MPR; ; N3; Scaled  Processed  2/21/2007  NiFTI  7/28/2021  \n",
       "2      MPR; ; N3; Scaled  Processed  3/06/2008  NiFTI        NaN  \n",
       "3      MPR; ; N3; Scaled  Processed  6/25/2007  NiFTI        NaN  \n",
       "4  MPR-R; ; N3; Scaled_2  Processed  7/10/2006  NiFTI        NaN  "
      ]
     },
     "execution_count": 131,
     "metadata": {},
     "output_type": "execute_result"
    }
   ],
   "source": [
    "description.head()"
   ]
  },
  {
   "cell_type": "code",
   "execution_count": 132,
   "id": "279bc0e9",
   "metadata": {},
   "outputs": [],
   "source": [
    "description = description.drop(columns= 'Downloaded', axis=1)"
   ]
  },
  {
   "cell_type": "code",
   "execution_count": 133,
   "id": "1c09cb5c",
   "metadata": {
    "scrolled": false
   },
   "outputs": [
    {
     "data": {
      "text/html": [
       "<div>\n",
       "<style scoped>\n",
       "    .dataframe tbody tr th:only-of-type {\n",
       "        vertical-align: middle;\n",
       "    }\n",
       "\n",
       "    .dataframe tbody tr th {\n",
       "        vertical-align: top;\n",
       "    }\n",
       "\n",
       "    .dataframe thead th {\n",
       "        text-align: right;\n",
       "    }\n",
       "</style>\n",
       "<table border=\"1\" class=\"dataframe\">\n",
       "  <thead>\n",
       "    <tr style=\"text-align: right;\">\n",
       "      <th></th>\n",
       "      <th>Image Data ID</th>\n",
       "      <th>Subject</th>\n",
       "      <th>Group</th>\n",
       "      <th>Sex</th>\n",
       "      <th>Age</th>\n",
       "      <th>Visit</th>\n",
       "      <th>Modality</th>\n",
       "      <th>Description</th>\n",
       "      <th>Type</th>\n",
       "      <th>Acq Date</th>\n",
       "      <th>Format</th>\n",
       "    </tr>\n",
       "  </thead>\n",
       "  <tbody>\n",
       "    <tr>\n",
       "      <th>0</th>\n",
       "      <td>I79080</td>\n",
       "      <td>136_S_1227</td>\n",
       "      <td>MCI</td>\n",
       "      <td>F</td>\n",
       "      <td>65</td>\n",
       "      <td>3</td>\n",
       "      <td>MRI</td>\n",
       "      <td>MPR; ; N3; Scaled</td>\n",
       "      <td>Processed</td>\n",
       "      <td>9/11/2007</td>\n",
       "      <td>NiFTI</td>\n",
       "    </tr>\n",
       "    <tr>\n",
       "      <th>1</th>\n",
       "      <td>I66824</td>\n",
       "      <td>136_S_1227</td>\n",
       "      <td>MCI</td>\n",
       "      <td>F</td>\n",
       "      <td>65</td>\n",
       "      <td>2</td>\n",
       "      <td>MRI</td>\n",
       "      <td>MPR; ; N3; Scaled</td>\n",
       "      <td>Processed</td>\n",
       "      <td>2/21/2007</td>\n",
       "      <td>NiFTI</td>\n",
       "    </tr>\n",
       "    <tr>\n",
       "      <th>2</th>\n",
       "      <td>I99265</td>\n",
       "      <td>136_S_1227</td>\n",
       "      <td>MCI</td>\n",
       "      <td>F</td>\n",
       "      <td>66</td>\n",
       "      <td>4</td>\n",
       "      <td>MRI</td>\n",
       "      <td>MPR; ; N3; Scaled</td>\n",
       "      <td>Processed</td>\n",
       "      <td>3/06/2008</td>\n",
       "      <td>NiFTI</td>\n",
       "    </tr>\n",
       "    <tr>\n",
       "      <th>3</th>\n",
       "      <td>I83554</td>\n",
       "      <td>136_S_0579</td>\n",
       "      <td>MCI</td>\n",
       "      <td>F</td>\n",
       "      <td>66</td>\n",
       "      <td>4</td>\n",
       "      <td>MRI</td>\n",
       "      <td>MPR; ; N3; Scaled</td>\n",
       "      <td>Processed</td>\n",
       "      <td>6/25/2007</td>\n",
       "      <td>NiFTI</td>\n",
       "    </tr>\n",
       "    <tr>\n",
       "      <th>4</th>\n",
       "      <td>I119735</td>\n",
       "      <td>136_S_0579</td>\n",
       "      <td>MCI</td>\n",
       "      <td>F</td>\n",
       "      <td>66</td>\n",
       "      <td>2</td>\n",
       "      <td>MRI</td>\n",
       "      <td>MPR-R; ; N3; Scaled_2</td>\n",
       "      <td>Processed</td>\n",
       "      <td>7/10/2006</td>\n",
       "      <td>NiFTI</td>\n",
       "    </tr>\n",
       "  </tbody>\n",
       "</table>\n",
       "</div>"
      ],
      "text/plain": [
       "  Image Data ID     Subject Group Sex  Age  Visit Modality  \\\n",
       "0        I79080  136_S_1227   MCI   F   65      3      MRI   \n",
       "1        I66824  136_S_1227   MCI   F   65      2      MRI   \n",
       "2        I99265  136_S_1227   MCI   F   66      4      MRI   \n",
       "3        I83554  136_S_0579   MCI   F   66      4      MRI   \n",
       "4       I119735  136_S_0579   MCI   F   66      2      MRI   \n",
       "\n",
       "             Description       Type   Acq Date Format  \n",
       "0      MPR; ; N3; Scaled  Processed  9/11/2007  NiFTI  \n",
       "1      MPR; ; N3; Scaled  Processed  2/21/2007  NiFTI  \n",
       "2      MPR; ; N3; Scaled  Processed  3/06/2008  NiFTI  \n",
       "3      MPR; ; N3; Scaled  Processed  6/25/2007  NiFTI  \n",
       "4  MPR-R; ; N3; Scaled_2  Processed  7/10/2006  NiFTI  "
      ]
     },
     "execution_count": 133,
     "metadata": {},
     "output_type": "execute_result"
    }
   ],
   "source": [
    "description.head()"
   ]
  },
  {
   "cell_type": "code",
   "execution_count": 199,
   "id": "0e4a39f5",
   "metadata": {},
   "outputs": [
    {
     "data": {
      "text/plain": [
       "Image Data ID    0\n",
       "Subject          0\n",
       "Group            0\n",
       "Sex              0\n",
       "Age              0\n",
       "Visit            0\n",
       "Modality         0\n",
       "Description      0\n",
       "Type             0\n",
       "Acq Date         0\n",
       "Format           0\n",
       "dtype: int64"
      ]
     },
     "execution_count": 199,
     "metadata": {},
     "output_type": "execute_result"
    }
   ],
   "source": [
    "description.isna().sum()"
   ]
  },
  {
   "cell_type": "markdown",
   "id": "55747122",
   "metadata": {},
   "source": [
    "Recursive Function to grab images\n",
    "- add get image and the path"
   ]
  },
  {
   "cell_type": "code",
   "execution_count": 59,
   "id": "f6d3adc6",
   "metadata": {
    "scrolled": true
   },
   "outputs": [],
   "source": [
    "def check_file(file_path):\n",
    "    dst = './data-folder'\n",
    "    \n",
    "    if file_path.endswith('nii'):\n",
    "        shutil.copy(file_path, dst)\n",
    "    \n",
    "    else:\n",
    "        sub_folders = os.listdir(file_path)\n",
    "        for sub_folder in sub_folders:\n",
    "            new_path = file_path + '/' + sub_folder\n",
    "            check_file(new_path)"
   ]
  },
  {
   "cell_type": "code",
   "execution_count": 56,
   "id": "fd53b9c0",
   "metadata": {},
   "outputs": [
    {
     "data": {
      "text/plain": [
       "True"
      ]
     },
     "execution_count": 56,
     "metadata": {},
     "output_type": "execute_result"
    }
   ],
   "source": [
    "s.endswith('nii')"
   ]
  },
  {
   "cell_type": "markdown",
   "id": "6cf19b60",
   "metadata": {},
   "source": [
    "Image Visualization"
   ]
  },
  {
   "cell_type": "code",
   "execution_count": 62,
   "id": "784e1476",
   "metadata": {},
   "outputs": [],
   "source": [
    "image = './data-folder/ADNI_002_S_1268_MR_MPR-R____N3__Scaled_Br_20070806174712233_S27680_I65268.nii'"
   ]
  },
  {
   "cell_type": "code",
   "execution_count": 200,
   "id": "b59bd1d7",
   "metadata": {},
   "outputs": [
    {
     "ename": "RuntimeError",
     "evalue": "Exception thrown in SimpleITK ImageFileReader_Execute: D:\\a\\1\\sitk\\Code\\IO\\src\\sitkImageReaderBase.cxx:97:\nsitk::ERROR: The file \"./data-folder/ADNI_002_S_1268_MR_MPR-R____N3__Scaled_Br_20070806174712233_S27680_I65268.nii\" does not exist.",
     "output_type": "error",
     "traceback": [
      "\u001b[1;31m---------------------------------------------------------------------------\u001b[0m",
      "\u001b[1;31mRuntimeError\u001b[0m                              Traceback (most recent call last)",
      "\u001b[1;32m<ipython-input-200-326369cadeb9>\u001b[0m in \u001b[0;36m<module>\u001b[1;34m\u001b[0m\n\u001b[0;32m      1\u001b[0m \u001b[1;31m# load in sitk format\u001b[0m\u001b[1;33m\u001b[0m\u001b[1;33m\u001b[0m\u001b[1;33m\u001b[0m\u001b[0m\n\u001b[1;32m----> 2\u001b[1;33m \u001b[0msitk_image\u001b[0m \u001b[1;33m=\u001b[0m \u001b[0msitk\u001b[0m\u001b[1;33m.\u001b[0m\u001b[0mReadImage\u001b[0m\u001b[1;33m(\u001b[0m\u001b[0mimage\u001b[0m\u001b[1;33m)\u001b[0m\u001b[1;33m\u001b[0m\u001b[1;33m\u001b[0m\u001b[0m\n\u001b[0m\u001b[0;32m      3\u001b[0m \u001b[1;31m# transform into a numpy array\u001b[0m\u001b[1;33m\u001b[0m\u001b[1;33m\u001b[0m\u001b[1;33m\u001b[0m\u001b[0m\n\u001b[0;32m      4\u001b[0m \u001b[0mimg\u001b[0m \u001b[1;33m=\u001b[0m \u001b[0msitk\u001b[0m\u001b[1;33m.\u001b[0m\u001b[0mGetArrayFromImage\u001b[0m\u001b[1;33m(\u001b[0m\u001b[0msitk_image\u001b[0m\u001b[1;33m)\u001b[0m\u001b[1;33m\u001b[0m\u001b[1;33m\u001b[0m\u001b[0m\n\u001b[0;32m      5\u001b[0m \u001b[1;31m# check the final shape\u001b[0m\u001b[1;33m\u001b[0m\u001b[1;33m\u001b[0m\u001b[1;33m\u001b[0m\u001b[0m\n",
      "\u001b[1;32m~\\anaconda3\\lib\\site-packages\\SimpleITK\\extra.py\u001b[0m in \u001b[0;36mReadImage\u001b[1;34m(fileName, outputPixelType, imageIO)\u001b[0m\n\u001b[0;32m    344\u001b[0m     \u001b[0mreader\u001b[0m\u001b[1;33m.\u001b[0m\u001b[0mSetImageIO\u001b[0m\u001b[1;33m(\u001b[0m\u001b[0mimageIO\u001b[0m\u001b[1;33m)\u001b[0m\u001b[1;33m\u001b[0m\u001b[1;33m\u001b[0m\u001b[0m\n\u001b[0;32m    345\u001b[0m     \u001b[0mreader\u001b[0m\u001b[1;33m.\u001b[0m\u001b[0mSetOutputPixelType\u001b[0m\u001b[1;33m(\u001b[0m\u001b[0moutputPixelType\u001b[0m\u001b[1;33m)\u001b[0m\u001b[1;33m\u001b[0m\u001b[1;33m\u001b[0m\u001b[0m\n\u001b[1;32m--> 346\u001b[1;33m     \u001b[1;32mreturn\u001b[0m \u001b[0mreader\u001b[0m\u001b[1;33m.\u001b[0m\u001b[0mExecute\u001b[0m\u001b[1;33m(\u001b[0m\u001b[1;33m)\u001b[0m\u001b[1;33m\u001b[0m\u001b[1;33m\u001b[0m\u001b[0m\n\u001b[0m\u001b[0;32m    347\u001b[0m \u001b[1;33m\u001b[0m\u001b[0m\n\u001b[0;32m    348\u001b[0m \u001b[1;33m\u001b[0m\u001b[0m\n",
      "\u001b[1;32m~\\anaconda3\\lib\\site-packages\\SimpleITK\\SimpleITK.py\u001b[0m in \u001b[0;36mExecute\u001b[1;34m(self)\u001b[0m\n\u001b[0;32m   8013\u001b[0m \u001b[1;33m\u001b[0m\u001b[0m\n\u001b[0;32m   8014\u001b[0m         \"\"\"\n\u001b[1;32m-> 8015\u001b[1;33m         \u001b[1;32mreturn\u001b[0m \u001b[0m_SimpleITK\u001b[0m\u001b[1;33m.\u001b[0m\u001b[0mImageFileReader_Execute\u001b[0m\u001b[1;33m(\u001b[0m\u001b[0mself\u001b[0m\u001b[1;33m)\u001b[0m\u001b[1;33m\u001b[0m\u001b[1;33m\u001b[0m\u001b[0m\n\u001b[0m\u001b[0;32m   8016\u001b[0m \u001b[1;33m\u001b[0m\u001b[0m\n\u001b[0;32m   8017\u001b[0m     \u001b[1;32mdef\u001b[0m \u001b[0mReadImageInformation\u001b[0m\u001b[1;33m(\u001b[0m\u001b[0mself\u001b[0m\u001b[1;33m)\u001b[0m\u001b[1;33m:\u001b[0m\u001b[1;33m\u001b[0m\u001b[1;33m\u001b[0m\u001b[0m\n",
      "\u001b[1;31mRuntimeError\u001b[0m: Exception thrown in SimpleITK ImageFileReader_Execute: D:\\a\\1\\sitk\\Code\\IO\\src\\sitkImageReaderBase.cxx:97:\nsitk::ERROR: The file \"./data-folder/ADNI_002_S_1268_MR_MPR-R____N3__Scaled_Br_20070806174712233_S27680_I65268.nii\" does not exist."
     ]
    }
   ],
   "source": [
    "# load in sitk format\n",
    "sitk_image = sitk.ReadImage(image)\n",
    "# transform into a numpy array\n",
    "img = sitk.GetArrayFromImage(sitk_image)\n",
    "# check the final shape\n",
    "img"
   ]
  },
  {
   "cell_type": "code",
   "execution_count": 64,
   "id": "c86f41c9",
   "metadata": {},
   "outputs": [
    {
     "data": {
      "image/png": "[encoded data removed]",
      "text/plain": [
       "<Figure size 432x288 with 1 Axes>"
      ]
     },
     "metadata": {
      "needs_background": "light"
     },
     "output_type": "display_data"
    }
   ],
   "source": [
    "plt.imshow(img[:, :, 70], cmap='gray')\n",
    "plt.show()"
   ]
  },
  {
   "cell_type": "markdown",
   "id": "405becfc",
   "metadata": {},
   "source": [
    "Trying to binarize the image using by applying OTSU's thresholding"
   ]
  },
  {
   "cell_type": "code",
   "execution_count": 66,
   "id": "073d1ae9",
   "metadata": {},
   "outputs": [
    {
     "data": {
      "image/png": "[encoded data removed]",
      "text/plain": [
       "<Figure size 432x288 with 1 Axes>"
      ]
     },
     "metadata": {
      "needs_background": "light"
     },
     "output_type": "display_data"
    }
   ],
   "source": [
    "from skimage import filters\n",
    "otsu = filters.threshold_otsu(img)\n",
    "otsu_img = img > otsu\n",
    "plt.imshow(otsu_img[:, :, 70], cmap='gray')\n",
    "plt.show()"
   ]
  },
  {
   "cell_type": "markdown",
   "id": "56479c64",
   "metadata": {},
   "source": [
    "Trying out space normalization on one image just to get it working. Using a resampling method to get it going."
   ]
  },
  {
   "cell_type": "code",
   "execution_count": 67,
   "id": "0c507aab",
   "metadata": {},
   "outputs": [],
   "source": [
    "def resample_img(itk_image, out_spacing=[2.0, 2.0, 2.0]):\n",
    "    ''' This function resamples images to 2-mm isotropic voxels.\n",
    "      \n",
    "        Parameters:\n",
    "            itk_image -- Image in simpleitk format, not a numpy array\n",
    "            out_spacing -- Space representation of each voxel\n",
    "            \n",
    "        Returns: \n",
    "            Resulting image in simpleitk format, not a numpy array\n",
    "    '''\n",
    "    \n",
    "    # Resample images to 2mm spacing with SimpleITK\n",
    "    original_spacing = itk_image.GetSpacing()\n",
    "    original_size = itk_image.GetSize()\n",
    "\n",
    "    out_size = [\n",
    "        int(np.round(original_size[0] * (original_spacing[0] / out_spacing[0]))),\n",
    "        int(np.round(original_size[1] * (original_spacing[1] / out_spacing[1]))),\n",
    "        int(np.round(original_size[2] * (original_spacing[2] / out_spacing[2])))]\n",
    "\n",
    "    resample = sitk.ResampleImageFilter()\n",
    "    resample.SetOutputSpacing(out_spacing)\n",
    "    resample.SetSize(out_size)\n",
    "    resample.SetOutputDirection(itk_image.GetDirection())\n",
    "    resample.SetOutputOrigin(itk_image.GetOrigin())\n",
    "    resample.SetTransform(sitk.Transform())\n",
    "    resample.SetDefaultPixelValue(itk_image.GetPixelIDValue())\n",
    "\n",
    "    resample.SetInterpolator(sitk.sitkBSpline)\n",
    "\n",
    "    return resample.Execute(itk_image)"
   ]
  },
  {
   "cell_type": "code",
   "execution_count": 70,
   "id": "4ca8e5de",
   "metadata": {},
   "outputs": [
    {
     "data": {
      "text/plain": [
       "<SimpleITK.SimpleITK.Image; proxy of <Swig Object of type 'std::vector< itk::simple::Image >::value_type *' at 0x000002044649DDE0> >"
      ]
     },
     "execution_count": 70,
     "metadata": {},
     "output_type": "execute_result"
    }
   ],
   "source": [
    "resample_img(sitk_image)"
   ]
  },
  {
   "cell_type": "code",
   "execution_count": 71,
   "id": "d7c00534",
   "metadata": {},
   "outputs": [
    {
     "name": "stderr",
     "output_type": "stream",
     "text": [
      "C:\\Users\\Kamryn\\anaconda3\\lib\\site-packages\\dltk\\io\\preprocessing.py:87: FutureWarning: Using a non-tuple sequence for multidimensional indexing is deprecated; use `arr[tuple(seq)]` instead of `arr[seq]`. In the future this will be interpreted as an array index, `arr[np.array(seq)]`, which will result either in an error or a different result.\n",
      "  return np.pad(image[slicer], to_padding, **kwargs)\n"
     ]
    },
    {
     "data": {
      "image/png": "[encoded data removed]",
      "text/plain": [
       "<Figure size 432x288 with 1 Axes>"
      ]
     },
     "metadata": {
      "needs_background": "light"
     },
     "output_type": "display_data"
    }
   ],
   "source": [
    "res = resample_img(sitk_image)\n",
    "res_img = sitk.GetArrayFromImage(sitk_image)\n",
    "res_img = preprocessing.resize_image_with_crop_or_pad(res_img, img_size=(128, 192, 192), mode='symmetric')\n",
    "res_img = preprocessing.whitening(res_img)\n",
    "plt.imshow(res_img[:, 100, :], cmap='gray')\n",
    "plt.show()"
   ]
  },
  {
   "cell_type": "markdown",
   "id": "97838b7f",
   "metadata": {},
   "source": [
    "Skull Stripping (just trying it out on one image)"
   ]
  },
  {
   "cell_type": "code",
   "execution_count": 74,
   "id": "78c15d45",
   "metadata": {},
   "outputs": [],
   "source": [
    "from nipype.interfaces import fsl\n",
    "import matplotlib.pyplot as plt"
   ]
  },
  {
   "cell_type": "code",
   "execution_count": 73,
   "id": "3deab459",
   "metadata": {},
   "outputs": [
    {
     "name": "stdout",
     "output_type": "stream",
     "text": [
      "Collecting nipype\n",
      "  Downloading nipype-1.6.1-py3-none-any.whl (3.2 MB)\n",
      "Requirement already satisfied: scipy>=0.14 in c:\\users\\kamryn\\anaconda3\\lib\\site-packages (from nipype) (1.6.2)\n",
      "Requirement already satisfied: click>=6.6.0 in c:\\users\\kamryn\\anaconda3\\lib\\site-packages (from nipype) (7.1.2)\n",
      "Requirement already satisfied: numpy>=1.15.3 in c:\\users\\kamryn\\anaconda3\\lib\\site-packages (from nipype) (1.19.5)\n",
      "Collecting etelemetry>=0.2.0\n",
      "  Downloading etelemetry-0.2.2-py3-none-any.whl (6.2 kB)\n",
      "Requirement already satisfied: python-dateutil>=2.2 in c:\\users\\kamryn\\anaconda3\\lib\\site-packages (from nipype) (2.8.1)\n",
      "Requirement already satisfied: packaging in c:\\users\\kamryn\\anaconda3\\lib\\site-packages (from nipype) (20.9)\n",
      "Requirement already satisfied: filelock>=3.0.0 in c:\\users\\kamryn\\anaconda3\\lib\\site-packages (from nipype) (3.0.12)\n",
      "Collecting prov>=1.5.2\n",
      "  Downloading prov-2.0.0-py3-none-any.whl (421 kB)\n",
      "Requirement already satisfied: networkx>=2.0 in c:\\users\\kamryn\\anaconda3\\lib\\site-packages (from nipype) (2.5)\n",
      "Requirement already satisfied: nibabel>=2.1.0 in c:\\users\\kamryn\\anaconda3\\lib\\site-packages (from nipype) (3.2.1)\n",
      "Collecting rdflib>=5.0.0\n",
      "  Downloading rdflib-6.0.0-py3-none-any.whl (376 kB)\n",
      "Collecting simplejson>=3.8.0\n",
      "  Downloading simplejson-3.17.3-cp38-cp38-win_amd64.whl (75 kB)\n",
      "Collecting traits!=5.0,>=4.6\n",
      "  Downloading traits-6.2.0-cp38-cp38-win_amd64.whl (5.0 MB)\n",
      "Collecting pydot>=1.2.3\n",
      "  Downloading pydot-1.4.2-py2.py3-none-any.whl (21 kB)\n",
      "Collecting ci-info>=0.2\n",
      "  Downloading ci_info-0.2.0-py3-none-any.whl (6.9 kB)\n",
      "Requirement already satisfied: requests in c:\\users\\kamryn\\anaconda3\\lib\\site-packages (from etelemetry>=0.2.0->nipype) (2.25.1)\n",
      "Requirement already satisfied: decorator>=4.3.0 in c:\\users\\kamryn\\anaconda3\\lib\\site-packages (from networkx>=2.0->nipype) (5.0.6)\n",
      "Requirement already satisfied: pyparsing>=2.0.2 in c:\\users\\kamryn\\anaconda3\\lib\\site-packages (from packaging->nipype) (2.4.7)\n",
      "Requirement already satisfied: lxml>=3.3.5 in c:\\users\\kamryn\\anaconda3\\lib\\site-packages (from prov>=1.5.2->nipype) (4.6.3)\n",
      "Requirement already satisfied: six>=1.5 in c:\\users\\kamryn\\anaconda3\\lib\\site-packages (from python-dateutil>=2.2->nipype) (1.15.0)\n",
      "Collecting isodate\n",
      "  Downloading isodate-0.6.0-py2.py3-none-any.whl (45 kB)\n",
      "Requirement already satisfied: setuptools in c:\\users\\kamryn\\anaconda3\\lib\\site-packages (from rdflib>=5.0.0->nipype) (52.0.0.post20210125)\n",
      "Requirement already satisfied: urllib3<1.27,>=1.21.1 in c:\\users\\kamryn\\anaconda3\\lib\\site-packages (from requests->etelemetry>=0.2.0->nipype) (1.26.4)\n",
      "Requirement already satisfied: certifi>=2017.4.17 in c:\\users\\kamryn\\anaconda3\\lib\\site-packages (from requests->etelemetry>=0.2.0->nipype) (2020.12.5)\n",
      "Requirement already satisfied: chardet<5,>=3.0.2 in c:\\users\\kamryn\\anaconda3\\lib\\site-packages (from requests->etelemetry>=0.2.0->nipype) (4.0.0)\n",
      "Requirement already satisfied: idna<3,>=2.5 in c:\\users\\kamryn\\anaconda3\\lib\\site-packages (from requests->etelemetry>=0.2.0->nipype) (2.10)\n",
      "Installing collected packages: isodate, rdflib, ci-info, traits, simplejson, pydot, prov, etelemetry, nipype\n",
      "Successfully installed ci-info-0.2.0 etelemetry-0.2.2 isodate-0.6.0 nipype-1.6.1 prov-2.0.0 pydot-1.4.2 rdflib-6.0.0 simplejson-3.17.3 traits-6.2.0\n"
     ]
    }
   ],
   "source": [
    "!pip install nipype"
   ]
  },
  {
   "cell_type": "code",
   "execution_count": 75,
   "id": "d27fec92",
   "metadata": {},
   "outputs": [],
   "source": [
    "def skull_strip_nii(original_img, destination_img, frac=0.3):\n",
    "    ''' Practice skull stripping on the given image, and save\n",
    "        the result to a new .nii image.\n",
    "        Uses FSL-BET \n",
    "        (https://fsl.fmrib.ox.ac.uk/fsl/fslwiki/BET/UserGuide#Main_bet2_options:)\n",
    "        \n",
    "        Parameters:\n",
    "            original_img -- Original nii image\n",
    "            destination_img -- The new skull-stripped image\n",
    "            frac -- Fractional intensity threshold for BET\n",
    "    '''\n",
    "    \n",
    "    btr = fsl.BET()\n",
    "    btr.inputs.in_file = original_img\n",
    "    btr.inputs.frac = frac\n",
    "    btr.inputs.out_file = destination_img\n",
    "    btr.cmdline\n",
    "    res = btr.run()"
   ]
  },
  {
   "cell_type": "markdown",
   "id": "823c5941",
   "metadata": {},
   "source": [
    "Renaming the images by their patient ID to make them easier to grab."
   ]
  },
  {
   "cell_type": "code",
   "execution_count": 78,
   "id": "5a7eb164",
   "metadata": {
    "scrolled": true
   },
   "outputs": [],
   "source": [
    "def rename_image(folder):\n",
    "    if (folder.endswith('.DS_Store') == False):\n",
    "            images = os.listdir(folder)\n",
    "            for image in images:\n",
    "                name = image\n",
    "                name_list = name.split('_')\n",
    "                new_path = folder + '/' + name_list[-1]\n",
    "                old_path = folder + '/' + image\n",
    "                os.rename(old_path, new_path)\n",
    "\n"
   ]
  },
  {
   "cell_type": "code",
   "execution_count": 81,
   "id": "0b7ab63b",
   "metadata": {},
   "outputs": [],
   "source": [
    "rename_image('./data-folder')"
   ]
  },
  {
   "cell_type": "markdown",
   "id": "3f08f4d6",
   "metadata": {},
   "source": [
    "Making a new data frame that has  the subject id in correlation to each visit."
   ]
  },
  {
   "cell_type": "code",
   "execution_count": 145,
   "id": "6fe6d285",
   "metadata": {},
   "outputs": [],
   "source": [
    "subjects = description['Subject'].tolist()\n",
    "\n",
    "subject_unique = set(subjects)\n",
    "\n",
    "df_3 = pd.DataFrame()"
   ]
  },
  {
   "cell_type": "code",
   "execution_count": 195,
   "id": "0ddf6828",
   "metadata": {},
   "outputs": [],
   "source": [
    "groups = description['Group'].tolist()"
   ]
  },
  {
   "cell_type": "code",
   "execution_count": 196,
   "id": "b0d3fadf",
   "metadata": {},
   "outputs": [],
   "source": [
    "group_unique = set(groups)"
   ]
  },
  {
   "cell_type": "code",
   "execution_count": null,
   "id": "a40a401e",
   "metadata": {},
   "outputs": [],
   "source": [
    "from sklearn.preprocessing import LabelEncoder\n",
    "\n",
    "target_encoder = LabelEncoder()\n",
    "target_encoder.fit(df.diagnosis)\n",
    "target = target_encoder.transform(df.diagnosis)"
   ]
  },
  {
   "cell_type": "code",
   "execution_count": 197,
   "id": "4bcdd0cc",
   "metadata": {},
   "outputs": [
    {
     "data": {
      "text/plain": [
       "{'AD', 'CN', 'MCI'}"
      ]
     },
     "execution_count": 197,
     "metadata": {},
     "output_type": "execute_result"
    }
   ],
   "source": [
    "group_unique\n"
   ]
  },
  {
   "cell_type": "code",
   "execution_count": 148,
   "id": "91614852",
   "metadata": {},
   "outputs": [
    {
     "data": {
      "text/html": [
       "<div>\n",
       "<style scoped>\n",
       "    .dataframe tbody tr th:only-of-type {\n",
       "        vertical-align: middle;\n",
       "    }\n",
       "\n",
       "    .dataframe tbody tr th {\n",
       "        vertical-align: top;\n",
       "    }\n",
       "\n",
       "    .dataframe thead th {\n",
       "        text-align: right;\n",
       "    }\n",
       "</style>\n",
       "<table border=\"1\" class=\"dataframe\">\n",
       "  <thead>\n",
       "    <tr style=\"text-align: right;\">\n",
       "      <th></th>\n",
       "      <th>subject</th>\n",
       "    </tr>\n",
       "  </thead>\n",
       "  <tbody>\n",
       "    <tr>\n",
       "      <th>0</th>\n",
       "      <td>023_S_0855</td>\n",
       "    </tr>\n",
       "    <tr>\n",
       "      <th>1</th>\n",
       "      <td>005_S_0572</td>\n",
       "    </tr>\n",
       "    <tr>\n",
       "      <th>2</th>\n",
       "      <td>005_S_0602</td>\n",
       "    </tr>\n",
       "    <tr>\n",
       "      <th>3</th>\n",
       "      <td>027_S_1081</td>\n",
       "    </tr>\n",
       "    <tr>\n",
       "      <th>4</th>\n",
       "      <td>082_S_1256</td>\n",
       "    </tr>\n",
       "  </tbody>\n",
       "</table>\n",
       "</div>"
      ],
      "text/plain": [
       "      subject\n",
       "0  023_S_0855\n",
       "1  005_S_0572\n",
       "2  005_S_0602\n",
       "3  027_S_1081\n",
       "4  082_S_1256"
      ]
     },
     "execution_count": 148,
     "metadata": {},
     "output_type": "execute_result"
    }
   ],
   "source": [
    "df_3.head()"
   ]
  },
  {
   "cell_type": "code",
   "execution_count": 146,
   "id": "0b86f069",
   "metadata": {},
   "outputs": [],
   "source": [
    "df_3['subject'] = list(subject_unique)"
   ]
  },
  {
   "cell_type": "code",
   "execution_count": 161,
   "id": "2eeb95ad",
   "metadata": {},
   "outputs": [
    {
     "data": {
      "text/html": [
       "<div>\n",
       "<style scoped>\n",
       "    .dataframe tbody tr th:only-of-type {\n",
       "        vertical-align: middle;\n",
       "    }\n",
       "\n",
       "    .dataframe tbody tr th {\n",
       "        vertical-align: top;\n",
       "    }\n",
       "\n",
       "    .dataframe thead th {\n",
       "        text-align: right;\n",
       "    }\n",
       "</style>\n",
       "<table border=\"1\" class=\"dataframe\">\n",
       "  <thead>\n",
       "    <tr style=\"text-align: right;\">\n",
       "      <th></th>\n",
       "      <th>Image Data ID</th>\n",
       "      <th>Subject</th>\n",
       "      <th>Group</th>\n",
       "      <th>Sex</th>\n",
       "      <th>Age</th>\n",
       "      <th>Visit</th>\n",
       "      <th>Modality</th>\n",
       "      <th>Description</th>\n",
       "      <th>Type</th>\n",
       "      <th>Acq Date</th>\n",
       "      <th>Format</th>\n",
       "    </tr>\n",
       "  </thead>\n",
       "  <tbody>\n",
       "    <tr>\n",
       "      <th>0</th>\n",
       "      <td>I79080</td>\n",
       "      <td>136_S_1227</td>\n",
       "      <td>MCI</td>\n",
       "      <td>F</td>\n",
       "      <td>65</td>\n",
       "      <td>3</td>\n",
       "      <td>MRI</td>\n",
       "      <td>MPR; ; N3; Scaled</td>\n",
       "      <td>Processed</td>\n",
       "      <td>9/11/2007</td>\n",
       "      <td>NiFTI</td>\n",
       "    </tr>\n",
       "    <tr>\n",
       "      <th>1</th>\n",
       "      <td>I66824</td>\n",
       "      <td>136_S_1227</td>\n",
       "      <td>MCI</td>\n",
       "      <td>F</td>\n",
       "      <td>65</td>\n",
       "      <td>2</td>\n",
       "      <td>MRI</td>\n",
       "      <td>MPR; ; N3; Scaled</td>\n",
       "      <td>Processed</td>\n",
       "      <td>2/21/2007</td>\n",
       "      <td>NiFTI</td>\n",
       "    </tr>\n",
       "    <tr>\n",
       "      <th>2</th>\n",
       "      <td>I99265</td>\n",
       "      <td>136_S_1227</td>\n",
       "      <td>MCI</td>\n",
       "      <td>F</td>\n",
       "      <td>66</td>\n",
       "      <td>4</td>\n",
       "      <td>MRI</td>\n",
       "      <td>MPR; ; N3; Scaled</td>\n",
       "      <td>Processed</td>\n",
       "      <td>3/06/2008</td>\n",
       "      <td>NiFTI</td>\n",
       "    </tr>\n",
       "    <tr>\n",
       "      <th>3</th>\n",
       "      <td>I83554</td>\n",
       "      <td>136_S_0579</td>\n",
       "      <td>MCI</td>\n",
       "      <td>F</td>\n",
       "      <td>66</td>\n",
       "      <td>4</td>\n",
       "      <td>MRI</td>\n",
       "      <td>MPR; ; N3; Scaled</td>\n",
       "      <td>Processed</td>\n",
       "      <td>6/25/2007</td>\n",
       "      <td>NiFTI</td>\n",
       "    </tr>\n",
       "    <tr>\n",
       "      <th>4</th>\n",
       "      <td>I119735</td>\n",
       "      <td>136_S_0579</td>\n",
       "      <td>MCI</td>\n",
       "      <td>F</td>\n",
       "      <td>66</td>\n",
       "      <td>2</td>\n",
       "      <td>MRI</td>\n",
       "      <td>MPR-R; ; N3; Scaled_2</td>\n",
       "      <td>Processed</td>\n",
       "      <td>7/10/2006</td>\n",
       "      <td>NiFTI</td>\n",
       "    </tr>\n",
       "  </tbody>\n",
       "</table>\n",
       "</div>"
      ],
      "text/plain": [
       "  Image Data ID     Subject Group Sex  Age  Visit Modality  \\\n",
       "0        I79080  136_S_1227   MCI   F   65      3      MRI   \n",
       "1        I66824  136_S_1227   MCI   F   65      2      MRI   \n",
       "2        I99265  136_S_1227   MCI   F   66      4      MRI   \n",
       "3        I83554  136_S_0579   MCI   F   66      4      MRI   \n",
       "4       I119735  136_S_0579   MCI   F   66      2      MRI   \n",
       "\n",
       "             Description       Type   Acq Date Format  \n",
       "0      MPR; ; N3; Scaled  Processed  9/11/2007  NiFTI  \n",
       "1      MPR; ; N3; Scaled  Processed  2/21/2007  NiFTI  \n",
       "2      MPR; ; N3; Scaled  Processed  3/06/2008  NiFTI  \n",
       "3      MPR; ; N3; Scaled  Processed  6/25/2007  NiFTI  \n",
       "4  MPR-R; ; N3; Scaled_2  Processed  7/10/2006  NiFTI  "
      ]
     },
     "execution_count": 161,
     "metadata": {},
     "output_type": "execute_result"
    }
   ],
   "source": [
    "description.head()"
   ]
  },
  {
   "cell_type": "code",
   "execution_count": 192,
   "id": "1b6a73aa",
   "metadata": {},
   "outputs": [],
   "source": [
    "def get_visit3(groups):\n",
    "    hold3= description.loc[(description['Subject'] == )&(description['Visit']==3)]\n",
    "    hold4 = hold3.iloc[0]\n",
    "    image_id = hold4['Image Data ID']\n",
    "    return image_id"
   ]
  },
  {
   "cell_type": "code",
   "execution_count": 193,
   "id": "5bba3bd3",
   "metadata": {},
   "outputs": [
    {
     "ename": "IndexError",
     "evalue": "single positional indexer is out-of-bounds",
     "output_type": "error",
     "traceback": [
      "\u001b[1;31m---------------------------------------------------------------------------\u001b[0m",
      "\u001b[1;31mIndexError\u001b[0m                                Traceback (most recent call last)",
      "\u001b[1;32m<ipython-input-193-19fb5f583950>\u001b[0m in \u001b[0;36m<module>\u001b[1;34m\u001b[0m\n\u001b[1;32m----> 1\u001b[1;33m \u001b[0mdf_3\u001b[0m\u001b[1;33m[\u001b[0m\u001b[1;34m'visit_3'\u001b[0m\u001b[1;33m]\u001b[0m \u001b[1;33m=\u001b[0m \u001b[0mdf_3\u001b[0m\u001b[1;33m[\u001b[0m\u001b[1;34m'subject'\u001b[0m\u001b[1;33m]\u001b[0m\u001b[1;33m.\u001b[0m\u001b[0mapply\u001b[0m\u001b[1;33m(\u001b[0m\u001b[0mget_visit3\u001b[0m\u001b[1;33m)\u001b[0m\u001b[1;33m\u001b[0m\u001b[1;33m\u001b[0m\u001b[0m\n\u001b[0m",
      "\u001b[1;32m~\\anaconda3\\lib\\site-packages\\pandas\\core\\series.py\u001b[0m in \u001b[0;36mapply\u001b[1;34m(self, func, convert_dtype, args, **kwds)\u001b[0m\n\u001b[0;32m   4136\u001b[0m             \u001b[1;32melse\u001b[0m\u001b[1;33m:\u001b[0m\u001b[1;33m\u001b[0m\u001b[1;33m\u001b[0m\u001b[0m\n\u001b[0;32m   4137\u001b[0m                 \u001b[0mvalues\u001b[0m \u001b[1;33m=\u001b[0m \u001b[0mself\u001b[0m\u001b[1;33m.\u001b[0m\u001b[0mastype\u001b[0m\u001b[1;33m(\u001b[0m\u001b[0mobject\u001b[0m\u001b[1;33m)\u001b[0m\u001b[1;33m.\u001b[0m\u001b[0m_values\u001b[0m\u001b[1;33m\u001b[0m\u001b[1;33m\u001b[0m\u001b[0m\n\u001b[1;32m-> 4138\u001b[1;33m                 \u001b[0mmapped\u001b[0m \u001b[1;33m=\u001b[0m \u001b[0mlib\u001b[0m\u001b[1;33m.\u001b[0m\u001b[0mmap_infer\u001b[0m\u001b[1;33m(\u001b[0m\u001b[0mvalues\u001b[0m\u001b[1;33m,\u001b[0m \u001b[0mf\u001b[0m\u001b[1;33m,\u001b[0m \u001b[0mconvert\u001b[0m\u001b[1;33m=\u001b[0m\u001b[0mconvert_dtype\u001b[0m\u001b[1;33m)\u001b[0m\u001b[1;33m\u001b[0m\u001b[1;33m\u001b[0m\u001b[0m\n\u001b[0m\u001b[0;32m   4139\u001b[0m \u001b[1;33m\u001b[0m\u001b[0m\n\u001b[0;32m   4140\u001b[0m         \u001b[1;32mif\u001b[0m \u001b[0mlen\u001b[0m\u001b[1;33m(\u001b[0m\u001b[0mmapped\u001b[0m\u001b[1;33m)\u001b[0m \u001b[1;32mand\u001b[0m \u001b[0misinstance\u001b[0m\u001b[1;33m(\u001b[0m\u001b[0mmapped\u001b[0m\u001b[1;33m[\u001b[0m\u001b[1;36m0\u001b[0m\u001b[1;33m]\u001b[0m\u001b[1;33m,\u001b[0m \u001b[0mSeries\u001b[0m\u001b[1;33m)\u001b[0m\u001b[1;33m:\u001b[0m\u001b[1;33m\u001b[0m\u001b[1;33m\u001b[0m\u001b[0m\n",
      "\u001b[1;32mpandas\\_libs\\lib.pyx\u001b[0m in \u001b[0;36mpandas._libs.lib.map_infer\u001b[1;34m()\u001b[0m\n",
      "\u001b[1;32m<ipython-input-192-58a60c8b1d6d>\u001b[0m in \u001b[0;36mget_visit3\u001b[1;34m(subject)\u001b[0m\n\u001b[0;32m      1\u001b[0m \u001b[1;32mdef\u001b[0m \u001b[0mget_visit3\u001b[0m\u001b[1;33m(\u001b[0m\u001b[0msubject\u001b[0m\u001b[1;33m)\u001b[0m\u001b[1;33m:\u001b[0m\u001b[1;33m\u001b[0m\u001b[1;33m\u001b[0m\u001b[0m\n\u001b[0;32m      2\u001b[0m     \u001b[0mhold3\u001b[0m\u001b[1;33m=\u001b[0m \u001b[0mdescription\u001b[0m\u001b[1;33m.\u001b[0m\u001b[0mloc\u001b[0m\u001b[1;33m[\u001b[0m\u001b[1;33m(\u001b[0m\u001b[0mdescription\u001b[0m\u001b[1;33m[\u001b[0m\u001b[1;34m'Subject'\u001b[0m\u001b[1;33m]\u001b[0m \u001b[1;33m==\u001b[0m \u001b[0msubject\u001b[0m\u001b[1;33m)\u001b[0m\u001b[1;33m&\u001b[0m\u001b[1;33m(\u001b[0m\u001b[0mdescription\u001b[0m\u001b[1;33m[\u001b[0m\u001b[1;34m'Visit'\u001b[0m\u001b[1;33m]\u001b[0m\u001b[1;33m==\u001b[0m\u001b[1;36m3\u001b[0m\u001b[1;33m)\u001b[0m\u001b[1;33m]\u001b[0m\u001b[1;33m\u001b[0m\u001b[1;33m\u001b[0m\u001b[0m\n\u001b[1;32m----> 3\u001b[1;33m     \u001b[0mhold4\u001b[0m \u001b[1;33m=\u001b[0m \u001b[0mhold3\u001b[0m\u001b[1;33m.\u001b[0m\u001b[0miloc\u001b[0m\u001b[1;33m[\u001b[0m\u001b[1;36m0\u001b[0m\u001b[1;33m]\u001b[0m\u001b[1;33m\u001b[0m\u001b[1;33m\u001b[0m\u001b[0m\n\u001b[0m\u001b[0;32m      4\u001b[0m     \u001b[0mimage_id\u001b[0m \u001b[1;33m=\u001b[0m \u001b[0mhold4\u001b[0m\u001b[1;33m[\u001b[0m\u001b[1;34m'Image Data ID'\u001b[0m\u001b[1;33m]\u001b[0m\u001b[1;33m\u001b[0m\u001b[1;33m\u001b[0m\u001b[0m\n\u001b[0;32m      5\u001b[0m     \u001b[1;32mreturn\u001b[0m \u001b[0mimage_id\u001b[0m\u001b[1;33m\u001b[0m\u001b[1;33m\u001b[0m\u001b[0m\n",
      "\u001b[1;32m~\\anaconda3\\lib\\site-packages\\pandas\\core\\indexing.py\u001b[0m in \u001b[0;36m__getitem__\u001b[1;34m(self, key)\u001b[0m\n\u001b[0;32m    893\u001b[0m \u001b[1;33m\u001b[0m\u001b[0m\n\u001b[0;32m    894\u001b[0m             \u001b[0mmaybe_callable\u001b[0m \u001b[1;33m=\u001b[0m \u001b[0mcom\u001b[0m\u001b[1;33m.\u001b[0m\u001b[0mapply_if_callable\u001b[0m\u001b[1;33m(\u001b[0m\u001b[0mkey\u001b[0m\u001b[1;33m,\u001b[0m \u001b[0mself\u001b[0m\u001b[1;33m.\u001b[0m\u001b[0mobj\u001b[0m\u001b[1;33m)\u001b[0m\u001b[1;33m\u001b[0m\u001b[1;33m\u001b[0m\u001b[0m\n\u001b[1;32m--> 895\u001b[1;33m             \u001b[1;32mreturn\u001b[0m \u001b[0mself\u001b[0m\u001b[1;33m.\u001b[0m\u001b[0m_getitem_axis\u001b[0m\u001b[1;33m(\u001b[0m\u001b[0mmaybe_callable\u001b[0m\u001b[1;33m,\u001b[0m \u001b[0maxis\u001b[0m\u001b[1;33m=\u001b[0m\u001b[0maxis\u001b[0m\u001b[1;33m)\u001b[0m\u001b[1;33m\u001b[0m\u001b[1;33m\u001b[0m\u001b[0m\n\u001b[0m\u001b[0;32m    896\u001b[0m \u001b[1;33m\u001b[0m\u001b[0m\n\u001b[0;32m    897\u001b[0m     \u001b[1;32mdef\u001b[0m \u001b[0m_is_scalar_access\u001b[0m\u001b[1;33m(\u001b[0m\u001b[0mself\u001b[0m\u001b[1;33m,\u001b[0m \u001b[0mkey\u001b[0m\u001b[1;33m:\u001b[0m \u001b[0mTuple\u001b[0m\u001b[1;33m)\u001b[0m\u001b[1;33m:\u001b[0m\u001b[1;33m\u001b[0m\u001b[1;33m\u001b[0m\u001b[0m\n",
      "\u001b[1;32m~\\anaconda3\\lib\\site-packages\\pandas\\core\\indexing.py\u001b[0m in \u001b[0;36m_getitem_axis\u001b[1;34m(self, key, axis)\u001b[0m\n\u001b[0;32m   1499\u001b[0m \u001b[1;33m\u001b[0m\u001b[0m\n\u001b[0;32m   1500\u001b[0m             \u001b[1;31m# validate the location\u001b[0m\u001b[1;33m\u001b[0m\u001b[1;33m\u001b[0m\u001b[1;33m\u001b[0m\u001b[0m\n\u001b[1;32m-> 1501\u001b[1;33m             \u001b[0mself\u001b[0m\u001b[1;33m.\u001b[0m\u001b[0m_validate_integer\u001b[0m\u001b[1;33m(\u001b[0m\u001b[0mkey\u001b[0m\u001b[1;33m,\u001b[0m \u001b[0maxis\u001b[0m\u001b[1;33m)\u001b[0m\u001b[1;33m\u001b[0m\u001b[1;33m\u001b[0m\u001b[0m\n\u001b[0m\u001b[0;32m   1502\u001b[0m \u001b[1;33m\u001b[0m\u001b[0m\n\u001b[0;32m   1503\u001b[0m             \u001b[1;32mreturn\u001b[0m \u001b[0mself\u001b[0m\u001b[1;33m.\u001b[0m\u001b[0mobj\u001b[0m\u001b[1;33m.\u001b[0m\u001b[0m_ixs\u001b[0m\u001b[1;33m(\u001b[0m\u001b[0mkey\u001b[0m\u001b[1;33m,\u001b[0m \u001b[0maxis\u001b[0m\u001b[1;33m=\u001b[0m\u001b[0maxis\u001b[0m\u001b[1;33m)\u001b[0m\u001b[1;33m\u001b[0m\u001b[1;33m\u001b[0m\u001b[0m\n",
      "\u001b[1;32m~\\anaconda3\\lib\\site-packages\\pandas\\core\\indexing.py\u001b[0m in \u001b[0;36m_validate_integer\u001b[1;34m(self, key, axis)\u001b[0m\n\u001b[0;32m   1442\u001b[0m         \u001b[0mlen_axis\u001b[0m \u001b[1;33m=\u001b[0m \u001b[0mlen\u001b[0m\u001b[1;33m(\u001b[0m\u001b[0mself\u001b[0m\u001b[1;33m.\u001b[0m\u001b[0mobj\u001b[0m\u001b[1;33m.\u001b[0m\u001b[0m_get_axis\u001b[0m\u001b[1;33m(\u001b[0m\u001b[0maxis\u001b[0m\u001b[1;33m)\u001b[0m\u001b[1;33m)\u001b[0m\u001b[1;33m\u001b[0m\u001b[1;33m\u001b[0m\u001b[0m\n\u001b[0;32m   1443\u001b[0m         \u001b[1;32mif\u001b[0m \u001b[0mkey\u001b[0m \u001b[1;33m>=\u001b[0m \u001b[0mlen_axis\u001b[0m \u001b[1;32mor\u001b[0m \u001b[0mkey\u001b[0m \u001b[1;33m<\u001b[0m \u001b[1;33m-\u001b[0m\u001b[0mlen_axis\u001b[0m\u001b[1;33m:\u001b[0m\u001b[1;33m\u001b[0m\u001b[1;33m\u001b[0m\u001b[0m\n\u001b[1;32m-> 1444\u001b[1;33m             \u001b[1;32mraise\u001b[0m \u001b[0mIndexError\u001b[0m\u001b[1;33m(\u001b[0m\u001b[1;34m\"single positional indexer is out-of-bounds\"\u001b[0m\u001b[1;33m)\u001b[0m\u001b[1;33m\u001b[0m\u001b[1;33m\u001b[0m\u001b[0m\n\u001b[0m\u001b[0;32m   1445\u001b[0m \u001b[1;33m\u001b[0m\u001b[0m\n\u001b[0;32m   1446\u001b[0m     \u001b[1;31m# -------------------------------------------------------------------\u001b[0m\u001b[1;33m\u001b[0m\u001b[1;33m\u001b[0m\u001b[1;33m\u001b[0m\u001b[0m\n",
      "\u001b[1;31mIndexError\u001b[0m: single positional indexer is out-of-bounds"
     ]
    }
   ],
   "source": [
    "df_3['visit_3'] = df_3['subject'].apply(get_visit3)"
   ]
  },
  {
   "cell_type": "code",
   "execution_count": 194,
   "id": "69b99f74",
   "metadata": {},
   "outputs": [],
   "source": [
    "def get_image(subject):\n",
    "    path = 'Something/' + subject\n",
    "    image = sitk.ReadImage(path)\n",
    "    image = resample_img(image)\n",
    "    return image"
   ]
  },
  {
   "cell_type": "code",
   "execution_count": null,
   "id": "e9c4c74f",
   "metadata": {},
   "outputs": [],
   "source": [
    "get_image"
   ]
  },
  {
   "cell_type": "code",
   "execution_count": 158,
   "id": "9292b243",
   "metadata": {},
   "outputs": [
    {
     "data": {
      "text/html": [
       "<div>\n",
       "<style scoped>\n",
       "    .dataframe tbody tr th:only-of-type {\n",
       "        vertical-align: middle;\n",
       "    }\n",
       "\n",
       "    .dataframe tbody tr th {\n",
       "        vertical-align: top;\n",
       "    }\n",
       "\n",
       "    .dataframe thead th {\n",
       "        text-align: right;\n",
       "    }\n",
       "</style>\n",
       "<table border=\"1\" class=\"dataframe\">\n",
       "  <thead>\n",
       "    <tr style=\"text-align: right;\">\n",
       "      <th></th>\n",
       "      <th>subject</th>\n",
       "      <th>visit_2</th>\n",
       "    </tr>\n",
       "  </thead>\n",
       "  <tbody>\n",
       "    <tr>\n",
       "      <th>0</th>\n",
       "      <td>023_S_0855</td>\n",
       "      <td>I118987</td>\n",
       "    </tr>\n",
       "    <tr>\n",
       "      <th>1</th>\n",
       "      <td>005_S_0572</td>\n",
       "      <td>I32817</td>\n",
       "    </tr>\n",
       "    <tr>\n",
       "      <th>2</th>\n",
       "      <td>005_S_0602</td>\n",
       "      <td>I32762</td>\n",
       "    </tr>\n",
       "    <tr>\n",
       "      <th>3</th>\n",
       "      <td>027_S_1081</td>\n",
       "      <td>I47177</td>\n",
       "    </tr>\n",
       "    <tr>\n",
       "      <th>4</th>\n",
       "      <td>082_S_1256</td>\n",
       "      <td>I80880</td>\n",
       "    </tr>\n",
       "    <tr>\n",
       "      <th>...</th>\n",
       "      <td>...</td>\n",
       "      <td>...</td>\n",
       "    </tr>\n",
       "    <tr>\n",
       "      <th>114</th>\n",
       "      <td>018_S_0425</td>\n",
       "      <td>I139891</td>\n",
       "    </tr>\n",
       "    <tr>\n",
       "      <th>115</th>\n",
       "      <td>051_S_1072</td>\n",
       "      <td>I65662</td>\n",
       "    </tr>\n",
       "    <tr>\n",
       "      <th>116</th>\n",
       "      <td>012_S_1321</td>\n",
       "      <td>I73895</td>\n",
       "    </tr>\n",
       "    <tr>\n",
       "      <th>117</th>\n",
       "      <td>082_S_0928</td>\n",
       "      <td>I109533</td>\n",
       "    </tr>\n",
       "    <tr>\n",
       "      <th>118</th>\n",
       "      <td>023_S_1262</td>\n",
       "      <td>I118924</td>\n",
       "    </tr>\n",
       "  </tbody>\n",
       "</table>\n",
       "<p>119 rows × 2 columns</p>\n",
       "</div>"
      ],
      "text/plain": [
       "        subject  visit_2\n",
       "0    023_S_0855  I118987\n",
       "1    005_S_0572   I32817\n",
       "2    005_S_0602   I32762\n",
       "3    027_S_1081   I47177\n",
       "4    082_S_1256   I80880\n",
       "..          ...      ...\n",
       "114  018_S_0425  I139891\n",
       "115  051_S_1072   I65662\n",
       "116  012_S_1321   I73895\n",
       "117  082_S_0928  I109533\n",
       "118  023_S_1262  I118924\n",
       "\n",
       "[119 rows x 2 columns]"
      ]
     },
     "execution_count": 158,
     "metadata": {},
     "output_type": "execute_result"
    }
   ],
   "source": [
    "df_3"
   ]
  },
  {
   "cell_type": "code",
   "execution_count": 137,
   "id": "ecf8356b",
   "metadata": {
    "scrolled": true
   },
   "outputs": [
    {
     "data": {
      "text/html": [
       "<div>\n",
       "<style scoped>\n",
       "    .dataframe tbody tr th:only-of-type {\n",
       "        vertical-align: middle;\n",
       "    }\n",
       "\n",
       "    .dataframe tbody tr th {\n",
       "        vertical-align: top;\n",
       "    }\n",
       "\n",
       "    .dataframe thead th {\n",
       "        text-align: right;\n",
       "    }\n",
       "</style>\n",
       "<table border=\"1\" class=\"dataframe\">\n",
       "  <thead>\n",
       "    <tr style=\"text-align: right;\">\n",
       "      <th></th>\n",
       "      <th>subject</th>\n",
       "      <th>visit_2</th>\n",
       "      <th>visit_3</th>\n",
       "      <th>visit_4</th>\n",
       "      <th>group</th>\n",
       "    </tr>\n",
       "  </thead>\n",
       "  <tbody>\n",
       "    <tr>\n",
       "      <th>0</th>\n",
       "      <td>023_S_0855</td>\n",
       "      <td>I118987</td>\n",
       "      <td>I118987</td>\n",
       "      <td>I118987</td>\n",
       "      <td>MCI</td>\n",
       "    </tr>\n",
       "    <tr>\n",
       "      <th>1</th>\n",
       "      <td>005_S_0572</td>\n",
       "      <td>I32817</td>\n",
       "      <td>I32817</td>\n",
       "      <td>I32817</td>\n",
       "      <td>MCI</td>\n",
       "    </tr>\n",
       "    <tr>\n",
       "      <th>2</th>\n",
       "      <td>005_S_0602</td>\n",
       "      <td>I32762</td>\n",
       "      <td>I32762</td>\n",
       "      <td>I32762</td>\n",
       "      <td>MCI</td>\n",
       "    </tr>\n",
       "    <tr>\n",
       "      <th>3</th>\n",
       "      <td>027_S_1081</td>\n",
       "      <td>I47177</td>\n",
       "      <td>I47177</td>\n",
       "      <td>I47177</td>\n",
       "      <td>MCI</td>\n",
       "    </tr>\n",
       "    <tr>\n",
       "      <th>4</th>\n",
       "      <td>082_S_1256</td>\n",
       "      <td>I80880</td>\n",
       "      <td>I80880</td>\n",
       "      <td>I80880</td>\n",
       "      <td>MCI</td>\n",
       "    </tr>\n",
       "    <tr>\n",
       "      <th>...</th>\n",
       "      <td>...</td>\n",
       "      <td>...</td>\n",
       "      <td>...</td>\n",
       "      <td>...</td>\n",
       "      <td>...</td>\n",
       "    </tr>\n",
       "    <tr>\n",
       "      <th>114</th>\n",
       "      <td>018_S_0425</td>\n",
       "      <td>I139891</td>\n",
       "      <td>I139891</td>\n",
       "      <td>I139891</td>\n",
       "      <td>MCI</td>\n",
       "    </tr>\n",
       "    <tr>\n",
       "      <th>115</th>\n",
       "      <td>051_S_1072</td>\n",
       "      <td>I65662</td>\n",
       "      <td>I65662</td>\n",
       "      <td>I65662</td>\n",
       "      <td>MCI</td>\n",
       "    </tr>\n",
       "    <tr>\n",
       "      <th>116</th>\n",
       "      <td>012_S_1321</td>\n",
       "      <td>I73895</td>\n",
       "      <td>I73895</td>\n",
       "      <td>I73895</td>\n",
       "      <td>CN</td>\n",
       "    </tr>\n",
       "    <tr>\n",
       "      <th>117</th>\n",
       "      <td>082_S_0928</td>\n",
       "      <td>I109533</td>\n",
       "      <td>I109533</td>\n",
       "      <td>I109533</td>\n",
       "      <td>CN</td>\n",
       "    </tr>\n",
       "    <tr>\n",
       "      <th>118</th>\n",
       "      <td>023_S_1262</td>\n",
       "      <td>I118924</td>\n",
       "      <td>I118924</td>\n",
       "      <td>I118924</td>\n",
       "      <td>CN</td>\n",
       "    </tr>\n",
       "  </tbody>\n",
       "</table>\n",
       "<p>119 rows × 5 columns</p>\n",
       "</div>"
      ],
      "text/plain": [
       "        subject  visit_2  visit_3  visit_4 group\n",
       "0    023_S_0855  I118987  I118987  I118987   MCI\n",
       "1    005_S_0572   I32817   I32817   I32817   MCI\n",
       "2    005_S_0602   I32762   I32762   I32762   MCI\n",
       "3    027_S_1081   I47177   I47177   I47177   MCI\n",
       "4    082_S_1256   I80880   I80880   I80880   MCI\n",
       "..          ...      ...      ...      ...   ...\n",
       "114  018_S_0425  I139891  I139891  I139891   MCI\n",
       "115  051_S_1072   I65662   I65662   I65662   MCI\n",
       "116  012_S_1321   I73895   I73895   I73895    CN\n",
       "117  082_S_0928  I109533  I109533  I109533    CN\n",
       "118  023_S_1262  I118924  I118924  I118924    CN\n",
       "\n",
       "[119 rows x 5 columns]"
      ]
     },
     "execution_count": 137,
     "metadata": {},
     "output_type": "execute_result"
    }
   ],
   "source": [
    "df_2"
   ]
  },
  {
   "cell_type": "code",
   "execution_count": 140,
   "id": "d32a7b2a",
   "metadata": {},
   "outputs": [],
   "source": [
    "def resample_img(itk_image, out_spacing=[2.0, 2.0, 2.0]):\n",
    "    ''' This function resamples images to 2-mm isotropic voxels.\n",
    "        Parameters:\n",
    "            itk_image -- Image in simpleitk format, not a numpy array\n",
    "            out_spacing -- Space representation of each voxel\n",
    "        Returns:\n",
    "            Resulting image in simpleitk format, not a numpy array\n",
    "    '''\n",
    "    # Resample images to 2mm spacing with SimpleITK\n",
    "    original_spacing = itk_image.GetSpacing()\n",
    "    original_size = itk_image.GetSize()\n",
    "    out_size = [\n",
    "        int(np.round(original_size[0] * (original_spacing[0] / out_spacing[0]))),\n",
    "        int(np.round(original_size[1] * (original_spacing[1] / out_spacing[1]))),\n",
    "        int(np.round(original_size[2] * (original_spacing[2] / out_spacing[2])))]\n",
    "    resample = sitk.ResampleImageFilter()\n",
    "    resample.SetOutputSpacing(out_spacing)\n",
    "    resample.SetSize(out_size)\n",
    "    resample.SetOutputDirection(itk_image.GetDirection())\n",
    "    resample.SetOutputOrigin(itk_image.GetOrigin())\n",
    "    resample.SetTransform(sitk.Transform())\n",
    "    resample.SetDefaultPixelValue(itk_image.GetPixelIDValue())\n",
    "    resample.SetInterpolator(sitk.sitkBSpline)\n",
    "    return resample.Execute(itk_image)"
   ]
  },
  {
   "cell_type": "code",
   "execution_count": 180,
   "id": "5630c930",
   "metadata": {},
   "outputs": [],
   "source": [
    "CN_FOLDER = 'CN'\n",
    "MCI_FOLDER = 'MCI'\n",
    "AD_FOLDER = 'AD'"
   ]
  },
  {
   "cell_type": "code",
   "execution_count": 189,
   "id": "742dee72",
   "metadata": {},
   "outputs": [
    {
     "data": {
      "text/html": [
       "<div>\n",
       "<style scoped>\n",
       "    .dataframe tbody tr th:only-of-type {\n",
       "        vertical-align: middle;\n",
       "    }\n",
       "\n",
       "    .dataframe tbody tr th {\n",
       "        vertical-align: top;\n",
       "    }\n",
       "\n",
       "    .dataframe thead th {\n",
       "        text-align: right;\n",
       "    }\n",
       "</style>\n",
       "<table border=\"1\" class=\"dataframe\">\n",
       "  <thead>\n",
       "    <tr style=\"text-align: right;\">\n",
       "      <th></th>\n",
       "      <th>Image Data ID</th>\n",
       "      <th>Subject</th>\n",
       "      <th>Group</th>\n",
       "      <th>Sex</th>\n",
       "      <th>Age</th>\n",
       "      <th>Visit</th>\n",
       "      <th>Modality</th>\n",
       "      <th>Description</th>\n",
       "      <th>Type</th>\n",
       "      <th>Acq Date</th>\n",
       "      <th>Format</th>\n",
       "    </tr>\n",
       "  </thead>\n",
       "  <tbody>\n",
       "    <tr>\n",
       "      <th>0</th>\n",
       "      <td>I79080</td>\n",
       "      <td>136_S_1227</td>\n",
       "      <td>MCI</td>\n",
       "      <td>F</td>\n",
       "      <td>65</td>\n",
       "      <td>3</td>\n",
       "      <td>MRI</td>\n",
       "      <td>MPR; ; N3; Scaled</td>\n",
       "      <td>Processed</td>\n",
       "      <td>9/11/2007</td>\n",
       "      <td>NiFTI</td>\n",
       "    </tr>\n",
       "    <tr>\n",
       "      <th>1</th>\n",
       "      <td>I66824</td>\n",
       "      <td>136_S_1227</td>\n",
       "      <td>MCI</td>\n",
       "      <td>F</td>\n",
       "      <td>65</td>\n",
       "      <td>2</td>\n",
       "      <td>MRI</td>\n",
       "      <td>MPR; ; N3; Scaled</td>\n",
       "      <td>Processed</td>\n",
       "      <td>2/21/2007</td>\n",
       "      <td>NiFTI</td>\n",
       "    </tr>\n",
       "    <tr>\n",
       "      <th>2</th>\n",
       "      <td>I99265</td>\n",
       "      <td>136_S_1227</td>\n",
       "      <td>MCI</td>\n",
       "      <td>F</td>\n",
       "      <td>66</td>\n",
       "      <td>4</td>\n",
       "      <td>MRI</td>\n",
       "      <td>MPR; ; N3; Scaled</td>\n",
       "      <td>Processed</td>\n",
       "      <td>3/06/2008</td>\n",
       "      <td>NiFTI</td>\n",
       "    </tr>\n",
       "    <tr>\n",
       "      <th>3</th>\n",
       "      <td>I83554</td>\n",
       "      <td>136_S_0579</td>\n",
       "      <td>MCI</td>\n",
       "      <td>F</td>\n",
       "      <td>66</td>\n",
       "      <td>4</td>\n",
       "      <td>MRI</td>\n",
       "      <td>MPR; ; N3; Scaled</td>\n",
       "      <td>Processed</td>\n",
       "      <td>6/25/2007</td>\n",
       "      <td>NiFTI</td>\n",
       "    </tr>\n",
       "    <tr>\n",
       "      <th>4</th>\n",
       "      <td>I119735</td>\n",
       "      <td>136_S_0579</td>\n",
       "      <td>MCI</td>\n",
       "      <td>F</td>\n",
       "      <td>66</td>\n",
       "      <td>2</td>\n",
       "      <td>MRI</td>\n",
       "      <td>MPR-R; ; N3; Scaled_2</td>\n",
       "      <td>Processed</td>\n",
       "      <td>7/10/2006</td>\n",
       "      <td>NiFTI</td>\n",
       "    </tr>\n",
       "    <tr>\n",
       "      <th>...</th>\n",
       "      <td>...</td>\n",
       "      <td>...</td>\n",
       "      <td>...</td>\n",
       "      <td>...</td>\n",
       "      <td>...</td>\n",
       "      <td>...</td>\n",
       "      <td>...</td>\n",
       "      <td>...</td>\n",
       "      <td>...</td>\n",
       "      <td>...</td>\n",
       "      <td>...</td>\n",
       "    </tr>\n",
       "    <tr>\n",
       "      <th>415</th>\n",
       "      <td>I45126</td>\n",
       "      <td>002_S_0559</td>\n",
       "      <td>CN</td>\n",
       "      <td>M</td>\n",
       "      <td>79</td>\n",
       "      <td>2</td>\n",
       "      <td>MRI</td>\n",
       "      <td>MPR; ; N3; Scaled</td>\n",
       "      <td>Processed</td>\n",
       "      <td>6/27/2006</td>\n",
       "      <td>NiFTI</td>\n",
       "    </tr>\n",
       "    <tr>\n",
       "      <th>416</th>\n",
       "      <td>I40657</td>\n",
       "      <td>002_S_0413</td>\n",
       "      <td>CN</td>\n",
       "      <td>F</td>\n",
       "      <td>76</td>\n",
       "      <td>2</td>\n",
       "      <td>MRI</td>\n",
       "      <td>MPR; ; N3; Scaled</td>\n",
       "      <td>Processed</td>\n",
       "      <td>5/19/2006</td>\n",
       "      <td>NiFTI</td>\n",
       "    </tr>\n",
       "    <tr>\n",
       "      <th>417</th>\n",
       "      <td>I128346</td>\n",
       "      <td>002_S_0413</td>\n",
       "      <td>CN</td>\n",
       "      <td>F</td>\n",
       "      <td>77</td>\n",
       "      <td>3</td>\n",
       "      <td>MRI</td>\n",
       "      <td>MPR; ; N3; Scaled_2</td>\n",
       "      <td>Processed</td>\n",
       "      <td>11/15/2006</td>\n",
       "      <td>NiFTI</td>\n",
       "    </tr>\n",
       "    <tr>\n",
       "      <th>418</th>\n",
       "      <td>I118675</td>\n",
       "      <td>002_S_0413</td>\n",
       "      <td>CN</td>\n",
       "      <td>F</td>\n",
       "      <td>76</td>\n",
       "      <td>2</td>\n",
       "      <td>MRI</td>\n",
       "      <td>MPR; ; N3; Scaled_2</td>\n",
       "      <td>Processed</td>\n",
       "      <td>5/19/2006</td>\n",
       "      <td>NiFTI</td>\n",
       "    </tr>\n",
       "    <tr>\n",
       "      <th>419</th>\n",
       "      <td>I64551</td>\n",
       "      <td>002_S_0413</td>\n",
       "      <td>CN</td>\n",
       "      <td>F</td>\n",
       "      <td>77</td>\n",
       "      <td>4</td>\n",
       "      <td>MRI</td>\n",
       "      <td>MPR; ; N3; Scaled</td>\n",
       "      <td>Processed</td>\n",
       "      <td>6/01/2007</td>\n",
       "      <td>NiFTI</td>\n",
       "    </tr>\n",
       "  </tbody>\n",
       "</table>\n",
       "<p>420 rows × 11 columns</p>\n",
       "</div>"
      ],
      "text/plain": [
       "    Image Data ID     Subject Group Sex  Age  Visit Modality  \\\n",
       "0          I79080  136_S_1227   MCI   F   65      3      MRI   \n",
       "1          I66824  136_S_1227   MCI   F   65      2      MRI   \n",
       "2          I99265  136_S_1227   MCI   F   66      4      MRI   \n",
       "3          I83554  136_S_0579   MCI   F   66      4      MRI   \n",
       "4         I119735  136_S_0579   MCI   F   66      2      MRI   \n",
       "..            ...         ...   ...  ..  ...    ...      ...   \n",
       "415        I45126  002_S_0559    CN   M   79      2      MRI   \n",
       "416        I40657  002_S_0413    CN   F   76      2      MRI   \n",
       "417       I128346  002_S_0413    CN   F   77      3      MRI   \n",
       "418       I118675  002_S_0413    CN   F   76      2      MRI   \n",
       "419        I64551  002_S_0413    CN   F   77      4      MRI   \n",
       "\n",
       "               Description       Type    Acq Date Format  \n",
       "0        MPR; ; N3; Scaled  Processed   9/11/2007  NiFTI  \n",
       "1        MPR; ; N3; Scaled  Processed   2/21/2007  NiFTI  \n",
       "2        MPR; ; N3; Scaled  Processed   3/06/2008  NiFTI  \n",
       "3        MPR; ; N3; Scaled  Processed   6/25/2007  NiFTI  \n",
       "4    MPR-R; ; N3; Scaled_2  Processed   7/10/2006  NiFTI  \n",
       "..                     ...        ...         ...    ...  \n",
       "415      MPR; ; N3; Scaled  Processed   6/27/2006  NiFTI  \n",
       "416      MPR; ; N3; Scaled  Processed   5/19/2006  NiFTI  \n",
       "417    MPR; ; N3; Scaled_2  Processed  11/15/2006  NiFTI  \n",
       "418    MPR; ; N3; Scaled_2  Processed   5/19/2006  NiFTI  \n",
       "419      MPR; ; N3; Scaled  Processed   6/01/2007  NiFTI  \n",
       "\n",
       "[420 rows x 11 columns]"
      ]
     },
     "execution_count": 189,
     "metadata": {},
     "output_type": "execute_result"
    }
   ],
   "source": [
    "description"
   ]
  },
  {
   "cell_type": "code",
   "execution_count": 190,
   "id": "9f143651",
   "metadata": {},
   "outputs": [],
   "source": [
    "def process_and_upload(filename, path, skull_stripping=True, random_printing=False):\n",
    "    ''' Process the image name and copy the image to its\n",
    "        corresponding Google Drive folder.\n",
    "        \n",
    "        Parameters:\n",
    "            filename -- Name of the image file (.nii)\n",
    "            path -- The path were the image is located\n",
    "            skull_stripping -- Whether or not to practice skull stripping\n",
    "                               (The skull stripping method is defined in the\n",
    "                               next section)\n",
    "            random_priting -- 10% possibilities of printing a horizontal cut\n",
    "                              useful to see if the skull stripping is working\n",
    "                              as expected\n",
    "    '''\n",
    "    \n",
    "    # separte the name of the file by '_'\n",
    "    splitted_name = filename.strip().split('_')\n",
    "    # sometimes residual MacOS files appear; ignore them\n",
    "    if splitted_name[0] == '.': return\n",
    "    \n",
    "    # save the image ID\n",
    "    image_ID = splitted_name[-1][1:-4]\n",
    "    \n",
    "    # sometimes empty files appear, just ignore them\n",
    "    if image_ID == '': return\n",
    "    # transform the ID into a int64 numpy variable for indexing\n",
    "    image_ID = np.int64(image_ID)\n",
    "        \n",
    "    # with the ID, index the information we need\n",
    "    row_index = description.index[description['Image Data ID'] == image_ID].tolist()[0]\n",
    "    # obtain the corresponding row in the dataframe\n",
    "    row = description.iloc[row_index]\n",
    "    # get the label\n",
    "    label = row['Group']\n",
    "    \n",
    "    #"
   ]
  },
  {
   "cell_type": "code",
   "execution_count": 198,
   "id": "39c69bf2",
   "metadata": {},
   "outputs": [
    {
     "ename": "IndexError",
     "evalue": "list index out of range",
     "output_type": "error",
     "traceback": [
      "\u001b[1;31m---------------------------------------------------------------------------\u001b[0m",
      "\u001b[1;31mIndexError\u001b[0m                                Traceback (most recent call last)",
      "\u001b[1;32m<ipython-input-198-d1222213d4c1>\u001b[0m in \u001b[0;36m<module>\u001b[1;34m\u001b[0m\n\u001b[1;32m----> 1\u001b[1;33m \u001b[0mprocess_and_upload\u001b[0m\u001b[1;33m(\u001b[0m\u001b[1;34m'I101432.nii'\u001b[0m\u001b[1;33m,\u001b[0m\u001b[1;34m'./data-folder'\u001b[0m\u001b[1;33m)\u001b[0m\u001b[1;33m\u001b[0m\u001b[1;33m\u001b[0m\u001b[0m\n\u001b[0m",
      "\u001b[1;32m<ipython-input-190-52ddfbe49f49>\u001b[0m in \u001b[0;36mprocess_and_upload\u001b[1;34m(filename, path, skull_stripping, random_printing)\u001b[0m\n\u001b[0;32m     28\u001b[0m \u001b[1;33m\u001b[0m\u001b[0m\n\u001b[0;32m     29\u001b[0m     \u001b[1;31m# with the ID, index the information we need\u001b[0m\u001b[1;33m\u001b[0m\u001b[1;33m\u001b[0m\u001b[1;33m\u001b[0m\u001b[0m\n\u001b[1;32m---> 30\u001b[1;33m     \u001b[0mrow_index\u001b[0m \u001b[1;33m=\u001b[0m \u001b[0mdescription\u001b[0m\u001b[1;33m.\u001b[0m\u001b[0mindex\u001b[0m\u001b[1;33m[\u001b[0m\u001b[0mdescription\u001b[0m\u001b[1;33m[\u001b[0m\u001b[1;34m'Image Data ID'\u001b[0m\u001b[1;33m]\u001b[0m \u001b[1;33m==\u001b[0m \u001b[0mimage_ID\u001b[0m\u001b[1;33m]\u001b[0m\u001b[1;33m.\u001b[0m\u001b[0mtolist\u001b[0m\u001b[1;33m(\u001b[0m\u001b[1;33m)\u001b[0m\u001b[1;33m[\u001b[0m\u001b[1;36m0\u001b[0m\u001b[1;33m]\u001b[0m\u001b[1;33m\u001b[0m\u001b[1;33m\u001b[0m\u001b[0m\n\u001b[0m\u001b[0;32m     31\u001b[0m     \u001b[1;31m# obtain the corresponding row in the dataframe\u001b[0m\u001b[1;33m\u001b[0m\u001b[1;33m\u001b[0m\u001b[1;33m\u001b[0m\u001b[0m\n\u001b[0;32m     32\u001b[0m     \u001b[0mrow\u001b[0m \u001b[1;33m=\u001b[0m \u001b[0mdescription\u001b[0m\u001b[1;33m.\u001b[0m\u001b[0miloc\u001b[0m\u001b[1;33m[\u001b[0m\u001b[0mrow_index\u001b[0m\u001b[1;33m]\u001b[0m\u001b[1;33m\u001b[0m\u001b[1;33m\u001b[0m\u001b[0m\n",
      "\u001b[1;31mIndexError\u001b[0m: list index out of range"
     ]
    }
   ],
   "source": [
    "process_and_upload('I101432.nii','./data-folder')"
   ]
  },
  {
   "cell_type": "code",
   "execution_count": null,
   "id": "149109cd",
   "metadata": {},
   "outputs": [],
   "source": []
  }
 ],
 "metadata": {
  "kernelspec": {
   "display_name": "Python 3",
   "language": "python",
   "name": "python3"
  },
  "language_info": {
   "codemirror_mode": {
    "name": "ipython",
    "version": 3
   },
   "file_extension": ".py",
   "mimetype": "text/x-python",
   "name": "python",
   "nbconvert_exporter": "python",
   "pygments_lexer": "ipython3",
   "version": "3.8.8"
  }
 },
 "nbformat": 4,
 "nbformat_minor": 5
}
