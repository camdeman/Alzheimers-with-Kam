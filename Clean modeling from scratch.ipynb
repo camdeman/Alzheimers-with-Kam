{
 "cells": [
  {
   "cell_type": "code",
   "execution_count": 1,
   "metadata": {},
   "outputs": [],
   "source": [
    "import pandas as pd\n",
    "df = pd.read_csv('ADNI1_Complete_1Yr_3T_8_06_2021.csv')"
   ]
  },
  {
   "cell_type": "code",
   "execution_count": null,
   "metadata": {},
   "outputs": [],
   "source": []
  },
  {
   "cell_type": "code",
   "execution_count": 2,
   "metadata": {
    "scrolled": true
   },
   "outputs": [
    {
     "data": {
      "text/html": [
       "<div>\n",
       "<style scoped>\n",
       "    .dataframe tbody tr th:only-of-type {\n",
       "        vertical-align: middle;\n",
       "    }\n",
       "\n",
       "    .dataframe tbody tr th {\n",
       "        vertical-align: top;\n",
       "    }\n",
       "\n",
       "    .dataframe thead th {\n",
       "        text-align: right;\n",
       "    }\n",
       "</style>\n",
       "<table border=\"1\" class=\"dataframe\">\n",
       "  <thead>\n",
       "    <tr style=\"text-align: right;\">\n",
       "      <th></th>\n",
       "      <th>Image Data ID</th>\n",
       "      <th>Subject</th>\n",
       "      <th>Group</th>\n",
       "      <th>Sex</th>\n",
       "      <th>Age</th>\n",
       "      <th>Visit</th>\n",
       "      <th>Modality</th>\n",
       "      <th>Description</th>\n",
       "      <th>Type</th>\n",
       "      <th>Acq Date</th>\n",
       "      <th>Format</th>\n",
       "      <th>Downloaded</th>\n",
       "    </tr>\n",
       "  </thead>\n",
       "  <tbody>\n",
       "    <tr>\n",
       "      <th>0</th>\n",
       "      <td>I99265</td>\n",
       "      <td>136_S_1227</td>\n",
       "      <td>MCI</td>\n",
       "      <td>F</td>\n",
       "      <td>66</td>\n",
       "      <td>4</td>\n",
       "      <td>MRI</td>\n",
       "      <td>MPR; ; N3; Scaled</td>\n",
       "      <td>Processed</td>\n",
       "      <td>3/06/2008</td>\n",
       "      <td>NiFTI</td>\n",
       "      <td>8/05/2021</td>\n",
       "    </tr>\n",
       "    <tr>\n",
       "      <th>1</th>\n",
       "      <td>I79080</td>\n",
       "      <td>136_S_1227</td>\n",
       "      <td>MCI</td>\n",
       "      <td>F</td>\n",
       "      <td>65</td>\n",
       "      <td>3</td>\n",
       "      <td>MRI</td>\n",
       "      <td>MPR; ; N3; Scaled</td>\n",
       "      <td>Processed</td>\n",
       "      <td>9/11/2007</td>\n",
       "      <td>NiFTI</td>\n",
       "      <td>8/05/2021</td>\n",
       "    </tr>\n",
       "    <tr>\n",
       "      <th>2</th>\n",
       "      <td>I66824</td>\n",
       "      <td>136_S_1227</td>\n",
       "      <td>MCI</td>\n",
       "      <td>F</td>\n",
       "      <td>65</td>\n",
       "      <td>2</td>\n",
       "      <td>MRI</td>\n",
       "      <td>MPR; ; N3; Scaled</td>\n",
       "      <td>Processed</td>\n",
       "      <td>2/21/2007</td>\n",
       "      <td>NiFTI</td>\n",
       "      <td>8/05/2021</td>\n",
       "    </tr>\n",
       "    <tr>\n",
       "      <th>3</th>\n",
       "      <td>I82705</td>\n",
       "      <td>136_S_0579</td>\n",
       "      <td>MCI</td>\n",
       "      <td>F</td>\n",
       "      <td>66</td>\n",
       "      <td>3</td>\n",
       "      <td>MRI</td>\n",
       "      <td>MPR; ; N3; Scaled</td>\n",
       "      <td>Processed</td>\n",
       "      <td>1/08/2007</td>\n",
       "      <td>NiFTI</td>\n",
       "      <td>8/05/2021</td>\n",
       "    </tr>\n",
       "    <tr>\n",
       "      <th>4</th>\n",
       "      <td>I40404</td>\n",
       "      <td>136_S_0579</td>\n",
       "      <td>MCI</td>\n",
       "      <td>F</td>\n",
       "      <td>66</td>\n",
       "      <td>2</td>\n",
       "      <td>MRI</td>\n",
       "      <td>MPR-R; ; N3; Scaled</td>\n",
       "      <td>Processed</td>\n",
       "      <td>7/10/2006</td>\n",
       "      <td>NiFTI</td>\n",
       "      <td>8/05/2021</td>\n",
       "    </tr>\n",
       "  </tbody>\n",
       "</table>\n",
       "</div>"
      ],
      "text/plain": [
       "  Image Data ID     Subject Group Sex  Age  Visit Modality  \\\n",
       "0        I99265  136_S_1227   MCI   F   66      4      MRI   \n",
       "1        I79080  136_S_1227   MCI   F   65      3      MRI   \n",
       "2        I66824  136_S_1227   MCI   F   65      2      MRI   \n",
       "3        I82705  136_S_0579   MCI   F   66      3      MRI   \n",
       "4        I40404  136_S_0579   MCI   F   66      2      MRI   \n",
       "\n",
       "           Description       Type   Acq Date Format Downloaded  \n",
       "0    MPR; ; N3; Scaled  Processed  3/06/2008  NiFTI  8/05/2021  \n",
       "1    MPR; ; N3; Scaled  Processed  9/11/2007  NiFTI  8/05/2021  \n",
       "2    MPR; ; N3; Scaled  Processed  2/21/2007  NiFTI  8/05/2021  \n",
       "3    MPR; ; N3; Scaled  Processed  1/08/2007  NiFTI  8/05/2021  \n",
       "4  MPR-R; ; N3; Scaled  Processed  7/10/2006  NiFTI  8/05/2021  "
      ]
     },
     "execution_count": 2,
     "metadata": {},
     "output_type": "execute_result"
    }
   ],
   "source": [
    "df.head()"
   ]
  },
  {
   "cell_type": "code",
   "execution_count": 3,
   "metadata": {},
   "outputs": [
    {
     "data": {
      "text/html": [
       "<div>\n",
       "<style scoped>\n",
       "    .dataframe tbody tr th:only-of-type {\n",
       "        vertical-align: middle;\n",
       "    }\n",
       "\n",
       "    .dataframe tbody tr th {\n",
       "        vertical-align: top;\n",
       "    }\n",
       "\n",
       "    .dataframe thead th {\n",
       "        text-align: right;\n",
       "    }\n",
       "</style>\n",
       "<table border=\"1\" class=\"dataframe\">\n",
       "  <thead>\n",
       "    <tr style=\"text-align: right;\">\n",
       "      <th></th>\n",
       "      <th>id</th>\n",
       "    </tr>\n",
       "  </thead>\n",
       "  <tbody>\n",
       "    <tr>\n",
       "      <th>0</th>\n",
       "      <td>I99265</td>\n",
       "    </tr>\n",
       "    <tr>\n",
       "      <th>1</th>\n",
       "      <td>I79080</td>\n",
       "    </tr>\n",
       "    <tr>\n",
       "      <th>2</th>\n",
       "      <td>I66824</td>\n",
       "    </tr>\n",
       "    <tr>\n",
       "      <th>3</th>\n",
       "      <td>I82705</td>\n",
       "    </tr>\n",
       "    <tr>\n",
       "      <th>4</th>\n",
       "      <td>I40404</td>\n",
       "    </tr>\n",
       "  </tbody>\n",
       "</table>\n",
       "</div>"
      ],
      "text/plain": [
       "       id\n",
       "0  I99265\n",
       "1  I79080\n",
       "2  I66824\n",
       "3  I82705\n",
       "4  I40404"
      ]
     },
     "execution_count": 3,
     "metadata": {},
     "output_type": "execute_result"
    }
   ],
   "source": [
    "images = df['Image Data ID'].tolist()\n",
    "df_2 = pd.DataFrame()\n",
    "df_2['id'] = list(images)\n",
    "df_2.head()"
   ]
  },
  {
   "cell_type": "code",
   "execution_count": 4,
   "metadata": {},
   "outputs": [],
   "source": [
    "def get_visit(subject):\n",
    "    hold1 = df.loc[df['Image Data ID'] == subject]\n",
    "    hold2 = hold1.iloc[0]\n",
    "    visitnum = hold2['Visit']\n",
    "    return visitnum\n",
    "\n",
    "def get_Group(subject):\n",
    "    hold1 = df.loc[df['Image Data ID'] == subject]\n",
    "    hold2 = hold1.iloc[0]\n",
    "    diag = hold2['Group']\n",
    "    return diag\n",
    "\n",
    "df_2['visit'] = df_2['id'].apply(get_visit)\n",
    "df_2['diagnosis'] = df_2['id'].apply(get_Group)\n"
   ]
  },
  {
   "cell_type": "code",
   "execution_count": 5,
   "metadata": {},
   "outputs": [
    {
     "data": {
      "text/html": [
       "<div>\n",
       "<style scoped>\n",
       "    .dataframe tbody tr th:only-of-type {\n",
       "        vertical-align: middle;\n",
       "    }\n",
       "\n",
       "    .dataframe tbody tr th {\n",
       "        vertical-align: top;\n",
       "    }\n",
       "\n",
       "    .dataframe thead th {\n",
       "        text-align: right;\n",
       "    }\n",
       "</style>\n",
       "<table border=\"1\" class=\"dataframe\">\n",
       "  <thead>\n",
       "    <tr style=\"text-align: right;\">\n",
       "      <th></th>\n",
       "      <th>id</th>\n",
       "      <th>visit</th>\n",
       "      <th>diagnosis</th>\n",
       "    </tr>\n",
       "  </thead>\n",
       "  <tbody>\n",
       "    <tr>\n",
       "      <th>0</th>\n",
       "      <td>I99265</td>\n",
       "      <td>4</td>\n",
       "      <td>MCI</td>\n",
       "    </tr>\n",
       "    <tr>\n",
       "      <th>1</th>\n",
       "      <td>I79080</td>\n",
       "      <td>3</td>\n",
       "      <td>MCI</td>\n",
       "    </tr>\n",
       "    <tr>\n",
       "      <th>2</th>\n",
       "      <td>I66824</td>\n",
       "      <td>2</td>\n",
       "      <td>MCI</td>\n",
       "    </tr>\n",
       "    <tr>\n",
       "      <th>3</th>\n",
       "      <td>I82705</td>\n",
       "      <td>3</td>\n",
       "      <td>MCI</td>\n",
       "    </tr>\n",
       "    <tr>\n",
       "      <th>4</th>\n",
       "      <td>I40404</td>\n",
       "      <td>2</td>\n",
       "      <td>MCI</td>\n",
       "    </tr>\n",
       "  </tbody>\n",
       "</table>\n",
       "</div>"
      ],
      "text/plain": [
       "       id  visit diagnosis\n",
       "0  I99265      4       MCI\n",
       "1  I79080      3       MCI\n",
       "2  I66824      2       MCI\n",
       "3  I82705      3       MCI\n",
       "4  I40404      2       MCI"
      ]
     },
     "execution_count": 5,
     "metadata": {},
     "output_type": "execute_result"
    }
   ],
   "source": [
    "df_2.head()"
   ]
  },
  {
   "cell_type": "code",
   "execution_count": 6,
   "metadata": {},
   "outputs": [
    {
     "name": "stdout",
     "output_type": "stream",
     "text": [
      "Requirement already satisfied: SimpleITK in /opt/anaconda3/envs/learn-env/lib/python3.8/site-packages (2.1.0)\r\n"
     ]
    }
   ],
   "source": [
    "!pip install SimpleITK\n",
    "import SimpleITK as sitk\n",
    "def get_images(subject):\n",
    "    path = 'Something/' + subject\n",
    "    image = sitk.ReadImage(path)\n",
    "    img = sitk.GetArrayFromImage(image)\n",
    "    return img\n",
    "df_2['images'] = df_2['id'].apply(get_images)"
   ]
  },
  {
   "cell_type": "code",
   "execution_count": null,
   "metadata": {},
   "outputs": [],
   "source": []
  },
  {
   "cell_type": "code",
   "execution_count": 7,
   "metadata": {},
   "outputs": [
    {
     "data": {
      "text/plain": [
       "(170, 256, 256)"
      ]
     },
     "execution_count": 7,
     "metadata": {},
     "output_type": "execute_result"
    }
   ],
   "source": [
    "test = df_2['images']\n",
    "hold = test[3]\n",
    "hold.shape"
   ]
  },
  {
   "cell_type": "code",
   "execution_count": 8,
   "metadata": {},
   "outputs": [
    {
     "data": {
      "text/plain": [
       "<matplotlib.image.AxesImage at 0x7fe25dd980d0>"
      ]
     },
     "metadata": {},
     "output_type": "display_data"
    },
    {
     "data": {
      "image/png": "[encoded data removed]",
      "text/plain": [
       "<Figure size 432x288 with 1 Axes>"
      ]
     },
     "metadata": {
      "needs_background": "light"
     },
     "output_type": "display_data"
    }
   ],
   "source": [
    "img = hold[85]\n",
    "import matplotlib.pyplot as plt\n",
    "display(plt.imshow(img))"
   ]
  },
  {
   "cell_type": "code",
   "execution_count": 9,
   "metadata": {},
   "outputs": [
    {
     "data": {
      "text/plain": [
       "<matplotlib.image.AxesImage at 0x7fe25df7e430>"
      ]
     },
     "metadata": {},
     "output_type": "display_data"
    },
    {
     "data": {
      "image/png": "[encoded data removed]",
      "text/plain": [
       "<Figure size 432x288 with 1 Axes>"
      ]
     },
     "metadata": {
      "needs_background": "light"
     },
     "output_type": "display_data"
    }
   ],
   "source": [
    "img = hold[85]\n",
    "import matplotlib.pyplot as plt\n",
    "display(plt.imshow(img))"
   ]
  },
  {
   "cell_type": "code",
   "execution_count": 10,
   "metadata": {},
   "outputs": [],
   "source": [
    "import numpy as np\n",
    "#30-140 by 10\n",
    "def cut_set(images):\n",
    "    hold_list = []\n",
    "    i = 10\n",
    "    while i < 141:\n",
    "        hold_list.append(images[i])\n",
    "        i += 10\n",
    "    new = np.asarray(hold_list)\n",
    "    return new"
   ]
  },
  {
   "cell_type": "code",
   "execution_count": 11,
   "metadata": {},
   "outputs": [
    {
     "data": {
      "text/html": [
       "<div>\n",
       "<style scoped>\n",
       "    .dataframe tbody tr th:only-of-type {\n",
       "        vertical-align: middle;\n",
       "    }\n",
       "\n",
       "    .dataframe tbody tr th {\n",
       "        vertical-align: top;\n",
       "    }\n",
       "\n",
       "    .dataframe thead th {\n",
       "        text-align: right;\n",
       "    }\n",
       "</style>\n",
       "<table border=\"1\" class=\"dataframe\">\n",
       "  <thead>\n",
       "    <tr style=\"text-align: right;\">\n",
       "      <th></th>\n",
       "      <th>id</th>\n",
       "      <th>visit</th>\n",
       "      <th>diagnosis</th>\n",
       "      <th>images</th>\n",
       "    </tr>\n",
       "  </thead>\n",
       "  <tbody>\n",
       "    <tr>\n",
       "      <th>0</th>\n",
       "      <td>I99265</td>\n",
       "      <td>4</td>\n",
       "      <td>MCI</td>\n",
       "      <td>[[[0.0, 0.0, 0.0, 0.0, 0.0, 0.0, 0.0, 0.0, 0.0...</td>\n",
       "    </tr>\n",
       "    <tr>\n",
       "      <th>1</th>\n",
       "      <td>I79080</td>\n",
       "      <td>3</td>\n",
       "      <td>MCI</td>\n",
       "      <td>[[[0.0, 0.0, 0.0, 0.0, 0.0, 0.0, 0.0, 0.0, 0.0...</td>\n",
       "    </tr>\n",
       "    <tr>\n",
       "      <th>2</th>\n",
       "      <td>I66824</td>\n",
       "      <td>2</td>\n",
       "      <td>MCI</td>\n",
       "      <td>[[[0.0, 0.0, 0.0, 0.0, 0.0, 0.0, 0.0, 0.0, 0.0...</td>\n",
       "    </tr>\n",
       "    <tr>\n",
       "      <th>3</th>\n",
       "      <td>I82705</td>\n",
       "      <td>3</td>\n",
       "      <td>MCI</td>\n",
       "      <td>[[[0.0, 0.0, 0.0, 0.0, 0.0, 0.0, 0.0, 0.0, 0.0...</td>\n",
       "    </tr>\n",
       "    <tr>\n",
       "      <th>4</th>\n",
       "      <td>I40404</td>\n",
       "      <td>2</td>\n",
       "      <td>MCI</td>\n",
       "      <td>[[[0.0, 0.0, 0.0, 0.0, 0.0, 0.0, 0.0, 0.0, 0.0...</td>\n",
       "    </tr>\n",
       "  </tbody>\n",
       "</table>\n",
       "</div>"
      ],
      "text/plain": [
       "       id  visit diagnosis                                             images\n",
       "0  I99265      4       MCI  [[[0.0, 0.0, 0.0, 0.0, 0.0, 0.0, 0.0, 0.0, 0.0...\n",
       "1  I79080      3       MCI  [[[0.0, 0.0, 0.0, 0.0, 0.0, 0.0, 0.0, 0.0, 0.0...\n",
       "2  I66824      2       MCI  [[[0.0, 0.0, 0.0, 0.0, 0.0, 0.0, 0.0, 0.0, 0.0...\n",
       "3  I82705      3       MCI  [[[0.0, 0.0, 0.0, 0.0, 0.0, 0.0, 0.0, 0.0, 0.0...\n",
       "4  I40404      2       MCI  [[[0.0, 0.0, 0.0, 0.0, 0.0, 0.0, 0.0, 0.0, 0.0..."
      ]
     },
     "execution_count": 11,
     "metadata": {},
     "output_type": "execute_result"
    }
   ],
   "source": [
    "df_2['images'] = df_2['images'].apply(cut_set)\n",
    "df_2.head()"
   ]
  },
  {
   "cell_type": "code",
   "execution_count": 12,
   "metadata": {},
   "outputs": [
    {
     "data": {
      "text/plain": [
       "(14, 256, 256)"
      ]
     },
     "execution_count": 12,
     "metadata": {},
     "output_type": "execute_result"
    }
   ],
   "source": [
    "test = df_2['images']\n",
    "hold = test[24]\n",
    "hold.shape"
   ]
  },
  {
   "cell_type": "code",
   "execution_count": 13,
   "metadata": {},
   "outputs": [
    {
     "data": {
      "text/plain": [
       "<matplotlib.image.AxesImage at 0x7fe248ba75b0>"
      ]
     },
     "metadata": {},
     "output_type": "display_data"
    },
    {
     "data": {
      "image/png": "[encoded data removed]",
      "text/plain": [
       "<Figure size 432x288 with 1 Axes>"
      ]
     },
     "metadata": {
      "needs_background": "light"
     },
     "output_type": "display_data"
    }
   ],
   "source": [
    "img = hold[7]\n",
    "import matplotlib.pyplot as plt\n",
    "display(plt.imshow(img))"
   ]
  },
  {
   "cell_type": "code",
   "execution_count": null,
   "metadata": {},
   "outputs": [],
   "source": []
  },
  {
   "cell_type": "code",
   "execution_count": 14,
   "metadata": {},
   "outputs": [],
   "source": [
    "#images can be reduced to 128,128 as a solid standard"
   ]
  },
  {
   "cell_type": "code",
   "execution_count": 15,
   "metadata": {},
   "outputs": [],
   "source": [
    "def resize_images(images):\n",
    "    i = 0\n",
    "    hold_list = []\n",
    "    while i < 14:\n",
    "        hold1 = images[i]\n",
    "        hold2 = np.resize(hold1, (128,128))\n",
    "        hold_list.append(hold2)\n",
    "        i +=1\n",
    "    new = np.asarray(hold_list)\n",
    "    return new"
   ]
  },
  {
   "cell_type": "code",
   "execution_count": 16,
   "metadata": {},
   "outputs": [],
   "source": [
    "df_2['images'] = df_2['images'].apply(resize_images)"
   ]
  },
  {
   "cell_type": "code",
   "execution_count": 17,
   "metadata": {},
   "outputs": [],
   "source": [
    "def reshape_images(images):\n",
    "    i = 0\n",
    "    hold_list = []\n",
    "    hold_array = np.array(hold_list)\n",
    "    while i < 14:\n",
    "        hold1 = images[i]\n",
    "        hold2 = hold1.flatten()\n",
    "        hold_array = np.append(hold_array, hold2)\n",
    "        i +=1\n",
    "    return hold_array"
   ]
  },
  {
   "cell_type": "code",
   "execution_count": 18,
   "metadata": {},
   "outputs": [],
   "source": [
    "df_2['images'] = df_2['images'].apply(reshape_images)"
   ]
  },
  {
   "cell_type": "code",
   "execution_count": 19,
   "metadata": {},
   "outputs": [],
   "source": [
    "df_2.to_csv('Something/Final_df?')"
   ]
  },
  {
   "cell_type": "code",
   "execution_count": 20,
   "metadata": {},
   "outputs": [
    {
     "data": {
      "text/html": [
       "<div>\n",
       "<style scoped>\n",
       "    .dataframe tbody tr th:only-of-type {\n",
       "        vertical-align: middle;\n",
       "    }\n",
       "\n",
       "    .dataframe tbody tr th {\n",
       "        vertical-align: top;\n",
       "    }\n",
       "\n",
       "    .dataframe thead th {\n",
       "        text-align: right;\n",
       "    }\n",
       "</style>\n",
       "<table border=\"1\" class=\"dataframe\">\n",
       "  <thead>\n",
       "    <tr style=\"text-align: right;\">\n",
       "      <th></th>\n",
       "      <th>id</th>\n",
       "      <th>visit</th>\n",
       "      <th>diagnosis</th>\n",
       "      <th>images</th>\n",
       "    </tr>\n",
       "  </thead>\n",
       "  <tbody>\n",
       "    <tr>\n",
       "      <th>0</th>\n",
       "      <td>I99265</td>\n",
       "      <td>4</td>\n",
       "      <td>MCI</td>\n",
       "      <td>[0.0, 0.0, 0.0, 0.0, 0.0, 0.0, 0.0, 0.0, 0.0, ...</td>\n",
       "    </tr>\n",
       "    <tr>\n",
       "      <th>1</th>\n",
       "      <td>I79080</td>\n",
       "      <td>3</td>\n",
       "      <td>MCI</td>\n",
       "      <td>[0.0, 0.0, 0.0, 0.0, 0.0, 0.0, 0.0, 0.0, 0.0, ...</td>\n",
       "    </tr>\n",
       "    <tr>\n",
       "      <th>2</th>\n",
       "      <td>I66824</td>\n",
       "      <td>2</td>\n",
       "      <td>MCI</td>\n",
       "      <td>[0.0, 0.0, 0.0, 0.0, 0.0, 0.0, 0.0, 0.0, 0.0, ...</td>\n",
       "    </tr>\n",
       "    <tr>\n",
       "      <th>3</th>\n",
       "      <td>I82705</td>\n",
       "      <td>3</td>\n",
       "      <td>MCI</td>\n",
       "      <td>[0.0, 0.0, 0.0, 0.0, 0.0, 0.0, 0.0, 0.0, 0.0, ...</td>\n",
       "    </tr>\n",
       "    <tr>\n",
       "      <th>4</th>\n",
       "      <td>I40404</td>\n",
       "      <td>2</td>\n",
       "      <td>MCI</td>\n",
       "      <td>[0.0, 0.0, 0.0, 0.0, 0.0, 0.0, 0.0, 0.0, 0.0, ...</td>\n",
       "    </tr>\n",
       "  </tbody>\n",
       "</table>\n",
       "</div>"
      ],
      "text/plain": [
       "       id  visit diagnosis                                             images\n",
       "0  I99265      4       MCI  [0.0, 0.0, 0.0, 0.0, 0.0, 0.0, 0.0, 0.0, 0.0, ...\n",
       "1  I79080      3       MCI  [0.0, 0.0, 0.0, 0.0, 0.0, 0.0, 0.0, 0.0, 0.0, ...\n",
       "2  I66824      2       MCI  [0.0, 0.0, 0.0, 0.0, 0.0, 0.0, 0.0, 0.0, 0.0, ...\n",
       "3  I82705      3       MCI  [0.0, 0.0, 0.0, 0.0, 0.0, 0.0, 0.0, 0.0, 0.0, ...\n",
       "4  I40404      2       MCI  [0.0, 0.0, 0.0, 0.0, 0.0, 0.0, 0.0, 0.0, 0.0, ..."
      ]
     },
     "execution_count": 20,
     "metadata": {},
     "output_type": "execute_result"
    }
   ],
   "source": [
    "df_2.head()"
   ]
  },
  {
   "cell_type": "markdown",
   "metadata": {},
   "source": [
    "Due to labor of working with this data set, let's try a part 2 for this with the faved DF"
   ]
  },
  {
   "cell_type": "code",
   "execution_count": 21,
   "metadata": {},
   "outputs": [],
   "source": [
    "x = df_2['images']\n",
    "y = df_2['diagnosis']\n",
    "#22976"
   ]
  },
  {
   "cell_type": "code",
   "execution_count": 22,
   "metadata": {},
   "outputs": [],
   "source": [
    "x_array = x[0]\n",
    "i = 1\n",
    "while i < len(x):\n",
    "    x_array = np.vstack([x_array, x[i]])\n",
    "    i +=1"
   ]
  },
  {
   "cell_type": "code",
   "execution_count": 23,
   "metadata": {},
   "outputs": [
    {
     "data": {
      "text/plain": [
       "(420, 229376)"
      ]
     },
     "execution_count": 23,
     "metadata": {},
     "output_type": "execute_result"
    }
   ],
   "source": [
    "x_array.shape"
   ]
  },
  {
   "cell_type": "code",
   "execution_count": 24,
   "metadata": {},
   "outputs": [],
   "source": [
    "def to_int(string):\n",
    "    if string == 'MCI':\n",
    "        return 'AD';\n",
    "    elif string == 'AD':\n",
    "        return 'AD'\n",
    "    else:\n",
    "        return 'CN'\n",
    "y = y.apply(to_int)"
   ]
  },
  {
   "cell_type": "code",
   "execution_count": 25,
   "metadata": {},
   "outputs": [
    {
     "ename": "NameError",
     "evalue": "name 'sys' is not defined",
     "output_type": "error",
     "traceback": [
      "\u001b[0;31m---------------------------------------------------------------------------\u001b[0m",
      "\u001b[0;31mNameError\u001b[0m                                 Traceback (most recent call last)",
      "\u001b[0;32m<ipython-input-25-cbfcd6d932f8>\u001b[0m in \u001b[0;36m<module>\u001b[0;34m\u001b[0m\n\u001b[0;32m----> 1\u001b[0;31m \u001b[0mnp\u001b[0m\u001b[0;34m.\u001b[0m\u001b[0mset_printoptions\u001b[0m\u001b[0;34m(\u001b[0m\u001b[0mthreshold\u001b[0m\u001b[0;34m=\u001b[0m\u001b[0msys\u001b[0m\u001b[0;34m.\u001b[0m\u001b[0mmaxsize\u001b[0m\u001b[0;34m)\u001b[0m\u001b[0;34m\u001b[0m\u001b[0;34m\u001b[0m\u001b[0m\n\u001b[0m\u001b[1;32m      2\u001b[0m \u001b[0my\u001b[0m\u001b[0;34m\u001b[0m\u001b[0;34m\u001b[0m\u001b[0m\n",
      "\u001b[0;31mNameError\u001b[0m: name 'sys' is not defined"
     ]
    }
   ],
   "source": [
    "np.set_printoptions(threshold=sys.maxsize)\n",
    "y"
   ]
  },
  {
   "cell_type": "code",
   "execution_count": 26,
   "metadata": {},
   "outputs": [],
   "source": [
    "from sklearn.preprocessing import LabelEncoder\n",
    "target_encoder = LabelEncoder()\n",
    "target_encoder.fit(y)\n",
    "y = target_encoder.transform(y)"
   ]
  },
  {
   "cell_type": "code",
   "execution_count": null,
   "metadata": {},
   "outputs": [],
   "source": []
  },
  {
   "cell_type": "code",
   "execution_count": 27,
   "metadata": {},
   "outputs": [],
   "source": [
    "from sklearn.model_selection import train_test_split\n",
    "\n",
    "x_train, x_test, y_train, y_test = train_test_split(x_array, y, random_state = 16)"
   ]
  },
  {
   "cell_type": "code",
   "execution_count": 28,
   "metadata": {},
   "outputs": [
    {
     "data": {
      "text/plain": [
       "(315, 229376)"
      ]
     },
     "execution_count": 28,
     "metadata": {},
     "output_type": "execute_result"
    }
   ],
   "source": [
    "x_train.shape"
   ]
  },
  {
   "cell_type": "code",
   "execution_count": 29,
   "metadata": {},
   "outputs": [
    {
     "data": {
      "text/plain": [
       "array([1, 0, 0, 0, 1, 0, 1, 0, 0, 0, 0, 0, 0, 0, 1, 0, 0, 0, 0, 0, 0, 0,\n",
       "       1, 0, 0, 0, 1, 0, 1, 0, 1, 0, 0, 0, 1, 1, 1, 0, 0, 1, 1, 0, 1, 0,\n",
       "       0, 1, 0, 1, 0, 0, 0, 0, 0, 0, 1, 1, 0, 0, 1, 0, 0, 0, 0, 0, 0, 0,\n",
       "       0, 0, 0, 1, 1, 1, 1, 0, 0, 0, 1, 1, 1, 1, 1, 0, 1, 1, 1, 1, 1, 1,\n",
       "       0, 0, 0, 0, 0, 0, 0, 0, 0, 1, 0, 0, 0, 0, 1, 0, 1, 0, 0, 0, 1, 1,\n",
       "       0, 1, 0, 0, 0, 0, 1, 0, 1, 0, 0, 0, 0, 0, 1, 0, 1, 1, 1, 0, 0, 0,\n",
       "       0, 0, 0, 0, 0, 0, 1, 0, 0, 1, 0, 0, 0, 0, 0, 1, 0, 0, 0, 0, 0, 1,\n",
       "       0, 1, 0, 1, 0, 0, 1, 1, 1, 0, 0, 0, 1, 0, 0, 0, 0, 1, 0, 1, 1, 0,\n",
       "       0, 0, 0, 0, 0, 1, 0, 0, 1, 1, 0, 0, 1, 1, 1, 0, 0, 0, 0, 0, 1, 0,\n",
       "       1, 0, 0, 0, 1, 1, 1, 0, 0, 1, 0, 1, 0, 0, 0, 0, 0, 0, 0, 0, 0, 0,\n",
       "       0, 1, 0, 0, 1, 1, 1, 1, 0, 0, 0, 1, 1, 0, 0, 0, 0, 0, 0, 0, 0, 0,\n",
       "       0, 0, 0, 0, 0, 0, 0, 0, 1, 0, 0, 1, 0, 1, 0, 0, 0, 1, 0, 0, 1, 0,\n",
       "       0, 0, 0, 0, 1, 0, 1, 1, 0, 0, 1, 0, 1, 0, 1, 0, 0, 1, 0, 0, 0, 1,\n",
       "       0, 0, 1, 0, 1, 1, 0, 0, 0, 0, 0, 0, 1, 1, 0, 0, 1, 0, 1, 1, 0, 0,\n",
       "       0, 1, 0, 0, 1, 0, 0])"
      ]
     },
     "execution_count": 29,
     "metadata": {},
     "output_type": "execute_result"
    }
   ],
   "source": [
    "y_train"
   ]
  },
  {
   "cell_type": "code",
   "execution_count": 30,
   "metadata": {},
   "outputs": [
    {
     "data": {
      "text/plain": [
       "(315, 229376)"
      ]
     },
     "execution_count": 30,
     "metadata": {},
     "output_type": "execute_result"
    }
   ],
   "source": [
    "x_train.shape"
   ]
  },
  {
   "cell_type": "code",
   "execution_count": 31,
   "metadata": {},
   "outputs": [
    {
     "data": {
      "text/plain": [
       "6933529.769845128"
      ]
     },
     "execution_count": 31,
     "metadata": {},
     "output_type": "execute_result"
    }
   ],
   "source": [
    "import sys\n",
    "\n",
    "np.set_printoptions(threshold=sys.maxsize)\n",
    "x_train[11].sum()"
   ]
  },
  {
   "cell_type": "code",
   "execution_count": 32,
   "metadata": {},
   "outputs": [
    {
     "data": {
      "text/plain": [
       "numpy.ndarray"
      ]
     },
     "execution_count": 32,
     "metadata": {},
     "output_type": "execute_result"
    }
   ],
   "source": [
    "type(x_train)"
   ]
  },
  {
   "cell_type": "code",
   "execution_count": 33,
   "metadata": {},
   "outputs": [],
   "source": [
    "#AD = 80\n",
    "#MCI = 240"
   ]
  },
  {
   "cell_type": "code",
   "execution_count": 34,
   "metadata": {},
   "outputs": [],
   "source": [
    "import tensorflow as tf\n",
    "import tensorflow.keras \n",
    "from tensorflow import keras\n",
    "from tensorflow.keras.models import Sequential\n",
    "from tensorflow.keras import models\n",
    "from tensorflow.keras import layers\n",
    "from tensorflow.keras import optimizers\n",
    "from tensorflow.keras.layers import Dense, Conv2D, Dropout\n",
    "from tensorflow.keras import initializers\n",
    "from tensorflow.keras import optimizers\n",
    "model = Sequential()\n",
    "model.add(Dense(units=32,activation = 'relu',input_shape=(229376, ),kernel_initializer = initializers.RandomNormal(stddev=0.1),kernel_regularizer=keras.regularizers.l2(l2=0.01)))\n",
    "model.add(Dropout(0.2))\n",
    "model.add(Dense(units=32,activation = 'relu',kernel_initializer = initializers.RandomNormal(stddev=0.1),kernel_regularizer=keras.regularizers.l2(l2=0.01)))\n",
    "model.add(Dropout(0.2))\n",
    "model.add(Dense(units=32,activation = 'relu',kernel_initializer = initializers.RandomNormal(stddev=0.1),kernel_regularizer=keras.regularizers.l2(l2=0.01)))\n",
    "model.add(Dropout(0.2))\n",
    "model.add(Dense(units=32,activation = 'relu',kernel_initializer = initializers.RandomNormal(stddev=0.1),kernel_regularizer=keras.regularizers.l2(l2=0.01)))\n",
    "model.add(Dropout(0.2))\n",
    "model.add(Dense(units=32,activation = 'relu',kernel_initializer = initializers.RandomNormal(stddev=0.1),kernel_regularizer=keras.regularizers.l2(l2=0.01)))\n",
    "model.add(Dropout(0.2))\n",
    "model.add(Dense(units=32,activation = 'relu',kernel_initializer = initializers.RandomNormal(stddev=0.1),kernel_regularizer=keras.regularizers.l2(l2=0.01)))\n",
    "model.add(Dense(units=1, activation = 'sigmoid'))\n",
    "\n"
   ]
  },
  {
   "cell_type": "code",
   "execution_count": 35,
   "metadata": {},
   "outputs": [
    {
     "name": "stdout",
     "output_type": "stream",
     "text": [
      "Epoch 1/100\n",
      "10/10 [==============================] - 1s 99ms/step - loss: 748.8666 - accuracy: 0.1397 - val_loss: 689.2436 - val_accuracy: 0.0095\n",
      "Epoch 2/100\n",
      "10/10 [==============================] - 1s 51ms/step - loss: 666.1365 - accuracy: 0.0381 - val_loss: 631.1956 - val_accuracy: 0.0000e+00\n",
      "Epoch 3/100\n",
      "10/10 [==============================] - 0s 42ms/step - loss: 609.5876 - accuracy: 0.0127 - val_loss: 582.9595 - val_accuracy: 0.0000e+00\n",
      "Epoch 4/100\n",
      "10/10 [==============================] - 0s 48ms/step - loss: 563.2042 - accuracy: 0.0000e+00 - val_loss: 539.1576 - val_accuracy: 0.0000e+00\n",
      "Epoch 5/100\n",
      "10/10 [==============================] - 0s 45ms/step - loss: 521.3118 - accuracy: 0.0032 - val_loss: 499.5921 - val_accuracy: 0.0000e+00\n",
      "Epoch 6/100\n",
      "10/10 [==============================] - 0s 43ms/step - loss: 483.5055 - accuracy: 0.0032 - val_loss: 463.9599 - val_accuracy: 0.0000e+00\n",
      "Epoch 7/100\n",
      "10/10 [==============================] - 0s 42ms/step - loss: 449.4756 - accuracy: 0.0000e+00 - val_loss: 431.8717 - val_accuracy: 0.0000e+00\n",
      "Epoch 8/100\n",
      "10/10 [==============================] - 0s 42ms/step - loss: 418.8149 - accuracy: 0.0000e+00 - val_loss: 402.9362 - val_accuracy: 0.0000e+00\n",
      "Epoch 9/100\n",
      "10/10 [==============================] - 1s 50ms/step - loss: 391.1444 - accuracy: 0.0000e+00 - val_loss: 376.7932 - val_accuracy: 0.0000e+00\n",
      "Epoch 10/100\n",
      "10/10 [==============================] - 0s 43ms/step - loss: 366.1207 - accuracy: 0.0032 - val_loss: 353.1213 - val_accuracy: 0.0000e+00\n",
      "Epoch 11/100\n",
      "10/10 [==============================] - 0s 41ms/step - loss: 343.4397 - accuracy: 0.0000e+00 - val_loss: 331.6379 - val_accuracy: 0.0000e+00\n",
      "Epoch 12/100\n",
      "10/10 [==============================] - 1s 51ms/step - loss: 322.8350 - accuracy: 0.0000e+00 - val_loss: 312.0947 - val_accuracy: 0.0000e+00\n",
      "Epoch 13/100\n",
      "10/10 [==============================] - 0s 41ms/step - loss: 304.0725 - accuracy: 0.0000e+00 - val_loss: 294.2737 - val_accuracy: 0.0000e+00\n",
      "Epoch 14/100\n",
      "10/10 [==============================] - 0s 42ms/step - loss: 286.9430 - accuracy: 0.0000e+00 - val_loss: 277.9840 - val_accuracy: 0.0000e+00\n",
      "Epoch 15/100\n",
      "10/10 [==============================] - 0s 44ms/step - loss: 271.2706 - accuracy: 0.0000e+00 - val_loss: 263.0587 - val_accuracy: 0.0000e+00\n",
      "Epoch 16/100\n",
      "10/10 [==============================] - 0s 45ms/step - loss: 256.8951 - accuracy: 0.0032 - val_loss: 249.3501 - val_accuracy: 0.0000e+00\n",
      "Epoch 17/100\n",
      "10/10 [==============================] - 0s 43ms/step - loss: 243.6925 - accuracy: 0.0000e+00 - val_loss: 236.7479 - val_accuracy: 0.0000e+00\n",
      "Epoch 18/100\n",
      "10/10 [==============================] - 0s 45ms/step - loss: 231.5251 - accuracy: 0.0032 - val_loss: 225.1170 - val_accuracy: 0.0000e+00\n",
      "Epoch 19/100\n",
      "10/10 [==============================] - 0s 42ms/step - loss: 220.2828 - accuracy: 0.0032 - val_loss: 214.3488 - val_accuracy: 0.0000e+00\n",
      "Epoch 20/100\n",
      "10/10 [==============================] - 0s 43ms/step - loss: 209.8667 - accuracy: 0.0000e+00 - val_loss: 204.3602 - val_accuracy: 0.0000e+00\n",
      "Epoch 21/100\n",
      "10/10 [==============================] - 0s 42ms/step - loss: 200.1992 - accuracy: 0.0032 - val_loss: 195.0756 - val_accuracy: 0.0000e+00\n",
      "Epoch 22/100\n",
      "10/10 [==============================] - 0s 42ms/step - loss: 191.2005 - accuracy: 0.0000e+00 - val_loss: 186.4323 - val_accuracy: 0.0000e+00\n",
      "Epoch 23/100\n",
      "10/10 [==============================] - 0s 43ms/step - loss: 182.8152 - accuracy: 0.0000e+00 - val_loss: 178.3594 - val_accuracy: 0.0000e+00\n",
      "Epoch 24/100\n",
      "10/10 [==============================] - 0s 42ms/step - loss: 174.9764 - accuracy: 0.0000e+00 - val_loss: 170.8043 - val_accuracy: 0.0000e+00\n",
      "Epoch 25/100\n",
      "10/10 [==============================] - 0s 42ms/step - loss: 167.6322 - accuracy: 0.0000e+00 - val_loss: 163.7201 - val_accuracy: 0.0000e+00\n",
      "Epoch 26/100\n",
      "10/10 [==============================] - 0s 41ms/step - loss: 160.7419 - accuracy: 0.0000e+00 - val_loss: 157.0646 - val_accuracy: 0.0000e+00\n",
      "Epoch 27/100\n",
      "10/10 [==============================] - 0s 43ms/step - loss: 154.2643 - accuracy: 0.0000e+00 - val_loss: 150.8002 - val_accuracy: 0.0000e+00\n",
      "Epoch 28/100\n",
      "10/10 [==============================] - 0s 44ms/step - loss: 148.1590 - accuracy: 0.0000e+00 - val_loss: 144.8927 - val_accuracy: 0.0000e+00\n",
      "Epoch 29/100\n",
      "10/10 [==============================] - 0s 40ms/step - loss: 142.3977 - accuracy: 0.0000e+00 - val_loss: 139.3124 - val_accuracy: 0.0000e+00\n",
      "Epoch 30/100\n",
      "10/10 [==============================] - 0s 43ms/step - loss: 137.1429 - accuracy: 0.0000e+00 - val_loss: 134.0668 - val_accuracy: 0.0000e+00\n",
      "Epoch 31/100\n",
      "10/10 [==============================] - 0s 44ms/step - loss: 131.8436 - accuracy: 0.0000e+00 - val_loss: 129.0969 - val_accuracy: 0.0000e+00\n",
      "Epoch 32/100\n",
      "10/10 [==============================] - 0s 41ms/step - loss: 126.9817 - accuracy: 0.0000e+00 - val_loss: 124.3645 - val_accuracy: 0.0000e+00\n",
      "Epoch 33/100\n",
      "10/10 [==============================] - 0s 49ms/step - loss: 122.3523 - accuracy: 0.0000e+00 - val_loss: 119.8584 - val_accuracy: 0.0000e+00\n",
      "Epoch 34/100\n",
      "10/10 [==============================] - 0s 43ms/step - loss: 117.9625 - accuracy: 0.0000e+00 - val_loss: 115.5667 - val_accuracy: 0.0000e+00\n",
      "Epoch 35/100\n",
      "10/10 [==============================] - 0s 45ms/step - loss: 113.7395 - accuracy: 0.0000e+00 - val_loss: 111.4751 - val_accuracy: 0.0000e+00\n",
      "Epoch 36/100\n",
      "10/10 [==============================] - 0s 44ms/step - loss: 109.7298 - accuracy: 0.0000e+00 - val_loss: 107.5697 - val_accuracy: 0.0000e+00\n",
      "Epoch 37/100\n",
      "10/10 [==============================] - 0s 44ms/step - loss: 105.9027 - accuracy: 0.0000e+00 - val_loss: 103.8385 - val_accuracy: 0.0000e+00\n",
      "Epoch 38/100\n",
      "10/10 [==============================] - 0s 43ms/step - loss: 102.2465 - accuracy: 0.0000e+00 - val_loss: 100.2698 - val_accuracy: 0.0000e+00\n",
      "Epoch 39/100\n",
      "10/10 [==============================] - 0s 41ms/step - loss: 98.7446 - accuracy: 0.0000e+00 - val_loss: 96.8533 - val_accuracy: 0.0000e+00\n",
      "Epoch 40/100\n",
      "10/10 [==============================] - 0s 40ms/step - loss: 95.3913 - accuracy: 0.0000e+00 - val_loss: 93.5795 - val_accuracy: 0.0000e+00\n",
      "Epoch 41/100\n",
      "10/10 [==============================] - 0s 40ms/step - loss: 92.1783 - accuracy: 0.0000e+00 - val_loss: 90.4398 - val_accuracy: 0.0000e+00\n",
      "Epoch 42/100\n",
      "10/10 [==============================] - 0s 43ms/step - loss: 89.0961 - accuracy: 0.0000e+00 - val_loss: 87.4262 - val_accuracy: 0.0000e+00\n",
      "Epoch 43/100\n",
      "10/10 [==============================] - 0s 43ms/step - loss: 86.1330 - accuracy: 0.0000e+00 - val_loss: 84.5317 - val_accuracy: 0.0000e+00\n",
      "Epoch 44/100\n",
      "10/10 [==============================] - 0s 42ms/step - loss: 83.3285 - accuracy: 0.0000e+00 - val_loss: 81.7529 - val_accuracy: 0.0000e+00\n",
      "Epoch 45/100\n",
      "10/10 [==============================] - 0s 42ms/step - loss: 80.5635 - accuracy: 0.0000e+00 - val_loss: 79.0836 - val_accuracy: 0.0000e+00\n",
      "Epoch 46/100\n",
      "10/10 [==============================] - 0s 42ms/step - loss: 77.9368 - accuracy: 0.0000e+00 - val_loss: 76.5108 - val_accuracy: 0.0000e+00\n",
      "Epoch 47/100\n",
      "10/10 [==============================] - 0s 41ms/step - loss: 75.4071 - accuracy: 0.0000e+00 - val_loss: 74.0314 - val_accuracy: 0.0000e+00\n",
      "Epoch 48/100\n",
      "10/10 [==============================] - 0s 40ms/step - loss: 72.9667 - accuracy: 0.0000e+00 - val_loss: 71.6422 - val_accuracy: 0.0000e+00\n",
      "Epoch 49/100\n",
      "10/10 [==============================] - 0s 41ms/step - loss: 70.6151 - accuracy: 0.0000e+00 - val_loss: 69.3395 - val_accuracy: 0.0000e+00\n",
      "Epoch 50/100\n",
      "10/10 [==============================] - 0s 40ms/step - loss: 68.3483 - accuracy: 0.0000e+00 - val_loss: 67.1194 - val_accuracy: 0.0000e+00\n",
      "Epoch 51/100\n",
      "10/10 [==============================] - 0s 41ms/step - loss: 66.1665 - accuracy: 0.0000e+00 - val_loss: 64.9780 - val_accuracy: 0.0000e+00\n",
      "Epoch 52/100\n",
      "10/10 [==============================] - 0s 42ms/step - loss: 64.0578 - accuracy: 0.0000e+00 - val_loss: 62.9119 - val_accuracy: 0.0000e+00\n",
      "Epoch 53/100\n",
      "10/10 [==============================] - 0s 41ms/step - loss: 62.0233 - accuracy: 0.0000e+00 - val_loss: 60.9179 - val_accuracy: 0.0000e+00\n",
      "Epoch 54/100\n"
     ]
    },
    {
     "name": "stdout",
     "output_type": "stream",
     "text": [
      "10/10 [==============================] - 0s 40ms/step - loss: 60.0587 - accuracy: 0.0000e+00 - val_loss: 58.9926 - val_accuracy: 0.0000e+00\n",
      "Epoch 55/100\n",
      "10/10 [==============================] - 0s 44ms/step - loss: 58.1654 - accuracy: 0.0000e+00 - val_loss: 57.1334 - val_accuracy: 0.0000e+00\n",
      "Epoch 56/100\n",
      "10/10 [==============================] - 0s 43ms/step - loss: 56.3330 - accuracy: 0.0000e+00 - val_loss: 55.3374 - val_accuracy: 0.0000e+00\n",
      "Epoch 57/100\n",
      "10/10 [==============================] - 0s 48ms/step - loss: 54.5640 - accuracy: 0.0000e+00 - val_loss: 53.6021 - val_accuracy: 0.0000e+00\n",
      "Epoch 58/100\n",
      "10/10 [==============================] - 0s 44ms/step - loss: 52.8554 - accuracy: 0.0000e+00 - val_loss: 51.9256 - val_accuracy: 0.0000e+00\n",
      "Epoch 59/100\n",
      "10/10 [==============================] - 0s 40ms/step - loss: 51.2046 - accuracy: 0.0000e+00 - val_loss: 50.3047 - val_accuracy: 0.0000e+00\n",
      "Epoch 60/100\n",
      "10/10 [==============================] - 0s 42ms/step - loss: 49.6069 - accuracy: 0.0000e+00 - val_loss: 48.7374 - val_accuracy: 0.0000e+00\n",
      "Epoch 61/100\n",
      "10/10 [==============================] - 0s 47ms/step - loss: 48.0631 - accuracy: 0.0000e+00 - val_loss: 47.2218 - val_accuracy: 0.0000e+00\n",
      "Epoch 62/100\n",
      "10/10 [==============================] - 0s 39ms/step - loss: 46.5702 - accuracy: 0.0000e+00 - val_loss: 45.7562 - val_accuracy: 0.0000e+00\n",
      "Epoch 63/100\n",
      "10/10 [==============================] - 0s 39ms/step - loss: 45.1241 - accuracy: 0.0000e+00 - val_loss: 44.3387 - val_accuracy: 0.0000e+00\n",
      "Epoch 64/100\n",
      "10/10 [==============================] - 0s 40ms/step - loss: 43.7284 - accuracy: 0.0000e+00 - val_loss: 42.9675 - val_accuracy: 0.0000e+00\n",
      "Epoch 65/100\n",
      "10/10 [==============================] - 0s 39ms/step - loss: 42.3746 - accuracy: 0.0000e+00 - val_loss: 41.6411 - val_accuracy: 0.0000e+00\n",
      "Epoch 66/100\n",
      "10/10 [==============================] - 0s 39ms/step - loss: 41.0684 - accuracy: 0.0000e+00 - val_loss: 40.3579 - val_accuracy: 0.0000e+00\n",
      "Epoch 67/100\n",
      "10/10 [==============================] - 0s 40ms/step - loss: 39.8036 - accuracy: 0.0000e+00 - val_loss: 39.1162 - val_accuracy: 0.0000e+00\n",
      "Epoch 68/100\n",
      "10/10 [==============================] - 0s 42ms/step - loss: 38.5799 - accuracy: 0.0000e+00 - val_loss: 37.9286 - val_accuracy: 0.0000e+00\n",
      "Epoch 69/100\n",
      "10/10 [==============================] - 0s 41ms/step - loss: 37.4022 - accuracy: 0.0000e+00 - val_loss: 36.7613 - val_accuracy: 0.0000e+00\n",
      "Epoch 70/100\n",
      "10/10 [==============================] - 0s 50ms/step - loss: 36.2621 - accuracy: 0.0000e+00 - val_loss: 35.6429 - val_accuracy: 0.0000e+00\n",
      "Epoch 71/100\n",
      "10/10 [==============================] - 0s 42ms/step - loss: 35.1565 - accuracy: 0.0000e+00 - val_loss: 34.5542 - val_accuracy: 0.0000e+00\n",
      "Epoch 72/100\n",
      "10/10 [==============================] - 0s 46ms/step - loss: 34.0820 - accuracy: 0.0000e+00 - val_loss: 33.4979 - val_accuracy: 0.0000e+00\n",
      "Epoch 73/100\n",
      "10/10 [==============================] - 0s 44ms/step - loss: 33.0404 - accuracy: 0.0000e+00 - val_loss: 32.4749 - val_accuracy: 0.0000e+00\n",
      "Epoch 74/100\n",
      "10/10 [==============================] - 0s 44ms/step - loss: 32.0307 - accuracy: 0.0000e+00 - val_loss: 31.4844 - val_accuracy: 0.0000e+00\n",
      "Epoch 75/100\n",
      "10/10 [==============================] - 0s 42ms/step - loss: 31.0750 - accuracy: 0.0000e+00 - val_loss: 30.5513 - val_accuracy: 0.0000e+00\n",
      "Epoch 76/100\n",
      "10/10 [==============================] - 0s 42ms/step - loss: 30.1739 - accuracy: 0.0000e+00 - val_loss: 29.6988 - val_accuracy: 0.0000e+00\n",
      "Epoch 77/100\n",
      "10/10 [==============================] - 0s 40ms/step - loss: 29.3028 - accuracy: 0.0000e+00 - val_loss: 28.8087 - val_accuracy: 0.0000e+00\n",
      "Epoch 78/100\n",
      "10/10 [==============================] - 0s 39ms/step - loss: 28.4105 - accuracy: 0.0000e+00 - val_loss: 27.9224 - val_accuracy: 0.0000e+00\n",
      "Epoch 79/100\n",
      "10/10 [==============================] - 0s 40ms/step - loss: 27.5761 - accuracy: 0.0000e+00 - val_loss: 27.1873 - val_accuracy: 0.0000e+00\n",
      "Epoch 80/100\n",
      "10/10 [==============================] - 0s 40ms/step - loss: 26.8602 - accuracy: 0.0000e+00 - val_loss: 26.4283 - val_accuracy: 0.0000e+00\n",
      "Epoch 81/100\n",
      "10/10 [==============================] - 0s 40ms/step - loss: 26.0680 - accuracy: 0.0000e+00 - val_loss: 25.6113 - val_accuracy: 0.0000e+00\n",
      "Epoch 82/100\n",
      "10/10 [==============================] - 0s 45ms/step - loss: 25.2524 - accuracy: 0.0000e+00 - val_loss: 24.8051 - val_accuracy: 0.0000e+00\n",
      "Epoch 83/100\n",
      "10/10 [==============================] - 0s 41ms/step - loss: 24.4588 - accuracy: 0.0000e+00 - val_loss: 24.0284 - val_accuracy: 0.0000e+00\n",
      "Epoch 84/100\n",
      "10/10 [==============================] - 0s 47ms/step - loss: 23.6966 - accuracy: 0.0000e+00 - val_loss: 23.2830 - val_accuracy: 0.0000e+00\n",
      "Epoch 85/100\n",
      "10/10 [==============================] - 0s 41ms/step - loss: 22.9629 - accuracy: 0.0000e+00 - val_loss: 22.5670 - val_accuracy: 0.0000e+00\n",
      "Epoch 86/100\n",
      "10/10 [==============================] - 0s 47ms/step - loss: 22.2586 - accuracy: 0.0000e+00 - val_loss: 21.8778 - val_accuracy: 0.0000e+00\n",
      "Epoch 87/100\n",
      "10/10 [==============================] - 0s 38ms/step - loss: 21.5814 - accuracy: 0.0000e+00 - val_loss: 21.2135 - val_accuracy: 0.0000e+00\n",
      "Epoch 88/100\n",
      "10/10 [==============================] - 0s 39ms/step - loss: 20.9274 - accuracy: 0.0000e+00 - val_loss: 20.5723 - val_accuracy: 0.0000e+00\n",
      "Epoch 89/100\n",
      "10/10 [==============================] - 0s 38ms/step - loss: 20.2967 - accuracy: 0.0000e+00 - val_loss: 19.9529 - val_accuracy: 0.0000e+00\n",
      "Epoch 90/100\n",
      "10/10 [==============================] - 0s 38ms/step - loss: 19.6863 - accuracy: 0.0000e+00 - val_loss: 19.3543 - val_accuracy: 0.0000e+00\n",
      "Epoch 91/100\n",
      "10/10 [==============================] - 0s 38ms/step - loss: 19.0963 - accuracy: 0.0000e+00 - val_loss: 18.7755 - val_accuracy: 0.0000e+00\n",
      "Epoch 92/100\n",
      "10/10 [==============================] - 0s 38ms/step - loss: 18.5272 - accuracy: 0.0000e+00 - val_loss: 18.2157 - val_accuracy: 0.0000e+00\n",
      "Epoch 93/100\n",
      "10/10 [==============================] - 0s 42ms/step - loss: 17.9733 - accuracy: 0.0000e+00 - val_loss: 17.6741 - val_accuracy: 0.0000e+00\n",
      "Epoch 94/100\n",
      "10/10 [==============================] - 0s 41ms/step - loss: 17.4491 - accuracy: 0.0000e+00 - val_loss: 17.1499 - val_accuracy: 0.0000e+00\n",
      "Epoch 95/100\n",
      "10/10 [==============================] - 0s 43ms/step - loss: 16.9228 - accuracy: 0.0000e+00 - val_loss: 16.6427 - val_accuracy: 0.0000e+00\n",
      "Epoch 96/100\n",
      "10/10 [==============================] - 0s 40ms/step - loss: 16.4240 - accuracy: 0.0000e+00 - val_loss: 16.1517 - val_accuracy: 0.0000e+00\n",
      "Epoch 97/100\n",
      "10/10 [==============================] - 0s 46ms/step - loss: 15.9409 - accuracy: 0.0000e+00 - val_loss: 15.6763 - val_accuracy: 0.0000e+00\n",
      "Epoch 98/100\n",
      "10/10 [==============================] - 0s 46ms/step - loss: 15.4720 - accuracy: 0.0000e+00 - val_loss: 15.2159 - val_accuracy: 0.0000e+00\n",
      "Epoch 99/100\n",
      "10/10 [==============================] - 0s 40ms/step - loss: 15.1444 - accuracy: 0.0000e+00 - val_loss: 14.7712 - val_accuracy: 0.0000e+00\n",
      "Epoch 100/100\n",
      "10/10 [==============================] - 0s 42ms/step - loss: 14.5761 - accuracy: 0.0000e+00 - val_loss: 14.3441 - val_accuracy: 0.0000e+00\n"
     ]
    }
   ],
   "source": [
    "model.compile(loss='binary_crossentropy',\n",
    "              optimizer='adam',\n",
    "              metrics=['Accuracy'])\n",
    "history = model.fit(x_train, y_train, epochs=100,\n",
    "                    validation_data=(x_test, y_test))"
   ]
  },
  {
   "cell_type": "code",
   "execution_count": 36,
   "metadata": {},
   "outputs": [],
   "source": [
    "from sklearn.metrics import plot_confusion_matrix\n",
    "from sklearn.base import ClassifierMixin\n",
    "\n",
    "class SKWrapper(ClassifierMixin):\n",
    "    \n",
    "    def __init__(self, model):\n",
    "        self.model = model\n",
    "        self.classes = classes\n",
    "    def predict(self, X):\n",
    "        return (self.model.predict(X) > .5).astype(int)\n"
   ]
  },
  {
   "cell_type": "code",
   "execution_count": 37,
   "metadata": {},
   "outputs": [],
   "source": [
    "check = model.predict(x_train)"
   ]
  },
  {
   "cell_type": "code",
   "execution_count": 38,
   "metadata": {},
   "outputs": [
    {
     "data": {
      "text/plain": [
       "array([[0.32224905],\n",
       "       [0.32224905],\n",
       "       [0.32224905],\n",
       "       [0.32224905],\n",
       "       [0.32224905],\n",
       "       [0.32224905],\n",
       "       [0.32224905],\n",
       "       [0.32224905],\n",
       "       [0.32224905],\n",
       "       [0.32224905],\n",
       "       [0.32224905],\n",
       "       [0.32224905],\n",
       "       [0.32224905],\n",
       "       [0.32224905],\n",
       "       [0.32224905],\n",
       "       [0.32224905],\n",
       "       [0.32224905],\n",
       "       [0.32224905],\n",
       "       [0.32224905],\n",
       "       [0.32224905],\n",
       "       [0.32224905],\n",
       "       [0.32224905],\n",
       "       [0.32224905],\n",
       "       [0.32224905],\n",
       "       [0.32224905],\n",
       "       [0.32224905],\n",
       "       [0.32224905],\n",
       "       [0.32224905],\n",
       "       [0.32224905],\n",
       "       [0.32224905],\n",
       "       [0.32224905],\n",
       "       [0.32224905],\n",
       "       [0.32224905],\n",
       "       [0.32224905],\n",
       "       [0.32224905],\n",
       "       [0.32224905],\n",
       "       [0.32224905],\n",
       "       [0.32224905],\n",
       "       [0.32224905],\n",
       "       [0.32224905],\n",
       "       [0.32224905],\n",
       "       [0.32224905],\n",
       "       [0.32224905],\n",
       "       [0.32224905],\n",
       "       [0.32224905],\n",
       "       [0.32224905],\n",
       "       [0.32224905],\n",
       "       [0.32224905],\n",
       "       [0.32224905],\n",
       "       [0.32224905],\n",
       "       [0.32224905],\n",
       "       [0.32224905],\n",
       "       [0.32224905],\n",
       "       [0.32224905],\n",
       "       [0.32224905],\n",
       "       [0.32224905],\n",
       "       [0.32224905],\n",
       "       [0.32224905],\n",
       "       [0.32224905],\n",
       "       [0.32224905],\n",
       "       [0.32224905],\n",
       "       [0.32224905],\n",
       "       [0.32224905],\n",
       "       [0.32224905],\n",
       "       [0.32224905],\n",
       "       [0.32224905],\n",
       "       [0.32224905],\n",
       "       [0.32224905],\n",
       "       [0.32224905],\n",
       "       [0.32224905],\n",
       "       [0.32224905],\n",
       "       [0.32224905],\n",
       "       [0.32224905],\n",
       "       [0.32224905],\n",
       "       [0.32224905],\n",
       "       [0.32224905],\n",
       "       [0.32224905],\n",
       "       [0.32224905],\n",
       "       [0.32224905],\n",
       "       [0.32224905],\n",
       "       [0.32224905],\n",
       "       [0.32224905],\n",
       "       [0.32224905],\n",
       "       [0.32224905],\n",
       "       [0.32224905],\n",
       "       [0.32224905],\n",
       "       [0.32224905],\n",
       "       [0.32224905],\n",
       "       [0.32224905],\n",
       "       [0.32224905],\n",
       "       [0.32224905],\n",
       "       [0.32224905],\n",
       "       [0.32224905],\n",
       "       [0.32224905],\n",
       "       [0.32224905],\n",
       "       [0.32224905],\n",
       "       [0.32224905],\n",
       "       [0.32224905],\n",
       "       [0.32224905],\n",
       "       [0.32224905],\n",
       "       [0.32224905],\n",
       "       [0.32224905],\n",
       "       [0.32224905],\n",
       "       [0.32224905],\n",
       "       [0.32224905],\n",
       "       [0.32224905],\n",
       "       [0.32224905],\n",
       "       [0.32224905],\n",
       "       [0.32224905],\n",
       "       [0.32224905],\n",
       "       [0.32224905],\n",
       "       [0.32224905],\n",
       "       [0.32224905],\n",
       "       [0.32224905],\n",
       "       [0.32224905],\n",
       "       [0.32224905],\n",
       "       [0.32224905],\n",
       "       [0.32224905],\n",
       "       [0.32224905],\n",
       "       [0.32224905],\n",
       "       [0.32224905],\n",
       "       [0.32224905],\n",
       "       [0.32224905],\n",
       "       [0.32224905],\n",
       "       [0.32224905],\n",
       "       [0.32224905],\n",
       "       [0.32224905],\n",
       "       [0.32224905],\n",
       "       [0.32224905],\n",
       "       [0.32224905],\n",
       "       [0.32224905],\n",
       "       [0.32224905],\n",
       "       [0.32224905],\n",
       "       [0.32224905],\n",
       "       [0.32224905],\n",
       "       [0.32224905],\n",
       "       [0.32224905],\n",
       "       [0.32224905],\n",
       "       [0.32224905],\n",
       "       [0.32224905],\n",
       "       [0.32224905],\n",
       "       [0.32224905],\n",
       "       [0.32224905],\n",
       "       [0.32224905],\n",
       "       [0.32224905],\n",
       "       [0.32224905],\n",
       "       [0.32224905],\n",
       "       [0.32224905],\n",
       "       [0.32224905],\n",
       "       [0.32224905],\n",
       "       [0.32224905],\n",
       "       [0.32224905],\n",
       "       [0.32224905],\n",
       "       [0.32224905],\n",
       "       [0.32224905],\n",
       "       [0.32224905],\n",
       "       [0.32224905],\n",
       "       [0.32224905],\n",
       "       [0.32224905],\n",
       "       [0.32224905],\n",
       "       [0.32224905],\n",
       "       [0.32224905],\n",
       "       [0.32224905],\n",
       "       [0.32224905],\n",
       "       [0.32224905],\n",
       "       [0.32224905],\n",
       "       [0.32224905],\n",
       "       [0.32224905],\n",
       "       [0.32224905],\n",
       "       [0.32224905],\n",
       "       [0.32224905],\n",
       "       [0.32224905],\n",
       "       [0.32224905],\n",
       "       [0.32224905],\n",
       "       [0.32224905],\n",
       "       [0.32224905],\n",
       "       [0.32224905],\n",
       "       [0.32224905],\n",
       "       [0.32224905],\n",
       "       [0.32224905],\n",
       "       [0.32224905],\n",
       "       [0.32224905],\n",
       "       [0.32224905],\n",
       "       [0.32224905],\n",
       "       [0.32224905],\n",
       "       [0.32224905],\n",
       "       [0.32224905],\n",
       "       [0.32224905],\n",
       "       [0.32224905],\n",
       "       [0.32224905],\n",
       "       [0.32224905],\n",
       "       [0.32224905],\n",
       "       [0.32224905],\n",
       "       [0.32224905],\n",
       "       [0.32224905],\n",
       "       [0.32224905],\n",
       "       [0.32224905],\n",
       "       [0.32224905],\n",
       "       [0.32224905],\n",
       "       [0.32224905],\n",
       "       [0.32224905],\n",
       "       [0.32224905],\n",
       "       [0.32224905],\n",
       "       [0.32224905],\n",
       "       [0.32224905],\n",
       "       [0.32224905],\n",
       "       [0.32224905],\n",
       "       [0.32224905],\n",
       "       [0.32224905],\n",
       "       [0.32224905],\n",
       "       [0.32224905],\n",
       "       [0.32224905],\n",
       "       [0.32224905],\n",
       "       [0.32224905],\n",
       "       [0.32224905],\n",
       "       [0.32224905],\n",
       "       [0.32224905],\n",
       "       [0.32224905],\n",
       "       [0.32224905],\n",
       "       [0.32224905],\n",
       "       [0.32224905],\n",
       "       [0.32224905],\n",
       "       [0.32224905],\n",
       "       [0.32224905],\n",
       "       [0.32224905],\n",
       "       [0.32224905],\n",
       "       [0.32224905],\n",
       "       [0.32224905],\n",
       "       [0.32224905],\n",
       "       [0.32224905],\n",
       "       [0.32224905],\n",
       "       [0.32224905],\n",
       "       [0.32224905],\n",
       "       [0.32224905],\n",
       "       [0.32224905],\n",
       "       [0.32224905],\n",
       "       [0.32224905],\n",
       "       [0.32224905],\n",
       "       [0.32224905],\n",
       "       [0.32224905],\n",
       "       [0.32224905],\n",
       "       [0.32224905],\n",
       "       [0.32224905],\n",
       "       [0.32224905],\n",
       "       [0.32224905],\n",
       "       [0.32224905],\n",
       "       [0.32224905],\n",
       "       [0.32224905],\n",
       "       [0.32224905],\n",
       "       [0.32224905],\n",
       "       [0.32224905],\n",
       "       [0.32224905],\n",
       "       [0.32224905],\n",
       "       [0.32224905],\n",
       "       [0.32224905],\n",
       "       [0.32224905],\n",
       "       [0.32224905],\n",
       "       [0.32224905],\n",
       "       [0.32224905],\n",
       "       [0.32224905],\n",
       "       [0.32224905],\n",
       "       [0.32224905],\n",
       "       [0.32224905],\n",
       "       [0.32224905],\n",
       "       [0.32224905],\n",
       "       [0.32224905],\n",
       "       [0.32224905],\n",
       "       [0.32224905],\n",
       "       [0.32224905],\n",
       "       [0.32224905],\n",
       "       [0.32224905],\n",
       "       [0.32224905],\n",
       "       [0.32224905],\n",
       "       [0.32224905],\n",
       "       [0.32224905],\n",
       "       [0.32224905],\n",
       "       [0.32224905],\n",
       "       [0.32224905],\n",
       "       [0.32224905],\n",
       "       [0.32224905],\n",
       "       [0.32224905],\n",
       "       [0.32224905],\n",
       "       [0.32224905],\n",
       "       [0.32224905],\n",
       "       [0.32224905],\n",
       "       [0.32224905],\n",
       "       [0.32224905],\n",
       "       [0.32224905],\n",
       "       [0.32224905],\n",
       "       [0.32224905],\n",
       "       [0.32224905],\n",
       "       [0.32224905],\n",
       "       [0.32224905],\n",
       "       [0.32224905],\n",
       "       [0.32224905],\n",
       "       [0.32224905],\n",
       "       [0.32224905],\n",
       "       [0.32224905],\n",
       "       [0.32224905],\n",
       "       [0.32224905],\n",
       "       [0.32224905],\n",
       "       [0.32224905],\n",
       "       [0.32224905],\n",
       "       [0.32224905],\n",
       "       [0.32224905],\n",
       "       [0.32224905],\n",
       "       [0.32224905],\n",
       "       [0.32224905],\n",
       "       [0.32224905],\n",
       "       [0.32224905],\n",
       "       [0.32224905],\n",
       "       [0.32224905],\n",
       "       [0.32224905],\n",
       "       [0.32224905],\n",
       "       [0.32224905]], dtype=float32)"
      ]
     },
     "execution_count": 38,
     "metadata": {},
     "output_type": "execute_result"
    }
   ],
   "source": [
    "check"
   ]
  },
  {
   "cell_type": "code",
   "execution_count": null,
   "metadata": {},
   "outputs": [],
   "source": [
    "#compressing images more led to faster calcs and removed issue of naive prediction, this may be usable\n",
    "#issues to adress: adjust learning rate, start from a random spot, make use of drop out, switch to cnn, imvestigate adressing the target variable"
   ]
  },
  {
   "cell_type": "code",
   "execution_count": null,
   "metadata": {},
   "outputs": [],
   "source": [
    "10/10 [=============================] - 1s 63ms/step - loss: 0.6087 - recall: 0.0571 - val_loss: 0.6265 - val_recall: 0.5143"
   ]
  },
  {
   "cell_type": "markdown",
   "metadata": {},
   "source": [
    "Right now there's a major issue in the model's prediction's being naive, and always predicting the same thing. To test this out let's try simplifying and building up the model slowly "
   ]
  },
  {
   "cell_type": "code",
   "execution_count": null,
   "metadata": {},
   "outputs": [],
   "source": [
    "simplehold = df_2.loc[(df_2['diagnosis'] == 'AD')|(df_2['diagnosis']=='MCI')]"
   ]
  },
  {
   "cell_type": "code",
   "execution_count": null,
   "metadata": {},
   "outputs": [],
   "source": [
    "simplehold2 = simplehold.iloc[:50,:]"
   ]
  },
  {
   "cell_type": "code",
   "execution_count": null,
   "metadata": {},
   "outputs": [],
   "source": [
    "x = simplehold2['images']\n",
    "y = simplehold2['diagnosis']\n",
    "\n",
    "x_array = x.iloc[0]\n",
    "i = 1\n",
    "while i < len(x):\n",
    "    x_array = np.vstack([x_array, x.iloc[i]])\n",
    "    i +=1"
   ]
  },
  {
   "cell_type": "code",
   "execution_count": null,
   "metadata": {},
   "outputs": [],
   "source": [
    "x_array.shape"
   ]
  },
  {
   "cell_type": "code",
   "execution_count": null,
   "metadata": {},
   "outputs": [],
   "source": [
    "def to_int(string):\n",
    "    if string == 'MCI':\n",
    "        return 'AD';\n",
    "    elif string == 'AD':\n",
    "        return 'AD'\n",
    "    else:\n",
    "        return 'CN'\n",
    "y = y.apply(to_int)"
   ]
  },
  {
   "cell_type": "code",
   "execution_count": null,
   "metadata": {},
   "outputs": [],
   "source": [
    "y"
   ]
  },
  {
   "cell_type": "code",
   "execution_count": null,
   "metadata": {},
   "outputs": [],
   "source": [
    "from sklearn.preprocessing import LabelEncoder\n",
    "target_encoder = LabelEncoder()\n",
    "target_encoder.fit(y)\n",
    "y = target_encoder.transform(y)"
   ]
  },
  {
   "cell_type": "code",
   "execution_count": null,
   "metadata": {},
   "outputs": [],
   "source": [
    "y"
   ]
  },
  {
   "cell_type": "code",
   "execution_count": null,
   "metadata": {},
   "outputs": [],
   "source": [
    "from sklearn.model_selection import train_test_split\n",
    "\n",
    "x_train, x_test, y_train, y_test = train_test_split(x_array, y, random_state = 42)"
   ]
  },
  {
   "cell_type": "code",
   "execution_count": null,
   "metadata": {},
   "outputs": [],
   "source": [
    "model = Sequential()\n",
    "model.add(Dense(units=32,activation = 'relu',input_shape=(677600, ),kernel_initializer = initializers.RandomNormal(stddev=0.1),kernel_regularizer=keras.regularizers.l2(l2=0.01)))\n",
    "model.add(Dropout(0.2))\n",
    "model.add(Dense(units=32,activation = 'relu',kernel_initializer = initializers.RandomNormal(stddev=0.1),kernel_regularizer=keras.regularizers.l2(l2=0.01)))\n",
    "model.add(Dropout(0.2))\n",
    "model.add(Dense(units=32,activation = 'relu',kernel_initializer = initializers.RandomNormal(stddev=0.1),kernel_regularizer=keras.regularizers.l2(l2=0.01)))\n",
    "model.add(Dropout(0.2))\n",
    "model.add(Dense(units=32,activation = 'relu',kernel_initializer = initializers.RandomNormal(stddev=0.1),kernel_regularizer=keras.regularizers.l2(l2=0.01)))\n",
    "model.add(Dropout(0.2))\n",
    "model.add(Dense(units=32,activation = 'relu',kernel_initializer = initializers.RandomNormal(stddev=0.1),kernel_regularizer=keras.regularizers.l2(l2=0.01)))\n",
    "model.add(Dropout(0.2))\n",
    "model.add(Dense(units=32,activation = 'relu',kernel_initializer = initializers.RandomNormal(stddev=0.1),kernel_regularizer=keras.regularizers.l2(l2=0.01)))\n",
    "model.add(Dense(units=1, activation = 'sigmoid'))\n",
    "\n"
   ]
  },
  {
   "cell_type": "code",
   "execution_count": null,
   "metadata": {},
   "outputs": [],
   "source": [
    "model.compile(loss='binary_crossentropy',\n",
    "              optimizer='adam',\n",
    "              metrics=['Accuracy'])\n",
    "history = model.fit(x_train, y_train, epochs=50,\n",
    "                    validation_data=(x_test, y_test))"
   ]
  },
  {
   "cell_type": "markdown",
   "metadata": {},
   "source": [
    "This super simple model only has 1 class so should be perfect, which it is. Less try adding in 50 people who are fine and see how it adapts"
   ]
  },
  {
   "cell_type": "code",
   "execution_count": null,
   "metadata": {},
   "outputs": [],
   "source": [
    "simplehold3 = df_2.loc[(df_2['diagnosis'] == 'CN')]\n",
    "simplehold4 = simplehold3.iloc[:50,:]\n",
    "simplehold5 = simplehold2.append(simplehold4)\n",
    "simplehold5"
   ]
  },
  {
   "cell_type": "code",
   "execution_count": null,
   "metadata": {},
   "outputs": [],
   "source": [
    "x = simplehold5['images']\n",
    "y = simplehold5['diagnosis']\n",
    "\n",
    "x_array = x.iloc[0]\n",
    "i = 1\n",
    "while i < len(x):\n",
    "    x_array = np.vstack([x_array, x.iloc[i]])\n",
    "    i +=1"
   ]
  },
  {
   "cell_type": "code",
   "execution_count": null,
   "metadata": {},
   "outputs": [],
   "source": [
    "def to_int(string):\n",
    "    if string == 'MCI':\n",
    "        return 'AD';\n",
    "    elif string == 'AD':\n",
    "        return 'AD'\n",
    "    else:\n",
    "        return 'CN'\n",
    "y = y.apply(to_int)"
   ]
  },
  {
   "cell_type": "code",
   "execution_count": null,
   "metadata": {},
   "outputs": [],
   "source": [
    "from sklearn.preprocessing import LabelEncoder\n",
    "target_encoder = LabelEncoder()\n",
    "target_encoder.fit(y)\n",
    "y = target_encoder.transform(y)"
   ]
  },
  {
   "cell_type": "code",
   "execution_count": null,
   "metadata": {},
   "outputs": [],
   "source": [
    "from sklearn.model_selection import train_test_split\n",
    "\n",
    "x_train, x_test, y_train, y_test = train_test_split(x_array, y, random_state = 42)"
   ]
  },
  {
   "cell_type": "code",
   "execution_count": null,
   "metadata": {},
   "outputs": [],
   "source": [
    "model = Sequential()\n",
    "model.add(Dense(units=32,activation = 'relu',input_shape=(229376, ),kernel_initializer = initializers.RandomNormal(stddev=0.1),kernel_regularizer=keras.regularizers.l2(l2=0.01)))\n",
    "model.add(Dropout(0.2))\n",
    "model.add(Dense(units=32,activation = 'relu',kernel_initializer = initializers.RandomNormal(stddev=0.1),kernel_regularizer=keras.regularizers.l2(l2=0.01)))\n",
    "model.add(Dropout(0.2))\n",
    "model.add(Dense(units=32,activation = 'relu',kernel_initializer = initializers.RandomNormal(stddev=0.1),kernel_regularizer=keras.regularizers.l2(l2=0.01)))\n",
    "model.add(Dropout(0.2))\n",
    "model.add(Dense(units=32,activation = 'relu',kernel_initializer = initializers.RandomNormal(stddev=0.1),kernel_regularizer=keras.regularizers.l2(l2=0.01)))\n",
    "model.add(Dropout(0.2))\n",
    "model.add(Dense(units=32,activation = 'relu',kernel_initializer = initializers.RandomNormal(stddev=0.1),kernel_regularizer=keras.regularizers.l2(l2=0.01)))\n",
    "model.add(Dropout(0.2))\n",
    "model.add(Dense(units=32,activation = 'relu',kernel_initializer = initializers.RandomNormal(stddev=0.1),kernel_regularizer=keras.regularizers.l2(l2=0.01)))\n",
    "model.add(Dense(units=1, activation = 'sigmoid'))\n",
    "\n"
   ]
  },
  {
   "cell_type": "code",
   "execution_count": null,
   "metadata": {},
   "outputs": [],
   "source": [
    "model.compile(loss='binary_crossentropy',\n",
    "              optimizer='adam',\n",
    "              metrics=['Accuracy'])\n",
    "history = model.fit(x_train, y_train, epochs=50,\n",
    "                    validation_data=(x_test, y_test))"
   ]
  },
  {
   "cell_type": "code",
   "execution_count": null,
   "metadata": {},
   "outputs": [],
   "source": [
    "#check = model.predict(x_train)\n"
   ]
  },
  {
   "cell_type": "markdown",
   "metadata": {},
   "source": [
    "Based on this result, I believe that this model as is simply isn't going to properly work with the data as is and I'll need to try and revisit this from another direction"
   ]
  },
  {
   "cell_type": "code",
   "execution_count": null,
   "metadata": {},
   "outputs": [],
   "source": [
    "df_2['id'] = list(images)\n",
    "df_2.head()\n",
    "def get_visit(subject):\n",
    "    hold1 = df.loc[df['Image Data ID'] == subject]\n",
    "    hold2 = hold1.iloc[0]\n",
    "    visitnum = hold2['Visit']\n",
    "    return visitnum\n",
    "\n",
    "def get_Group(subject):\n",
    "    hold1 = df.loc[df['Image Data ID'] == subject]\n",
    "    hold2 = hold1.iloc[0]\n",
    "    diag = hold2['Group']\n",
    "    return diag\n",
    "\n",
    "df_2['visit'] = df_2['id'].apply(get_visit)\n",
    "df_2['diagnosis'] = df_2['id'].apply(get_Group)\n",
    "\n"
   ]
  },
  {
   "cell_type": "markdown",
   "metadata": {},
   "source": [
    "nib is apparently a specilized package for nueroimaging, useful for this exact scenario"
   ]
  },
  {
   "cell_type": "code",
   "execution_count": null,
   "metadata": {},
   "outputs": [],
   "source": [
    "import nibabel as nib\n",
    "def get_images(subject):\n",
    "    path = 'Something/' + subject +'.nii'\n",
    "    image = nib.load(path)\n",
    "    image_data = image.get_data()\n",
    "    return image_data\n",
    "df_2['images'] = df_2['id'].apply(get_images)"
   ]
  },
  {
   "cell_type": "code",
   "execution_count": null,
   "metadata": {},
   "outputs": [],
   "source": [
    "df_2"
   ]
  },
  {
   "cell_type": "code",
   "execution_count": null,
   "metadata": {},
   "outputs": [],
   "source": [
    "hold = df_2['images']\n",
    "hold1 = hold[0]"
   ]
  },
  {
   "cell_type": "code",
   "execution_count": null,
   "metadata": {},
   "outputs": [],
   "source": [
    "hold1.shape\n"
   ]
  },
  {
   "cell_type": "code",
   "execution_count": null,
   "metadata": {},
   "outputs": [],
   "source": [
    "hold2 = hold1[128, 128, 85]\n",
    "hold2"
   ]
  },
  {
   "cell_type": "markdown",
   "metadata": {},
   "source": [
    "This data looks much more meaningful than what I was dealing with properly, we migh be onto something here, let's try adapting the previous methods to this new form. there are 256 vertical slices, for the sake of ease lets go by 10 for 20 slices, so capture 0,10,20,30,etc up to slice 200"
   ]
  },
  {
   "cell_type": "code",
   "execution_count": null,
   "metadata": {},
   "outputs": [],
   "source": [
    "import numpy as np\n",
    "#1-200 by 10\n",
    "def cut_set(images):\n",
    "    hold_list = []\n",
    "    i = 0\n",
    "    while i < 201:\n",
    "        hold_list.append(images[i,:,:])\n",
    "        i += 10\n",
    "    new = np.asarray(hold_list)\n",
    "    return new"
   ]
  },
  {
   "cell_type": "code",
   "execution_count": null,
   "metadata": {},
   "outputs": [],
   "source": [
    "df_2['images'] = df_2['images'].apply(cut_set)"
   ]
  },
  {
   "cell_type": "code",
   "execution_count": null,
   "metadata": {},
   "outputs": [],
   "source": [
    "def resize_images(images):\n",
    "    i = 0\n",
    "    hold_list = []\n",
    "    while i < 19:\n",
    "        hold1 = images[i]\n",
    "        hold2 = np.resize(hold1, (128,128))\n",
    "        hold_list.append(hold2)\n",
    "        i +=1\n",
    "    new = np.asarray(hold_list)\n",
    "    return new"
   ]
  },
  {
   "cell_type": "code",
   "execution_count": null,
   "metadata": {},
   "outputs": [],
   "source": [
    "df_2['images'] = df_2['images'].apply(resize_images)"
   ]
  },
  {
   "cell_type": "code",
   "execution_count": null,
   "metadata": {},
   "outputs": [],
   "source": [
    "def reshape_images(images):\n",
    "    i = 0\n",
    "    hold_list = []\n",
    "    hold_array = np.array(hold_list)\n",
    "    while i < 14:\n",
    "        hold1 = images[i]\n",
    "        hold2 = hold1.flatten()\n",
    "        hold_array = np.append(hold_array, hold2)\n",
    "        i +=1\n",
    "    return hold_array"
   ]
  },
  {
   "cell_type": "code",
   "execution_count": null,
   "metadata": {},
   "outputs": [],
   "source": [
    "df_2['images'] = df_2['images'].apply(reshape_images)"
   ]
  },
  {
   "cell_type": "code",
   "execution_count": null,
   "metadata": {},
   "outputs": [],
   "source": [
    "x = df_2['images']\n",
    "y = df_2['diagnosis']\n",
    "\n",
    "x_array = x.iloc[0]\n",
    "i = 1\n",
    "while i < len(x):\n",
    "    x_array = np.vstack([x_array, x.iloc[i]])\n",
    "    i +=1"
   ]
  },
  {
   "cell_type": "code",
   "execution_count": null,
   "metadata": {},
   "outputs": [],
   "source": [
    "def to_int(string):\n",
    "    if string == 'MCI':\n",
    "        return 'AD';\n",
    "    elif string == 'AD':\n",
    "        return 'AD'\n",
    "    else:\n",
    "        return 'CN'\n",
    "y = y.apply(to_int)"
   ]
  },
  {
   "cell_type": "code",
   "execution_count": null,
   "metadata": {},
   "outputs": [],
   "source": [
    "from sklearn.preprocessing import LabelEncoder\n",
    "target_encoder = LabelEncoder()\n",
    "target_encoder.fit(y)\n",
    "y = target_encoder.transform(y)"
   ]
  },
  {
   "cell_type": "code",
   "execution_count": null,
   "metadata": {},
   "outputs": [],
   "source": [
    "from sklearn.model_selection import train_test_split\n",
    "\n",
    "x_train, x_test, y_train, y_test = train_test_split(x_array, y, random_state = 42)"
   ]
  },
  {
   "cell_type": "code",
   "execution_count": null,
   "metadata": {},
   "outputs": [],
   "source": [
    "model = Sequential()\n",
    "model.add(Dense(units=32,activation = 'relu',input_shape=(229376, ),kernel_initializer = initializers.RandomNormal(stddev=0.1),kernel_regularizer=keras.regularizers.l2(l2=0.01)))\n",
    "model.add(Dropout(0.2))\n",
    "model.add(Dense(units=32,activation = 'relu',kernel_initializer = initializers.RandomNormal(stddev=0.1),kernel_regularizer=keras.regularizers.l2(l2=0.01)))\n",
    "model.add(Dropout(0.2))\n",
    "model.add(Dense(units=32,activation = 'relu',kernel_initializer = initializers.RandomNormal(stddev=0.1),kernel_regularizer=keras.regularizers.l2(l2=0.01)))\n",
    "model.add(Dropout(0.2))\n",
    "model.add(Dense(units=32,activation = 'relu',kernel_initializer = initializers.RandomNormal(stddev=0.1),kernel_regularizer=keras.regularizers.l2(l2=0.01)))\n",
    "model.add(Dropout(0.2))\n",
    "model.add(Dense(units=32,activation = 'relu',kernel_initializer = initializers.RandomNormal(stddev=0.1),kernel_regularizer=keras.regularizers.l2(l2=0.01)))\n",
    "model.add(Dropout(0.2))\n",
    "model.add(Dense(units=32,activation = 'relu',kernel_initializer = initializers.RandomNormal(stddev=0.1),kernel_regularizer=keras.regularizers.l2(l2=0.01)))\n",
    "model.add(Dense(units=1, activation = 'sigmoid'))\n",
    "\n",
    "\n"
   ]
  },
  {
   "cell_type": "code",
   "execution_count": null,
   "metadata": {},
   "outputs": [],
   "source": [
    "model.compile(loss='binary_crossentropy',\n",
    "              optimizer='adam',\n",
    "              metrics=['Accuracy'])\n",
    "history = model.fit(x_train, y_train, epochs=50,\n",
    "                    validation_data=(x_test, y_test))"
   ]
  },
  {
   "cell_type": "markdown",
   "metadata": {},
   "source": [
    "It seems to me that this model set up, with combining images and such just isn't going to work, so it'll be back to the drawing board entirely for me"
   ]
  },
  {
   "cell_type": "markdown",
   "metadata": {},
   "source": [
    "let's try going back to some of my originial work and make some adjustments for a CNN"
   ]
  },
  {
   "cell_type": "code",
   "execution_count": 39,
   "metadata": {},
   "outputs": [
    {
     "data": {
      "text/html": [
       "<div>\n",
       "<style scoped>\n",
       "    .dataframe tbody tr th:only-of-type {\n",
       "        vertical-align: middle;\n",
       "    }\n",
       "\n",
       "    .dataframe tbody tr th {\n",
       "        vertical-align: top;\n",
       "    }\n",
       "\n",
       "    .dataframe thead th {\n",
       "        text-align: right;\n",
       "    }\n",
       "</style>\n",
       "<table border=\"1\" class=\"dataframe\">\n",
       "  <thead>\n",
       "    <tr style=\"text-align: right;\">\n",
       "      <th></th>\n",
       "      <th>id</th>\n",
       "    </tr>\n",
       "  </thead>\n",
       "  <tbody>\n",
       "    <tr>\n",
       "      <th>0</th>\n",
       "      <td>I99265</td>\n",
       "    </tr>\n",
       "    <tr>\n",
       "      <th>1</th>\n",
       "      <td>I79080</td>\n",
       "    </tr>\n",
       "    <tr>\n",
       "      <th>2</th>\n",
       "      <td>I66824</td>\n",
       "    </tr>\n",
       "    <tr>\n",
       "      <th>3</th>\n",
       "      <td>I82705</td>\n",
       "    </tr>\n",
       "    <tr>\n",
       "      <th>4</th>\n",
       "      <td>I40404</td>\n",
       "    </tr>\n",
       "  </tbody>\n",
       "</table>\n",
       "</div>"
      ],
      "text/plain": [
       "       id\n",
       "0  I99265\n",
       "1  I79080\n",
       "2  I66824\n",
       "3  I82705\n",
       "4  I40404"
      ]
     },
     "execution_count": 39,
     "metadata": {},
     "output_type": "execute_result"
    }
   ],
   "source": [
    "images = df['Image Data ID'].tolist()\n",
    "df_2 = pd.DataFrame()\n",
    "df_2['id'] = list(images)\n",
    "df_2.head()"
   ]
  },
  {
   "cell_type": "code",
   "execution_count": 40,
   "metadata": {},
   "outputs": [],
   "source": [
    "def get_visit(subject):\n",
    "    hold1 = df.loc[df['Image Data ID'] == subject]\n",
    "    hold2 = hold1.iloc[0]\n",
    "    visitnum = hold2['Visit']\n",
    "    return visitnum\n",
    "\n",
    "def get_Group(subject):\n",
    "    hold1 = df.loc[df['Image Data ID'] == subject]\n",
    "    hold2 = hold1.iloc[0]\n",
    "    diag = hold2['Group']\n",
    "    return diag\n",
    "\n",
    "df_2['visit'] = df_2['id'].apply(get_visit)\n",
    "df_2['diagnosis'] = df_2['id'].apply(get_Group)\n",
    "\n"
   ]
  },
  {
   "cell_type": "code",
   "execution_count": 41,
   "metadata": {},
   "outputs": [],
   "source": [
    "import SimpleITK as sitk\n",
    "def get_images(subject):\n",
    "    path = 'Something/' + subject\n",
    "    image = sitk.ReadImage(path)\n",
    "    img = sitk.GetArrayFromImage(image)\n",
    "    return img\n",
    "df_2['images'] = df_2['id'].apply(get_images)"
   ]
  },
  {
   "cell_type": "markdown",
   "metadata": {},
   "source": [
    "This time for the sake of simplicity let's try using single images from slice 80 of each .nii file"
   ]
  },
  {
   "cell_type": "code",
   "execution_count": 42,
   "metadata": {},
   "outputs": [],
   "source": [
    "def reshape_images(images):\n",
    "    hold1 = images[81]\n",
    "    return hold1"
   ]
  },
  {
   "cell_type": "code",
   "execution_count": 43,
   "metadata": {},
   "outputs": [],
   "source": [
    "df_2['images'] = df_2['images'].apply(reshape_images)"
   ]
  },
  {
   "cell_type": "code",
   "execution_count": 44,
   "metadata": {},
   "outputs": [],
   "source": [
    "images = df_2['images']"
   ]
  },
  {
   "cell_type": "code",
   "execution_count": 45,
   "metadata": {},
   "outputs": [
    {
     "data": {
      "text/plain": [
       "(256, 256)"
      ]
     },
     "execution_count": 45,
     "metadata": {},
     "output_type": "execute_result"
    }
   ],
   "source": [
    "hold = images[0]\n",
    "hold.shape"
   ]
  },
  {
   "cell_type": "code",
   "execution_count": 46,
   "metadata": {},
   "outputs": [
    {
     "data": {
      "text/plain": [
       "<matplotlib.image.AxesImage at 0x7fe252f62820>"
      ]
     },
     "metadata": {},
     "output_type": "display_data"
    },
    {
     "data": {
      "image/png": "[encoded data removed]",
      "text/plain": [
       "<Figure size 432x288 with 1 Axes>"
      ]
     },
     "metadata": {
      "needs_background": "light"
     },
     "output_type": "display_data"
    }
   ],
   "source": [
    "display(plt.imshow(hold))"
   ]
  },
  {
   "cell_type": "code",
   "execution_count": null,
   "metadata": {},
   "outputs": [],
   "source": []
  },
  {
   "cell_type": "code",
   "execution_count": null,
   "metadata": {},
   "outputs": [],
   "source": []
  },
  {
   "cell_type": "code",
   "execution_count": 47,
   "metadata": {},
   "outputs": [],
   "source": [
    "import cv2\n",
    "def resize_images(images):\n",
    "    hold1 = images.copy()\n",
    "    hold2 = cv2.resize(hold1,(200,200),interpolation=cv2.INTER_CUBIC)\n",
    "    return hold2"
   ]
  },
  {
   "cell_type": "code",
   "execution_count": 48,
   "metadata": {},
   "outputs": [],
   "source": [
    "df_2['images'] = df_2['images'].apply(resize_images)"
   ]
  },
  {
   "cell_type": "code",
   "execution_count": 49,
   "metadata": {},
   "outputs": [
    {
     "data": {
      "text/plain": [
       "<matplotlib.image.AxesImage at 0x7fe1d7c0fca0>"
      ]
     },
     "metadata": {},
     "output_type": "display_data"
    },
    {
     "data": {
      "image/png": "[encoded data removed]",
      "text/plain": [
       "<Figure size 432x288 with 1 Axes>"
      ]
     },
     "metadata": {
      "needs_background": "light"
     },
     "output_type": "display_data"
    }
   ],
   "source": [
    "images = df_2['images']\n",
    "test = images[0]\n",
    "display(plt.imshow(test))"
   ]
  },
  {
   "cell_type": "code",
   "execution_count": 50,
   "metadata": {},
   "outputs": [
    {
     "data": {
      "text/plain": [
       "numpy.ndarray"
      ]
     },
     "execution_count": 50,
     "metadata": {},
     "output_type": "execute_result"
    }
   ],
   "source": [
    "type(test)"
   ]
  },
  {
   "cell_type": "code",
   "execution_count": 51,
   "metadata": {},
   "outputs": [
    {
     "data": {
      "text/plain": [
       "(200, 200)"
      ]
     },
     "execution_count": 51,
     "metadata": {},
     "output_type": "execute_result"
    }
   ],
   "source": [
    "test.shape"
   ]
  },
  {
   "cell_type": "code",
   "execution_count": 52,
   "metadata": {},
   "outputs": [],
   "source": [
    "x = df_2['images']\n",
    "y = df_2['diagnosis']"
   ]
  },
  {
   "cell_type": "code",
   "execution_count": 53,
   "metadata": {},
   "outputs": [],
   "source": [
    "x_array = np.array(x)\n",
    "x_array = np.stack(x_array)"
   ]
  },
  {
   "cell_type": "code",
   "execution_count": 54,
   "metadata": {},
   "outputs": [],
   "source": [
    "x_array = x_array.reshape(420,200,200,1)"
   ]
  },
  {
   "cell_type": "code",
   "execution_count": 55,
   "metadata": {},
   "outputs": [],
   "source": [
    "def to_int(string):\n",
    "    if string == 'MCI':\n",
    "        return 'AD';\n",
    "    elif string == 'AD':\n",
    "        return 'AD'\n",
    "    else:\n",
    "        return 'CN'\n",
    "y = y.apply(to_int)\n",
    "\n",
    "target_encoder = LabelEncoder()\n",
    "target_encoder.fit(y)\n",
    "y = target_encoder.transform(y)"
   ]
  },
  {
   "cell_type": "code",
   "execution_count": 56,
   "metadata": {},
   "outputs": [],
   "source": [
    "x_train, x_test, y_train, y_test = train_test_split(x_array, y, random_state = 42)"
   ]
  },
  {
   "cell_type": "code",
   "execution_count": 57,
   "metadata": {},
   "outputs": [],
   "source": [
    "model = models.Sequential()\n",
    "model.add(layers.Conv2D(32, (3, 3), activation='relu', input_shape=(200, 200, 1)))\n",
    "model.add(layers.MaxPooling2D((2, 2)))\n",
    "model.add(layers.Conv2D(64, (3, 3), activation='relu'))\n",
    "model.add(layers.MaxPooling2D((2, 2)))\n",
    "model.add(layers.Conv2D(64, (3, 3), activation='relu'))"
   ]
  },
  {
   "cell_type": "code",
   "execution_count": 58,
   "metadata": {},
   "outputs": [],
   "source": [
    "model.add(layers.Flatten())\n",
    "model.add(layers.Dense(64, activation='relu'))\n",
    "model.add(Dense(units=1, activation = 'sigmoid'))\n",
    "\n"
   ]
  },
  {
   "cell_type": "code",
   "execution_count": 59,
   "metadata": {},
   "outputs": [],
   "source": [
    "model.compile(optimizer='adam',\n",
    "              loss='binary_crossentropy',\n",
    "              metrics=['accuracy'])"
   ]
  },
  {
   "cell_type": "code",
   "execution_count": 60,
   "metadata": {},
   "outputs": [
    {
     "name": "stdout",
     "output_type": "stream",
     "text": [
      "Epoch 1/50\n",
      "10/10 [==============================] - 7s 688ms/step - loss: 482.3533 - accuracy: 0.5524 - val_loss: 4.1188 - val_accuracy: 0.6571\n",
      "Epoch 2/50\n",
      "10/10 [==============================] - 6s 626ms/step - loss: 1.0678 - accuracy: 0.5429 - val_loss: 0.6892 - val_accuracy: 0.6190\n",
      "Epoch 3/50\n",
      "10/10 [==============================] - 6s 557ms/step - loss: 0.6119 - accuracy: 0.6984 - val_loss: 0.6952 - val_accuracy: 0.6476\n",
      "Epoch 4/50\n",
      "10/10 [==============================] - 6s 570ms/step - loss: 0.5434 - accuracy: 0.6825 - val_loss: 0.7653 - val_accuracy: 0.6571\n",
      "Epoch 5/50\n",
      "10/10 [==============================] - 6s 574ms/step - loss: 0.4891 - accuracy: 0.6825 - val_loss: 0.7618 - val_accuracy: 0.6571\n",
      "Epoch 6/50\n",
      "10/10 [==============================] - 6s 570ms/step - loss: 0.4397 - accuracy: 0.6825 - val_loss: 0.9413 - val_accuracy: 0.6571\n",
      "Epoch 7/50\n",
      "10/10 [==============================] - 6s 562ms/step - loss: 0.3920 - accuracy: 0.6825 - val_loss: 1.1117 - val_accuracy: 0.6571\n",
      "Epoch 8/50\n",
      "10/10 [==============================] - 6s 599ms/step - loss: 0.3383 - accuracy: 0.6825 - val_loss: 1.3059 - val_accuracy: 0.6571\n",
      "Epoch 9/50\n",
      "10/10 [==============================] - 6s 578ms/step - loss: 0.3062 - accuracy: 0.7175 - val_loss: 1.4648 - val_accuracy: 0.7238\n",
      "Epoch 10/50\n",
      "10/10 [==============================] - 6s 611ms/step - loss: 0.2806 - accuracy: 0.9016 - val_loss: 1.4052 - val_accuracy: 0.7238\n",
      "Epoch 11/50\n",
      "10/10 [==============================] - 6s 581ms/step - loss: 0.2804 - accuracy: 0.9365 - val_loss: 1.7500 - val_accuracy: 0.7333\n",
      "Epoch 12/50\n",
      "10/10 [==============================] - 6s 611ms/step - loss: 0.2676 - accuracy: 0.9302 - val_loss: 1.7276 - val_accuracy: 0.7619\n",
      "Epoch 13/50\n",
      "10/10 [==============================] - 6s 616ms/step - loss: 0.2633 - accuracy: 0.9683 - val_loss: 1.4293 - val_accuracy: 0.7619\n",
      "Epoch 14/50\n",
      "10/10 [==============================] - 6s 639ms/step - loss: 0.2487 - accuracy: 0.9619 - val_loss: 1.9226 - val_accuracy: 0.7619\n",
      "Epoch 15/50\n",
      "10/10 [==============================] - 6s 594ms/step - loss: 0.2468 - accuracy: 0.9429 - val_loss: 1.6581 - val_accuracy: 0.7714\n",
      "Epoch 16/50\n",
      "10/10 [==============================] - 6s 596ms/step - loss: 0.2363 - accuracy: 0.9683 - val_loss: 1.7996 - val_accuracy: 0.7714\n",
      "Epoch 17/50\n",
      "10/10 [==============================] - 6s 567ms/step - loss: 0.2315 - accuracy: 0.9905 - val_loss: 2.1286 - val_accuracy: 0.7810\n",
      "Epoch 18/50\n",
      "10/10 [==============================] - 6s 581ms/step - loss: 0.2236 - accuracy: 0.9937 - val_loss: 1.9879 - val_accuracy: 0.7619\n",
      "Epoch 19/50\n",
      "10/10 [==============================] - 6s 589ms/step - loss: 0.2253 - accuracy: 0.9841 - val_loss: 2.3035 - val_accuracy: 0.7619\n",
      "Epoch 20/50\n",
      "10/10 [==============================] - 6s 596ms/step - loss: 0.2175 - accuracy: 0.9905 - val_loss: 2.2635 - val_accuracy: 0.7619\n",
      "Epoch 21/50\n",
      "10/10 [==============================] - 6s 581ms/step - loss: 0.2147 - accuracy: 0.9905 - val_loss: 2.0611 - val_accuracy: 0.7524\n",
      "Epoch 22/50\n",
      "10/10 [==============================] - 6s 641ms/step - loss: 0.2123 - accuracy: 1.0000 - val_loss: 2.4829 - val_accuracy: 0.7619\n",
      "Epoch 23/50\n",
      "10/10 [==============================] - 8s 813ms/step - loss: 0.2209 - accuracy: 0.9841 - val_loss: 1.7590 - val_accuracy: 0.7619\n",
      "Epoch 24/50\n",
      "10/10 [==============================] - 6s 600ms/step - loss: 0.2107 - accuracy: 0.9937 - val_loss: 3.0166 - val_accuracy: 0.7619\n",
      "Epoch 25/50\n",
      "10/10 [==============================] - 6s 602ms/step - loss: 0.2079 - accuracy: 0.9905 - val_loss: 2.1647 - val_accuracy: 0.7619\n",
      "Epoch 26/50\n",
      "10/10 [==============================] - 6s 590ms/step - loss: 0.2041 - accuracy: 1.0000 - val_loss: 2.5549 - val_accuracy: 0.7619\n",
      "Epoch 27/50\n",
      "10/10 [==============================] - 6s 572ms/step - loss: 0.2026 - accuracy: 0.9937 - val_loss: 2.4306 - val_accuracy: 0.7333\n",
      "Epoch 28/50\n",
      "10/10 [==============================] - 6s 570ms/step - loss: 0.2048 - accuracy: 0.9968 - val_loss: 2.3442 - val_accuracy: 0.7524\n",
      "Epoch 29/50\n",
      "10/10 [==============================] - 6s 574ms/step - loss: 0.2039 - accuracy: 0.9968 - val_loss: 2.5551 - val_accuracy: 0.7429\n",
      "Epoch 30/50\n",
      "10/10 [==============================] - 6s 632ms/step - loss: 0.2009 - accuracy: 0.9968 - val_loss: 2.5465 - val_accuracy: 0.7429\n",
      "Epoch 31/50\n",
      "10/10 [==============================] - 6s 589ms/step - loss: 0.2018 - accuracy: 0.9968 - val_loss: 2.1061 - val_accuracy: 0.7143\n",
      "Epoch 32/50\n",
      "10/10 [==============================] - 6s 610ms/step - loss: 0.1957 - accuracy: 0.9968 - val_loss: 2.6598 - val_accuracy: 0.7238\n",
      "Epoch 33/50\n",
      "10/10 [==============================] - 6s 581ms/step - loss: 0.1923 - accuracy: 1.0000 - val_loss: 3.1209 - val_accuracy: 0.7429\n",
      "Epoch 34/50\n",
      "10/10 [==============================] - 6s 579ms/step - loss: 0.1915 - accuracy: 0.9968 - val_loss: 2.4941 - val_accuracy: 0.7238\n",
      "Epoch 35/50\n",
      "10/10 [==============================] - 6s 578ms/step - loss: 0.1912 - accuracy: 1.0000 - val_loss: 2.5084 - val_accuracy: 0.7238\n",
      "Epoch 36/50\n",
      "10/10 [==============================] - 6s 639ms/step - loss: 0.1887 - accuracy: 1.0000 - val_loss: 2.8854 - val_accuracy: 0.7524\n",
      "Epoch 37/50\n",
      "10/10 [==============================] - 6s 582ms/step - loss: 0.1883 - accuracy: 0.9937 - val_loss: 3.1204 - val_accuracy: 0.7714\n",
      "Epoch 38/50\n",
      "10/10 [==============================] - 6s 587ms/step - loss: 0.1865 - accuracy: 1.0000 - val_loss: 2.3361 - val_accuracy: 0.7619\n",
      "Epoch 39/50\n",
      "10/10 [==============================] - 6s 584ms/step - loss: 0.1853 - accuracy: 1.0000 - val_loss: 2.6095 - val_accuracy: 0.7524\n",
      "Epoch 40/50\n",
      "10/10 [==============================] - 6s 576ms/step - loss: 0.1836 - accuracy: 0.9968 - val_loss: 2.6862 - val_accuracy: 0.7238\n",
      "Epoch 41/50\n",
      "10/10 [==============================] - 6s 559ms/step - loss: 0.1827 - accuracy: 1.0000 - val_loss: 2.6729 - val_accuracy: 0.7238\n",
      "Epoch 42/50\n",
      "10/10 [==============================] - 6s 582ms/step - loss: 0.1811 - accuracy: 1.0000 - val_loss: 2.9112 - val_accuracy: 0.7143\n",
      "Epoch 43/50\n",
      "10/10 [==============================] - 6s 594ms/step - loss: 0.1792 - accuracy: 1.0000 - val_loss: 3.3406 - val_accuracy: 0.7333\n",
      "Epoch 44/50\n",
      "10/10 [==============================] - 6s 643ms/step - loss: 0.1776 - accuracy: 1.0000 - val_loss: 3.6003 - val_accuracy: 0.7429\n",
      "Epoch 45/50\n",
      "10/10 [==============================] - 6s 608ms/step - loss: 0.1767 - accuracy: 1.0000 - val_loss: 3.1578 - val_accuracy: 0.7143\n",
      "Epoch 46/50\n",
      "10/10 [==============================] - 6s 596ms/step - loss: 0.1755 - accuracy: 1.0000 - val_loss: 3.2065 - val_accuracy: 0.7048\n",
      "Epoch 47/50\n",
      "10/10 [==============================] - 6s 580ms/step - loss: 0.1743 - accuracy: 1.0000 - val_loss: 3.5426 - val_accuracy: 0.7238\n",
      "Epoch 48/50\n",
      "10/10 [==============================] - 6s 587ms/step - loss: 0.1731 - accuracy: 1.0000 - val_loss: 3.6270 - val_accuracy: 0.7333\n",
      "Epoch 49/50\n",
      "10/10 [==============================] - 6s 588ms/step - loss: 0.1722 - accuracy: 1.0000 - val_loss: 3.1244 - val_accuracy: 0.7048\n",
      "Epoch 50/50\n",
      "10/10 [==============================] - 6s 591ms/step - loss: 0.1709 - accuracy: 1.0000 - val_loss: 3.3046 - val_accuracy: 0.7143\n"
     ]
    }
   ],
   "source": [
    "history = model.fit(x_train, y_train, epochs=50,\n",
    "                    validation_data=(x_test, y_test))"
   ]
  },
  {
   "cell_type": "markdown",
   "metadata": {},
   "source": [
    "This score is pretty solid and much beyyer than what I was dealing with earlier, let's try and adjust for overfitting then see how it works out."
   ]
  },
  {
   "cell_type": "code",
   "execution_count": null,
   "metadata": {},
   "outputs": [],
   "source": []
  }
 ],
 "metadata": {
  "kernelspec": {
   "display_name": "Python 3",
   "language": "python",
   "name": "python3"
  },
  "language_info": {
   "codemirror_mode": {
    "name": "ipython",
    "version": 3
   },
   "file_extension": ".py",
   "mimetype": "text/x-python",
   "name": "python",
   "nbconvert_exporter": "python",
   "pygments_lexer": "ipython3",
   "version": "3.8.5"
  }
 },
 "nbformat": 4,
 "nbformat_minor": 4
}
