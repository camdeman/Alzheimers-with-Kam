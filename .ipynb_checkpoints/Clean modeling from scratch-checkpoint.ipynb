{
 "cells": [
  {
   "cell_type": "code",
   "execution_count": 1,
   "metadata": {},
   "outputs": [],
   "source": [
    "import pandas as pd\n",
    "df = pd.read_csv('ADNI1_Complete_1Yr_3T_8_06_2021.csv')"
   ]
  },
  {
   "cell_type": "code",
   "execution_count": 2,
   "metadata": {},
   "outputs": [],
   "source": [
    "import pandas as pd\n",
    "import SimpleITK as sitk\n",
    "import matplotlib.pyplot as plt\n",
    "import numpy as np\n",
    "import sys\n",
    "import tensorflow as tf\n",
    "import tensorflow.keras \n",
    "from tensorflow import keras\n",
    "from tensorflow.keras.models import Sequential\n",
    "from tensorflow.keras import models\n",
    "from tensorflow.keras import layers\n",
    "from tensorflow.keras import optimizers\n",
    "from tensorflow.keras.layers import Dense, Conv2D, Dropout\n",
    "from tensorflow.keras import initializers\n",
    "from tensorflow.keras import optimizers\n",
    "from sklearn.metrics import plot_confusion_matrix\n",
    "from sklearn.base import ClassifierMixin\n",
    "from sklearn.preprocessing import LabelEncoder\n",
    "from sklearn.model_selection import train_test_split\n",
    "\n",
    "\n",
    "\n",
    "\n",
    "\n",
    "\n",
    "\n"
   ]
  },
  {
   "cell_type": "code",
   "execution_count": null,
   "metadata": {},
   "outputs": [],
   "source": []
  },
  {
   "cell_type": "code",
   "execution_count": null,
   "metadata": {
    "scrolled": true
   },
   "outputs": [],
   "source": [
    "df.head()"
   ]
  },
  {
   "cell_type": "code",
   "execution_count": null,
   "metadata": {},
   "outputs": [],
   "source": [
    "images = df['Image Data ID'].tolist()\n",
    "df_2 = pd.DataFrame()\n",
    "df_2['id'] = list(images)\n",
    "df_2.head()"
   ]
  },
  {
   "cell_type": "code",
   "execution_count": null,
   "metadata": {},
   "outputs": [],
   "source": [
    "def get_visit(subject):\n",
    "    hold1 = df.loc[df['Image Data ID'] == subject]\n",
    "    hold2 = hold1.iloc[0]\n",
    "    visitnum = hold2['Visit']\n",
    "    return visitnum\n",
    "\n",
    "def get_Group(subject):\n",
    "    hold1 = df.loc[df['Image Data ID'] == subject]\n",
    "    hold2 = hold1.iloc[0]\n",
    "    diag = hold2['Group']\n",
    "    return diag\n",
    "\n",
    "df_2['visit'] = df_2['id'].apply(get_visit)\n",
    "df_2['diagnosis'] = df_2['id'].apply(get_Group)\n"
   ]
  },
  {
   "cell_type": "code",
   "execution_count": null,
   "metadata": {},
   "outputs": [],
   "source": [
    "df_2.head()"
   ]
  },
  {
   "cell_type": "code",
   "execution_count": null,
   "metadata": {},
   "outputs": [],
   "source": [
    "!pip install SimpleITK\n",
    "import SimpleITK as sitk\n",
    "def get_images(subject):\n",
    "    path = 'Something/' + subject\n",
    "    image = sitk.ReadImage(path)\n",
    "    img = sitk.GetArrayFromImage(image)\n",
    "    return img\n",
    "df_2['images'] = df_2['id'].apply(get_images)"
   ]
  },
  {
   "cell_type": "code",
   "execution_count": null,
   "metadata": {},
   "outputs": [],
   "source": []
  },
  {
   "cell_type": "code",
   "execution_count": null,
   "metadata": {},
   "outputs": [],
   "source": [
    "test = df_2['images']\n",
    "hold = test[3]\n",
    "hold.shape"
   ]
  },
  {
   "cell_type": "code",
   "execution_count": null,
   "metadata": {},
   "outputs": [],
   "source": [
    "img = hold[85]\n",
    "import matplotlib.pyplot as plt\n",
    "display(plt.imshow(img))"
   ]
  },
  {
   "cell_type": "code",
   "execution_count": null,
   "metadata": {},
   "outputs": [],
   "source": [
    "img = hold[85]\n",
    "import matplotlib.pyplot as plt\n",
    "display(plt.imshow(img))"
   ]
  },
  {
   "cell_type": "code",
   "execution_count": null,
   "metadata": {},
   "outputs": [],
   "source": [
    "import numpy as np\n",
    "#30-140 by 10\n",
    "def cut_set(images):\n",
    "    hold_list = []\n",
    "    i = 10\n",
    "    while i < 141:\n",
    "        hold_list.append(images[i])\n",
    "        i += 10\n",
    "    new = np.asarray(hold_list)\n",
    "    return new"
   ]
  },
  {
   "cell_type": "code",
   "execution_count": null,
   "metadata": {},
   "outputs": [],
   "source": [
    "df_2['images'] = df_2['images'].apply(cut_set)\n",
    "df_2.head()"
   ]
  },
  {
   "cell_type": "code",
   "execution_count": null,
   "metadata": {},
   "outputs": [],
   "source": [
    "test = df_2['images']\n",
    "hold = test[24]\n",
    "hold.shape"
   ]
  },
  {
   "cell_type": "code",
   "execution_count": null,
   "metadata": {},
   "outputs": [],
   "source": [
    "img = hold[7]\n",
    "import matplotlib.pyplot as plt\n",
    "display(plt.imshow(img))"
   ]
  },
  {
   "cell_type": "code",
   "execution_count": null,
   "metadata": {},
   "outputs": [],
   "source": []
  },
  {
   "cell_type": "code",
   "execution_count": null,
   "metadata": {},
   "outputs": [],
   "source": [
    "#images can be reduced to 128,128 as a solid standard"
   ]
  },
  {
   "cell_type": "code",
   "execution_count": null,
   "metadata": {},
   "outputs": [],
   "source": [
    "def resize_images(images):\n",
    "    i = 0\n",
    "    hold_list = []\n",
    "    while i < 14:\n",
    "        hold1 = images[i]\n",
    "        hold2 = np.resize(hold1, (128,128))\n",
    "        hold_list.append(hold2)\n",
    "        i +=1\n",
    "    new = np.asarray(hold_list)\n",
    "    return new"
   ]
  },
  {
   "cell_type": "code",
   "execution_count": null,
   "metadata": {},
   "outputs": [],
   "source": [
    "df_2['images'] = df_2['images'].apply(resize_images)"
   ]
  },
  {
   "cell_type": "code",
   "execution_count": null,
   "metadata": {},
   "outputs": [],
   "source": [
    "def reshape_images(images):\n",
    "    i = 0\n",
    "    hold_list = []\n",
    "    hold_array = np.array(hold_list)\n",
    "    while i < 14:\n",
    "        hold1 = images[i]\n",
    "        hold2 = hold1.flatten()\n",
    "        hold_array = np.append(hold_array, hold2)\n",
    "        i +=1\n",
    "    return hold_array"
   ]
  },
  {
   "cell_type": "code",
   "execution_count": null,
   "metadata": {},
   "outputs": [],
   "source": [
    "df_2['images'] = df_2['images'].apply(reshape_images)"
   ]
  },
  {
   "cell_type": "code",
   "execution_count": null,
   "metadata": {},
   "outputs": [],
   "source": [
    "df_2.to_csv('Something/Final_df?')"
   ]
  },
  {
   "cell_type": "code",
   "execution_count": null,
   "metadata": {},
   "outputs": [],
   "source": [
    "df_2.head()"
   ]
  },
  {
   "cell_type": "markdown",
   "metadata": {},
   "source": [
    "Due to labor of working with this data set, let's try a part 2 for this with the faved DF"
   ]
  },
  {
   "cell_type": "code",
   "execution_count": null,
   "metadata": {},
   "outputs": [],
   "source": [
    "x = df_2['images']\n",
    "y = df_2['diagnosis']\n",
    "#22976"
   ]
  },
  {
   "cell_type": "code",
   "execution_count": null,
   "metadata": {},
   "outputs": [],
   "source": [
    "x_array = x[0]\n",
    "i = 1\n",
    "while i < len(x):\n",
    "    x_array = np.vstack([x_array, x[i]])\n",
    "    i +=1"
   ]
  },
  {
   "cell_type": "code",
   "execution_count": null,
   "metadata": {},
   "outputs": [],
   "source": [
    "x_array.shape"
   ]
  },
  {
   "cell_type": "code",
   "execution_count": null,
   "metadata": {},
   "outputs": [],
   "source": [
    "def to_int(string):\n",
    "    if string == 'MCI':\n",
    "        return 'AD';\n",
    "    elif string == 'AD':\n",
    "        return 'AD'\n",
    "    else:\n",
    "        return 'CN'\n",
    "y = y.apply(to_int)"
   ]
  },
  {
   "cell_type": "code",
   "execution_count": null,
   "metadata": {},
   "outputs": [],
   "source": [
    "np.set_printoptions(threshold=sys.maxsize)\n",
    "y"
   ]
  },
  {
   "cell_type": "code",
   "execution_count": null,
   "metadata": {},
   "outputs": [],
   "source": [
    "from sklearn.preprocessing import LabelEncoder\n",
    "target_encoder = LabelEncoder()\n",
    "target_encoder.fit(y)\n",
    "y = target_encoder.transform(y)"
   ]
  },
  {
   "cell_type": "code",
   "execution_count": null,
   "metadata": {},
   "outputs": [],
   "source": []
  },
  {
   "cell_type": "code",
   "execution_count": null,
   "metadata": {},
   "outputs": [],
   "source": [
    "from sklearn.model_selection import train_test_split\n",
    "\n",
    "x_train, x_test, y_train, y_test = train_test_split(x_array, y, random_state = 16)"
   ]
  },
  {
   "cell_type": "code",
   "execution_count": null,
   "metadata": {},
   "outputs": [],
   "source": [
    "x_train.shape"
   ]
  },
  {
   "cell_type": "code",
   "execution_count": null,
   "metadata": {},
   "outputs": [],
   "source": [
    "y_train"
   ]
  },
  {
   "cell_type": "code",
   "execution_count": null,
   "metadata": {},
   "outputs": [],
   "source": [
    "x_train.shape"
   ]
  },
  {
   "cell_type": "code",
   "execution_count": null,
   "metadata": {},
   "outputs": [],
   "source": [
    "import sys\n",
    "\n",
    "np.set_printoptions(threshold=sys.maxsize)\n",
    "x_train[11].sum()"
   ]
  },
  {
   "cell_type": "code",
   "execution_count": null,
   "metadata": {},
   "outputs": [],
   "source": [
    "type(x_train)"
   ]
  },
  {
   "cell_type": "code",
   "execution_count": null,
   "metadata": {},
   "outputs": [],
   "source": [
    "#AD = 80\n",
    "#MCI = 240"
   ]
  },
  {
   "cell_type": "code",
   "execution_count": null,
   "metadata": {},
   "outputs": [],
   "source": [
    "import tensorflow as tf\n",
    "import tensorflow.keras \n",
    "from tensorflow import keras\n",
    "from tensorflow.keras.models import Sequential\n",
    "from tensorflow.keras import models\n",
    "from tensorflow.keras import layers\n",
    "from tensorflow.keras import optimizers\n",
    "from tensorflow.keras.layers import Dense, Conv2D, Dropout\n",
    "from tensorflow.keras import initializers\n",
    "from tensorflow.keras import optimizers\n",
    "model = Sequential()\n",
    "model.add(Dense(units=32,activation = 'relu',input_shape=(229376, ),kernel_initializer = initializers.RandomNormal(stddev=0.1),kernel_regularizer=keras.regularizers.l2(l2=0.01)))\n",
    "model.add(Dropout(0.2))\n",
    "model.add(Dense(units=32,activation = 'relu',kernel_initializer = initializers.RandomNormal(stddev=0.1),kernel_regularizer=keras.regularizers.l2(l2=0.01)))\n",
    "model.add(Dropout(0.2))\n",
    "model.add(Dense(units=32,activation = 'relu',kernel_initializer = initializers.RandomNormal(stddev=0.1),kernel_regularizer=keras.regularizers.l2(l2=0.01)))\n",
    "model.add(Dropout(0.2))\n",
    "model.add(Dense(units=32,activation = 'relu',kernel_initializer = initializers.RandomNormal(stddev=0.1),kernel_regularizer=keras.regularizers.l2(l2=0.01)))\n",
    "model.add(Dropout(0.2))\n",
    "model.add(Dense(units=32,activation = 'relu',kernel_initializer = initializers.RandomNormal(stddev=0.1),kernel_regularizer=keras.regularizers.l2(l2=0.01)))\n",
    "model.add(Dropout(0.2))\n",
    "model.add(Dense(units=32,activation = 'relu',kernel_initializer = initializers.RandomNormal(stddev=0.1),kernel_regularizer=keras.regularizers.l2(l2=0.01)))\n",
    "model.add(Dense(units=1, activation = 'sigmoid'))\n",
    "\n"
   ]
  },
  {
   "cell_type": "code",
   "execution_count": null,
   "metadata": {},
   "outputs": [],
   "source": [
    "model.compile(loss='binary_crossentropy',\n",
    "              optimizer='adam',\n",
    "              metrics=['Accuracy'])\n",
    "history = model.fit(x_train, y_train, epochs=100,\n",
    "                    validation_data=(x_test, y_test))"
   ]
  },
  {
   "cell_type": "code",
   "execution_count": null,
   "metadata": {},
   "outputs": [],
   "source": [
    "from sklearn.metrics import plot_confusion_matrix\n",
    "from sklearn.base import ClassifierMixin\n",
    "\n",
    "class SKWrapper(ClassifierMixin):\n",
    "    \n",
    "    def __init__(self, model):\n",
    "        self.model = model\n",
    "        self.classes = classes\n",
    "    def predict(self, X):\n",
    "        return (self.model.predict(X) > .5).astype(int)\n"
   ]
  },
  {
   "cell_type": "code",
   "execution_count": null,
   "metadata": {},
   "outputs": [],
   "source": [
    "check = model.predict(x_train)"
   ]
  },
  {
   "cell_type": "code",
   "execution_count": null,
   "metadata": {},
   "outputs": [],
   "source": [
    "check"
   ]
  },
  {
   "cell_type": "code",
   "execution_count": null,
   "metadata": {},
   "outputs": [],
   "source": [
    "#compressing images more led to faster calcs and removed issue of naive prediction, this may be usable\n",
    "#issues to adress: adjust learning rate, start from a random spot, make use of drop out, switch to cnn, imvestigate adressing the target variable"
   ]
  },
  {
   "cell_type": "code",
   "execution_count": null,
   "metadata": {},
   "outputs": [],
   "source": [
    "10/10 [=============================] - 1s 63ms/step - loss: 0.6087 - recall: 0.0571 - val_loss: 0.6265 - val_recall: 0.5143"
   ]
  },
  {
   "cell_type": "markdown",
   "metadata": {},
   "source": [
    "Right now there's a major issue in the model's prediction's being naive, and always predicting the same thing. To test this out let's try simplifying and building up the model slowly "
   ]
  },
  {
   "cell_type": "code",
   "execution_count": null,
   "metadata": {},
   "outputs": [],
   "source": [
    "simplehold = df_2.loc[(df_2['diagnosis'] == 'AD')|(df_2['diagnosis']=='MCI')]"
   ]
  },
  {
   "cell_type": "code",
   "execution_count": null,
   "metadata": {},
   "outputs": [],
   "source": [
    "simplehold2 = simplehold.iloc[:50,:]"
   ]
  },
  {
   "cell_type": "code",
   "execution_count": null,
   "metadata": {},
   "outputs": [],
   "source": [
    "x = simplehold2['images']\n",
    "y = simplehold2['diagnosis']\n",
    "\n",
    "x_array = x.iloc[0]\n",
    "i = 1\n",
    "while i < len(x):\n",
    "    x_array = np.vstack([x_array, x.iloc[i]])\n",
    "    i +=1"
   ]
  },
  {
   "cell_type": "code",
   "execution_count": null,
   "metadata": {},
   "outputs": [],
   "source": [
    "x_array.shape"
   ]
  },
  {
   "cell_type": "code",
   "execution_count": null,
   "metadata": {},
   "outputs": [],
   "source": [
    "def to_int(string):\n",
    "    if string == 'MCI':\n",
    "        return 'AD';\n",
    "    elif string == 'AD':\n",
    "        return 'AD'\n",
    "    else:\n",
    "        return 'CN'\n",
    "y = y.apply(to_int)"
   ]
  },
  {
   "cell_type": "code",
   "execution_count": null,
   "metadata": {},
   "outputs": [],
   "source": [
    "y"
   ]
  },
  {
   "cell_type": "code",
   "execution_count": null,
   "metadata": {},
   "outputs": [],
   "source": [
    "from sklearn.preprocessing import LabelEncoder\n",
    "target_encoder = LabelEncoder()\n",
    "target_encoder.fit(y)\n",
    "y = target_encoder.transform(y)"
   ]
  },
  {
   "cell_type": "code",
   "execution_count": null,
   "metadata": {},
   "outputs": [],
   "source": [
    "y"
   ]
  },
  {
   "cell_type": "code",
   "execution_count": null,
   "metadata": {},
   "outputs": [],
   "source": [
    "from sklearn.model_selection import train_test_split\n",
    "\n",
    "x_train, x_test, y_train, y_test = train_test_split(x_array, y, random_state = 42)"
   ]
  },
  {
   "cell_type": "code",
   "execution_count": null,
   "metadata": {},
   "outputs": [],
   "source": [
    "model = Sequential()\n",
    "model.add(Dense(units=32,activation = 'relu',input_shape=(677600, ),kernel_initializer = initializers.RandomNormal(stddev=0.1),kernel_regularizer=keras.regularizers.l2(l2=0.01)))\n",
    "model.add(Dropout(0.2))\n",
    "model.add(Dense(units=32,activation = 'relu',kernel_initializer = initializers.RandomNormal(stddev=0.1),kernel_regularizer=keras.regularizers.l2(l2=0.01)))\n",
    "model.add(Dropout(0.2))\n",
    "model.add(Dense(units=32,activation = 'relu',kernel_initializer = initializers.RandomNormal(stddev=0.1),kernel_regularizer=keras.regularizers.l2(l2=0.01)))\n",
    "model.add(Dropout(0.2))\n",
    "model.add(Dense(units=32,activation = 'relu',kernel_initializer = initializers.RandomNormal(stddev=0.1),kernel_regularizer=keras.regularizers.l2(l2=0.01)))\n",
    "model.add(Dropout(0.2))\n",
    "model.add(Dense(units=32,activation = 'relu',kernel_initializer = initializers.RandomNormal(stddev=0.1),kernel_regularizer=keras.regularizers.l2(l2=0.01)))\n",
    "model.add(Dropout(0.2))\n",
    "model.add(Dense(units=32,activation = 'relu',kernel_initializer = initializers.RandomNormal(stddev=0.1),kernel_regularizer=keras.regularizers.l2(l2=0.01)))\n",
    "model.add(Dense(units=1, activation = 'sigmoid'))\n",
    "\n"
   ]
  },
  {
   "cell_type": "code",
   "execution_count": null,
   "metadata": {},
   "outputs": [],
   "source": [
    "model.compile(loss='binary_crossentropy',\n",
    "              optimizer='adam',\n",
    "              metrics=['Accuracy'])\n",
    "history = model.fit(x_train, y_train, epochs=50,\n",
    "                    validation_data=(x_test, y_test))"
   ]
  },
  {
   "cell_type": "markdown",
   "metadata": {},
   "source": [
    "This super simple model only has 1 class so should be perfect, which it is. Less try adding in 50 people who are fine and see how it adapts"
   ]
  },
  {
   "cell_type": "code",
   "execution_count": null,
   "metadata": {},
   "outputs": [],
   "source": [
    "simplehold3 = df_2.loc[(df_2['diagnosis'] == 'CN')]\n",
    "simplehold4 = simplehold3.iloc[:50,:]\n",
    "simplehold5 = simplehold2.append(simplehold4)\n",
    "simplehold5"
   ]
  },
  {
   "cell_type": "code",
   "execution_count": null,
   "metadata": {},
   "outputs": [],
   "source": [
    "x = simplehold5['images']\n",
    "y = simplehold5['diagnosis']\n",
    "\n",
    "x_array = x.iloc[0]\n",
    "i = 1\n",
    "while i < len(x):\n",
    "    x_array = np.vstack([x_array, x.iloc[i]])\n",
    "    i +=1"
   ]
  },
  {
   "cell_type": "code",
   "execution_count": null,
   "metadata": {},
   "outputs": [],
   "source": [
    "def to_int(string):\n",
    "    if string == 'MCI':\n",
    "        return 'AD';\n",
    "    elif string == 'AD':\n",
    "        return 'AD'\n",
    "    else:\n",
    "        return 'CN'\n",
    "y = y.apply(to_int)"
   ]
  },
  {
   "cell_type": "code",
   "execution_count": null,
   "metadata": {},
   "outputs": [],
   "source": [
    "from sklearn.preprocessing import LabelEncoder\n",
    "target_encoder = LabelEncoder()\n",
    "target_encoder.fit(y)\n",
    "y = target_encoder.transform(y)"
   ]
  },
  {
   "cell_type": "code",
   "execution_count": null,
   "metadata": {},
   "outputs": [],
   "source": [
    "from sklearn.model_selection import train_test_split\n",
    "\n",
    "x_train, x_test, y_train, y_test = train_test_split(x_array, y, random_state = 42)"
   ]
  },
  {
   "cell_type": "code",
   "execution_count": null,
   "metadata": {},
   "outputs": [],
   "source": [
    "model = Sequential()\n",
    "model.add(Dense(units=32,activation = 'relu',input_shape=(229376, ),kernel_initializer = initializers.RandomNormal(stddev=0.1),kernel_regularizer=keras.regularizers.l2(l2=0.01)))\n",
    "model.add(Dropout(0.2))\n",
    "model.add(Dense(units=32,activation = 'relu',kernel_initializer = initializers.RandomNormal(stddev=0.1),kernel_regularizer=keras.regularizers.l2(l2=0.01)))\n",
    "model.add(Dropout(0.2))\n",
    "model.add(Dense(units=32,activation = 'relu',kernel_initializer = initializers.RandomNormal(stddev=0.1),kernel_regularizer=keras.regularizers.l2(l2=0.01)))\n",
    "model.add(Dropout(0.2))\n",
    "model.add(Dense(units=32,activation = 'relu',kernel_initializer = initializers.RandomNormal(stddev=0.1),kernel_regularizer=keras.regularizers.l2(l2=0.01)))\n",
    "model.add(Dropout(0.2))\n",
    "model.add(Dense(units=32,activation = 'relu',kernel_initializer = initializers.RandomNormal(stddev=0.1),kernel_regularizer=keras.regularizers.l2(l2=0.01)))\n",
    "model.add(Dropout(0.2))\n",
    "model.add(Dense(units=32,activation = 'relu',kernel_initializer = initializers.RandomNormal(stddev=0.1),kernel_regularizer=keras.regularizers.l2(l2=0.01)))\n",
    "model.add(Dense(units=1, activation = 'sigmoid'))\n",
    "\n"
   ]
  },
  {
   "cell_type": "code",
   "execution_count": null,
   "metadata": {},
   "outputs": [],
   "source": [
    "model.compile(loss='binary_crossentropy',\n",
    "              optimizer='adam',\n",
    "              metrics=['Accuracy'])\n",
    "history = model.fit(x_train, y_train, epochs=50,\n",
    "                    validation_data=(x_test, y_test))"
   ]
  },
  {
   "cell_type": "code",
   "execution_count": null,
   "metadata": {},
   "outputs": [],
   "source": [
    "#check = model.predict(x_train)\n"
   ]
  },
  {
   "cell_type": "markdown",
   "metadata": {},
   "source": [
    "Based on this result, I believe that this model as is simply isn't going to properly work with the data as is and I'll need to try and revisit this from another direction"
   ]
  },
  {
   "cell_type": "code",
   "execution_count": null,
   "metadata": {},
   "outputs": [],
   "source": [
    "df_2['id'] = list(images)\n",
    "df_2.head()\n",
    "def get_visit(subject):\n",
    "    hold1 = df.loc[df['Image Data ID'] == subject]\n",
    "    hold2 = hold1.iloc[0]\n",
    "    visitnum = hold2['Visit']\n",
    "    return visitnum\n",
    "\n",
    "def get_Group(subject):\n",
    "    hold1 = df.loc[df['Image Data ID'] == subject]\n",
    "    hold2 = hold1.iloc[0]\n",
    "    diag = hold2['Group']\n",
    "    return diag\n",
    "\n",
    "df_2['visit'] = df_2['id'].apply(get_visit)\n",
    "df_2['diagnosis'] = df_2['id'].apply(get_Group)\n",
    "\n"
   ]
  },
  {
   "cell_type": "markdown",
   "metadata": {},
   "source": [
    "nib is apparently a specilized package for nueroimaging, useful for this exact scenario"
   ]
  },
  {
   "cell_type": "code",
   "execution_count": null,
   "metadata": {},
   "outputs": [],
   "source": [
    "import nibabel as nib\n",
    "def get_images(subject):\n",
    "    path = 'Something/' + subject +'.nii'\n",
    "    image = nib.load(path)\n",
    "    image_data = image.get_data()\n",
    "    return image_data\n",
    "df_2['images'] = df_2['id'].apply(get_images)"
   ]
  },
  {
   "cell_type": "code",
   "execution_count": null,
   "metadata": {},
   "outputs": [],
   "source": [
    "df_2"
   ]
  },
  {
   "cell_type": "code",
   "execution_count": null,
   "metadata": {},
   "outputs": [],
   "source": [
    "hold = df_2['images']\n",
    "hold1 = hold[0]"
   ]
  },
  {
   "cell_type": "code",
   "execution_count": null,
   "metadata": {},
   "outputs": [],
   "source": [
    "hold1.shape\n"
   ]
  },
  {
   "cell_type": "code",
   "execution_count": null,
   "metadata": {},
   "outputs": [],
   "source": [
    "hold2 = hold1[128, 128, 85]\n",
    "hold2"
   ]
  },
  {
   "cell_type": "markdown",
   "metadata": {},
   "source": [
    "This data looks much more meaningful than what I was dealing with properly, we migh be onto something here, let's try adapting the previous methods to this new form. there are 256 vertical slices, for the sake of ease lets go by 10 for 20 slices, so capture 0,10,20,30,etc up to slice 200"
   ]
  },
  {
   "cell_type": "code",
   "execution_count": null,
   "metadata": {},
   "outputs": [],
   "source": [
    "import numpy as np\n",
    "#1-200 by 10\n",
    "def cut_set(images):\n",
    "    hold_list = []\n",
    "    i = 0\n",
    "    while i < 201:\n",
    "        hold_list.append(images[i,:,:])\n",
    "        i += 10\n",
    "    new = np.asarray(hold_list)\n",
    "    return new"
   ]
  },
  {
   "cell_type": "code",
   "execution_count": null,
   "metadata": {},
   "outputs": [],
   "source": [
    "df_2['images'] = df_2['images'].apply(cut_set)"
   ]
  },
  {
   "cell_type": "code",
   "execution_count": null,
   "metadata": {},
   "outputs": [],
   "source": [
    "def resize_images(images):\n",
    "    i = 0\n",
    "    hold_list = []\n",
    "    while i < 19:\n",
    "        hold1 = images[i]\n",
    "        hold2 = np.resize(hold1, (128,128))\n",
    "        hold_list.append(hold2)\n",
    "        i +=1\n",
    "    new = np.asarray(hold_list)\n",
    "    return new"
   ]
  },
  {
   "cell_type": "code",
   "execution_count": null,
   "metadata": {},
   "outputs": [],
   "source": [
    "df_2['images'] = df_2['images'].apply(resize_images)"
   ]
  },
  {
   "cell_type": "code",
   "execution_count": null,
   "metadata": {},
   "outputs": [],
   "source": [
    "def reshape_images(images):\n",
    "    i = 0\n",
    "    hold_list = []\n",
    "    hold_array = np.array(hold_list)\n",
    "    while i < 14:\n",
    "        hold1 = images[i]\n",
    "        hold2 = hold1.flatten()\n",
    "        hold_array = np.append(hold_array, hold2)\n",
    "        i +=1\n",
    "    return hold_array"
   ]
  },
  {
   "cell_type": "code",
   "execution_count": null,
   "metadata": {},
   "outputs": [],
   "source": [
    "df_2['images'] = df_2['images'].apply(reshape_images)"
   ]
  },
  {
   "cell_type": "code",
   "execution_count": null,
   "metadata": {},
   "outputs": [],
   "source": [
    "x = df_2['images']\n",
    "y = df_2['diagnosis']\n",
    "\n",
    "x_array = x.iloc[0]\n",
    "i = 1\n",
    "while i < len(x):\n",
    "    x_array = np.vstack([x_array, x.iloc[i]])\n",
    "    i +=1"
   ]
  },
  {
   "cell_type": "code",
   "execution_count": null,
   "metadata": {},
   "outputs": [],
   "source": [
    "def to_int(string):\n",
    "    if string == 'MCI':\n",
    "        return 'AD';\n",
    "    elif string == 'AD':\n",
    "        return 'AD'\n",
    "    else:\n",
    "        return 'CN'\n",
    "y = y.apply(to_int)"
   ]
  },
  {
   "cell_type": "code",
   "execution_count": null,
   "metadata": {},
   "outputs": [],
   "source": [
    "from sklearn.preprocessing import LabelEncoder\n",
    "target_encoder = LabelEncoder()\n",
    "target_encoder.fit(y)\n",
    "y = target_encoder.transform(y)"
   ]
  },
  {
   "cell_type": "code",
   "execution_count": null,
   "metadata": {},
   "outputs": [],
   "source": [
    "from sklearn.model_selection import train_test_split\n",
    "\n",
    "x_train, x_test, y_train, y_test = train_test_split(x_array, y, random_state = 42)"
   ]
  },
  {
   "cell_type": "code",
   "execution_count": 23,
   "metadata": {},
   "outputs": [],
   "source": [
    "model = Sequential()\n",
    "model.add(Dense(units=32,activation = 'relu',input_shape=(229376, ),kernel_initializer = initializers.RandomNormal(stddev=0.1),kernel_regularizer=keras.regularizers.l2(l2=0.01)))\n",
    "model.add(Dropout(0.2))\n",
    "model.add(Dense(units=32,activation = 'relu',kernel_initializer = initializers.RandomNormal(stddev=0.1),kernel_regularizer=keras.regularizers.l2(l2=0.01)))\n",
    "model.add(Dropout(0.2))\n",
    "model.add(Dense(units=32,activation = 'relu',kernel_initializer = initializers.RandomNormal(stddev=0.1),kernel_regularizer=keras.regularizers.l2(l2=0.01)))\n",
    "model.add(Dropout(0.2))\n",
    "model.add(Dense(units=32,activation = 'relu',kernel_initializer = initializers.RandomNormal(stddev=0.1),kernel_regularizer=keras.regularizers.l2(l2=0.01)))\n",
    "model.add(Dropout(0.2))\n",
    "model.add(Dense(units=32,activation = 'relu',kernel_initializer = initializers.RandomNormal(stddev=0.1),kernel_regularizer=keras.regularizers.l2(l2=0.01)))\n",
    "model.add(Dropout(0.2))\n",
    "model.add(Dense(units=32,activation = 'relu',kernel_initializer = initializers.RandomNormal(stddev=0.1),kernel_regularizer=keras.regularizers.l2(l2=0.01)))\n",
    "model.add(Dense(units=1, activation = 'sigmoid'))\n",
    "\n",
    "\n"
   ]
  },
  {
   "cell_type": "code",
   "execution_count": 24,
   "metadata": {},
   "outputs": [
    {
     "name": "stdout",
     "output_type": "stream",
     "text": [
      "Epoch 1/50\n"
     ]
    },
    {
     "ename": "ValueError",
     "evalue": "in user code:\n\n    /opt/anaconda3/envs/learn-env/lib/python3.8/site-packages/tensorflow/python/keras/engine/training.py:806 train_function  *\n        return step_function(self, iterator)\n    /opt/anaconda3/envs/learn-env/lib/python3.8/site-packages/tensorflow/python/keras/engine/training.py:796 step_function  **\n        outputs = model.distribute_strategy.run(run_step, args=(data,))\n    /opt/anaconda3/envs/learn-env/lib/python3.8/site-packages/tensorflow/python/distribute/distribute_lib.py:1211 run\n        return self._extended.call_for_each_replica(fn, args=args, kwargs=kwargs)\n    /opt/anaconda3/envs/learn-env/lib/python3.8/site-packages/tensorflow/python/distribute/distribute_lib.py:2585 call_for_each_replica\n        return self._call_for_each_replica(fn, args, kwargs)\n    /opt/anaconda3/envs/learn-env/lib/python3.8/site-packages/tensorflow/python/distribute/distribute_lib.py:2945 _call_for_each_replica\n        return fn(*args, **kwargs)\n    /opt/anaconda3/envs/learn-env/lib/python3.8/site-packages/tensorflow/python/keras/engine/training.py:789 run_step  **\n        outputs = model.train_step(data)\n    /opt/anaconda3/envs/learn-env/lib/python3.8/site-packages/tensorflow/python/keras/engine/training.py:747 train_step\n        y_pred = self(x, training=True)\n    /opt/anaconda3/envs/learn-env/lib/python3.8/site-packages/tensorflow/python/keras/engine/base_layer.py:975 __call__\n        input_spec.assert_input_compatibility(self.input_spec, inputs,\n    /opt/anaconda3/envs/learn-env/lib/python3.8/site-packages/tensorflow/python/keras/engine/input_spec.py:212 assert_input_compatibility\n        raise ValueError(\n\n    ValueError: Input 0 of layer sequential_1 is incompatible with the layer: expected axis -1 of input shape to have value 229376 but received input with shape [None, 200, 200, 1]\n",
     "output_type": "error",
     "traceback": [
      "\u001b[0;31m---------------------------------------------------------------------------\u001b[0m",
      "\u001b[0;31mValueError\u001b[0m                                Traceback (most recent call last)",
      "\u001b[0;32m<ipython-input-24-9eb97cad9280>\u001b[0m in \u001b[0;36m<module>\u001b[0;34m\u001b[0m\n\u001b[1;32m      2\u001b[0m               \u001b[0moptimizer\u001b[0m\u001b[0;34m=\u001b[0m\u001b[0;34m'adam'\u001b[0m\u001b[0;34m,\u001b[0m\u001b[0;34m\u001b[0m\u001b[0;34m\u001b[0m\u001b[0m\n\u001b[1;32m      3\u001b[0m               metrics=['Accuracy'])\n\u001b[0;32m----> 4\u001b[0;31m history = model.fit(x_train, y_train, epochs=50,\n\u001b[0m\u001b[1;32m      5\u001b[0m                     validation_data=(x_test, y_test))\n",
      "\u001b[0;32m/opt/anaconda3/envs/learn-env/lib/python3.8/site-packages/tensorflow/python/keras/engine/training.py\u001b[0m in \u001b[0;36m_method_wrapper\u001b[0;34m(self, *args, **kwargs)\u001b[0m\n\u001b[1;32m    106\u001b[0m   \u001b[0;32mdef\u001b[0m \u001b[0m_method_wrapper\u001b[0m\u001b[0;34m(\u001b[0m\u001b[0mself\u001b[0m\u001b[0;34m,\u001b[0m \u001b[0;34m*\u001b[0m\u001b[0margs\u001b[0m\u001b[0;34m,\u001b[0m \u001b[0;34m**\u001b[0m\u001b[0mkwargs\u001b[0m\u001b[0;34m)\u001b[0m\u001b[0;34m:\u001b[0m\u001b[0;34m\u001b[0m\u001b[0;34m\u001b[0m\u001b[0m\n\u001b[1;32m    107\u001b[0m     \u001b[0;32mif\u001b[0m \u001b[0;32mnot\u001b[0m \u001b[0mself\u001b[0m\u001b[0;34m.\u001b[0m\u001b[0m_in_multi_worker_mode\u001b[0m\u001b[0;34m(\u001b[0m\u001b[0;34m)\u001b[0m\u001b[0;34m:\u001b[0m  \u001b[0;31m# pylint: disable=protected-access\u001b[0m\u001b[0;34m\u001b[0m\u001b[0;34m\u001b[0m\u001b[0m\n\u001b[0;32m--> 108\u001b[0;31m       \u001b[0;32mreturn\u001b[0m \u001b[0mmethod\u001b[0m\u001b[0;34m(\u001b[0m\u001b[0mself\u001b[0m\u001b[0;34m,\u001b[0m \u001b[0;34m*\u001b[0m\u001b[0margs\u001b[0m\u001b[0;34m,\u001b[0m \u001b[0;34m**\u001b[0m\u001b[0mkwargs\u001b[0m\u001b[0;34m)\u001b[0m\u001b[0;34m\u001b[0m\u001b[0;34m\u001b[0m\u001b[0m\n\u001b[0m\u001b[1;32m    109\u001b[0m \u001b[0;34m\u001b[0m\u001b[0m\n\u001b[1;32m    110\u001b[0m     \u001b[0;31m# Running inside `run_distribute_coordinator` already.\u001b[0m\u001b[0;34m\u001b[0m\u001b[0;34m\u001b[0m\u001b[0;34m\u001b[0m\u001b[0m\n",
      "\u001b[0;32m/opt/anaconda3/envs/learn-env/lib/python3.8/site-packages/tensorflow/python/keras/engine/training.py\u001b[0m in \u001b[0;36mfit\u001b[0;34m(self, x, y, batch_size, epochs, verbose, callbacks, validation_split, validation_data, shuffle, class_weight, sample_weight, initial_epoch, steps_per_epoch, validation_steps, validation_batch_size, validation_freq, max_queue_size, workers, use_multiprocessing)\u001b[0m\n\u001b[1;32m   1096\u001b[0m                 batch_size=batch_size):\n\u001b[1;32m   1097\u001b[0m               \u001b[0mcallbacks\u001b[0m\u001b[0;34m.\u001b[0m\u001b[0mon_train_batch_begin\u001b[0m\u001b[0;34m(\u001b[0m\u001b[0mstep\u001b[0m\u001b[0;34m)\u001b[0m\u001b[0;34m\u001b[0m\u001b[0;34m\u001b[0m\u001b[0m\n\u001b[0;32m-> 1098\u001b[0;31m               \u001b[0mtmp_logs\u001b[0m \u001b[0;34m=\u001b[0m \u001b[0mtrain_function\u001b[0m\u001b[0;34m(\u001b[0m\u001b[0miterator\u001b[0m\u001b[0;34m)\u001b[0m\u001b[0;34m\u001b[0m\u001b[0;34m\u001b[0m\u001b[0m\n\u001b[0m\u001b[1;32m   1099\u001b[0m               \u001b[0;32mif\u001b[0m \u001b[0mdata_handler\u001b[0m\u001b[0;34m.\u001b[0m\u001b[0mshould_sync\u001b[0m\u001b[0;34m:\u001b[0m\u001b[0;34m\u001b[0m\u001b[0;34m\u001b[0m\u001b[0m\n\u001b[1;32m   1100\u001b[0m                 \u001b[0mcontext\u001b[0m\u001b[0;34m.\u001b[0m\u001b[0masync_wait\u001b[0m\u001b[0;34m(\u001b[0m\u001b[0;34m)\u001b[0m\u001b[0;34m\u001b[0m\u001b[0;34m\u001b[0m\u001b[0m\n",
      "\u001b[0;32m/opt/anaconda3/envs/learn-env/lib/python3.8/site-packages/tensorflow/python/eager/def_function.py\u001b[0m in \u001b[0;36m__call__\u001b[0;34m(self, *args, **kwds)\u001b[0m\n\u001b[1;32m    778\u001b[0m       \u001b[0;32melse\u001b[0m\u001b[0;34m:\u001b[0m\u001b[0;34m\u001b[0m\u001b[0;34m\u001b[0m\u001b[0m\n\u001b[1;32m    779\u001b[0m         \u001b[0mcompiler\u001b[0m \u001b[0;34m=\u001b[0m \u001b[0;34m\"nonXla\"\u001b[0m\u001b[0;34m\u001b[0m\u001b[0;34m\u001b[0m\u001b[0m\n\u001b[0;32m--> 780\u001b[0;31m         \u001b[0mresult\u001b[0m \u001b[0;34m=\u001b[0m \u001b[0mself\u001b[0m\u001b[0;34m.\u001b[0m\u001b[0m_call\u001b[0m\u001b[0;34m(\u001b[0m\u001b[0;34m*\u001b[0m\u001b[0margs\u001b[0m\u001b[0;34m,\u001b[0m \u001b[0;34m**\u001b[0m\u001b[0mkwds\u001b[0m\u001b[0;34m)\u001b[0m\u001b[0;34m\u001b[0m\u001b[0;34m\u001b[0m\u001b[0m\n\u001b[0m\u001b[1;32m    781\u001b[0m \u001b[0;34m\u001b[0m\u001b[0m\n\u001b[1;32m    782\u001b[0m       \u001b[0mnew_tracing_count\u001b[0m \u001b[0;34m=\u001b[0m \u001b[0mself\u001b[0m\u001b[0;34m.\u001b[0m\u001b[0m_get_tracing_count\u001b[0m\u001b[0;34m(\u001b[0m\u001b[0;34m)\u001b[0m\u001b[0;34m\u001b[0m\u001b[0;34m\u001b[0m\u001b[0m\n",
      "\u001b[0;32m/opt/anaconda3/envs/learn-env/lib/python3.8/site-packages/tensorflow/python/eager/def_function.py\u001b[0m in \u001b[0;36m_call\u001b[0;34m(self, *args, **kwds)\u001b[0m\n\u001b[1;32m    821\u001b[0m       \u001b[0;31m# This is the first call of __call__, so we have to initialize.\u001b[0m\u001b[0;34m\u001b[0m\u001b[0;34m\u001b[0m\u001b[0;34m\u001b[0m\u001b[0m\n\u001b[1;32m    822\u001b[0m       \u001b[0minitializers\u001b[0m \u001b[0;34m=\u001b[0m \u001b[0;34m[\u001b[0m\u001b[0;34m]\u001b[0m\u001b[0;34m\u001b[0m\u001b[0;34m\u001b[0m\u001b[0m\n\u001b[0;32m--> 823\u001b[0;31m       \u001b[0mself\u001b[0m\u001b[0;34m.\u001b[0m\u001b[0m_initialize\u001b[0m\u001b[0;34m(\u001b[0m\u001b[0margs\u001b[0m\u001b[0;34m,\u001b[0m \u001b[0mkwds\u001b[0m\u001b[0;34m,\u001b[0m \u001b[0madd_initializers_to\u001b[0m\u001b[0;34m=\u001b[0m\u001b[0minitializers\u001b[0m\u001b[0;34m)\u001b[0m\u001b[0;34m\u001b[0m\u001b[0;34m\u001b[0m\u001b[0m\n\u001b[0m\u001b[1;32m    824\u001b[0m     \u001b[0;32mfinally\u001b[0m\u001b[0;34m:\u001b[0m\u001b[0;34m\u001b[0m\u001b[0;34m\u001b[0m\u001b[0m\n\u001b[1;32m    825\u001b[0m       \u001b[0;31m# At this point we know that the initialization is complete (or less\u001b[0m\u001b[0;34m\u001b[0m\u001b[0;34m\u001b[0m\u001b[0;34m\u001b[0m\u001b[0m\n",
      "\u001b[0;32m/opt/anaconda3/envs/learn-env/lib/python3.8/site-packages/tensorflow/python/eager/def_function.py\u001b[0m in \u001b[0;36m_initialize\u001b[0;34m(self, args, kwds, add_initializers_to)\u001b[0m\n\u001b[1;32m    694\u001b[0m     \u001b[0mself\u001b[0m\u001b[0;34m.\u001b[0m\u001b[0m_graph_deleter\u001b[0m \u001b[0;34m=\u001b[0m \u001b[0mFunctionDeleter\u001b[0m\u001b[0;34m(\u001b[0m\u001b[0mself\u001b[0m\u001b[0;34m.\u001b[0m\u001b[0m_lifted_initializer_graph\u001b[0m\u001b[0;34m)\u001b[0m\u001b[0;34m\u001b[0m\u001b[0;34m\u001b[0m\u001b[0m\n\u001b[1;32m    695\u001b[0m     self._concrete_stateful_fn = (\n\u001b[0;32m--> 696\u001b[0;31m         self._stateful_fn._get_concrete_function_internal_garbage_collected(  # pylint: disable=protected-access\n\u001b[0m\u001b[1;32m    697\u001b[0m             *args, **kwds))\n\u001b[1;32m    698\u001b[0m \u001b[0;34m\u001b[0m\u001b[0m\n",
      "\u001b[0;32m/opt/anaconda3/envs/learn-env/lib/python3.8/site-packages/tensorflow/python/eager/function.py\u001b[0m in \u001b[0;36m_get_concrete_function_internal_garbage_collected\u001b[0;34m(self, *args, **kwargs)\u001b[0m\n\u001b[1;32m   2853\u001b[0m       \u001b[0margs\u001b[0m\u001b[0;34m,\u001b[0m \u001b[0mkwargs\u001b[0m \u001b[0;34m=\u001b[0m \u001b[0;32mNone\u001b[0m\u001b[0;34m,\u001b[0m \u001b[0;32mNone\u001b[0m\u001b[0;34m\u001b[0m\u001b[0;34m\u001b[0m\u001b[0m\n\u001b[1;32m   2854\u001b[0m     \u001b[0;32mwith\u001b[0m \u001b[0mself\u001b[0m\u001b[0;34m.\u001b[0m\u001b[0m_lock\u001b[0m\u001b[0;34m:\u001b[0m\u001b[0;34m\u001b[0m\u001b[0;34m\u001b[0m\u001b[0m\n\u001b[0;32m-> 2855\u001b[0;31m       \u001b[0mgraph_function\u001b[0m\u001b[0;34m,\u001b[0m \u001b[0m_\u001b[0m\u001b[0;34m,\u001b[0m \u001b[0m_\u001b[0m \u001b[0;34m=\u001b[0m \u001b[0mself\u001b[0m\u001b[0;34m.\u001b[0m\u001b[0m_maybe_define_function\u001b[0m\u001b[0;34m(\u001b[0m\u001b[0margs\u001b[0m\u001b[0;34m,\u001b[0m \u001b[0mkwargs\u001b[0m\u001b[0;34m)\u001b[0m\u001b[0;34m\u001b[0m\u001b[0;34m\u001b[0m\u001b[0m\n\u001b[0m\u001b[1;32m   2856\u001b[0m     \u001b[0;32mreturn\u001b[0m \u001b[0mgraph_function\u001b[0m\u001b[0;34m\u001b[0m\u001b[0;34m\u001b[0m\u001b[0m\n\u001b[1;32m   2857\u001b[0m \u001b[0;34m\u001b[0m\u001b[0m\n",
      "\u001b[0;32m/opt/anaconda3/envs/learn-env/lib/python3.8/site-packages/tensorflow/python/eager/function.py\u001b[0m in \u001b[0;36m_maybe_define_function\u001b[0;34m(self, args, kwargs)\u001b[0m\n\u001b[1;32m   3211\u001b[0m \u001b[0;34m\u001b[0m\u001b[0m\n\u001b[1;32m   3212\u001b[0m       \u001b[0mself\u001b[0m\u001b[0;34m.\u001b[0m\u001b[0m_function_cache\u001b[0m\u001b[0;34m.\u001b[0m\u001b[0mmissed\u001b[0m\u001b[0;34m.\u001b[0m\u001b[0madd\u001b[0m\u001b[0;34m(\u001b[0m\u001b[0mcall_context_key\u001b[0m\u001b[0;34m)\u001b[0m\u001b[0;34m\u001b[0m\u001b[0;34m\u001b[0m\u001b[0m\n\u001b[0;32m-> 3213\u001b[0;31m       \u001b[0mgraph_function\u001b[0m \u001b[0;34m=\u001b[0m \u001b[0mself\u001b[0m\u001b[0;34m.\u001b[0m\u001b[0m_create_graph_function\u001b[0m\u001b[0;34m(\u001b[0m\u001b[0margs\u001b[0m\u001b[0;34m,\u001b[0m \u001b[0mkwargs\u001b[0m\u001b[0;34m)\u001b[0m\u001b[0;34m\u001b[0m\u001b[0;34m\u001b[0m\u001b[0m\n\u001b[0m\u001b[1;32m   3214\u001b[0m       \u001b[0mself\u001b[0m\u001b[0;34m.\u001b[0m\u001b[0m_function_cache\u001b[0m\u001b[0;34m.\u001b[0m\u001b[0mprimary\u001b[0m\u001b[0;34m[\u001b[0m\u001b[0mcache_key\u001b[0m\u001b[0;34m]\u001b[0m \u001b[0;34m=\u001b[0m \u001b[0mgraph_function\u001b[0m\u001b[0;34m\u001b[0m\u001b[0;34m\u001b[0m\u001b[0m\n\u001b[1;32m   3215\u001b[0m       \u001b[0;32mreturn\u001b[0m \u001b[0mgraph_function\u001b[0m\u001b[0;34m,\u001b[0m \u001b[0margs\u001b[0m\u001b[0;34m,\u001b[0m \u001b[0mkwargs\u001b[0m\u001b[0;34m\u001b[0m\u001b[0;34m\u001b[0m\u001b[0m\n",
      "\u001b[0;32m/opt/anaconda3/envs/learn-env/lib/python3.8/site-packages/tensorflow/python/eager/function.py\u001b[0m in \u001b[0;36m_create_graph_function\u001b[0;34m(self, args, kwargs, override_flat_arg_shapes)\u001b[0m\n\u001b[1;32m   3063\u001b[0m     \u001b[0marg_names\u001b[0m \u001b[0;34m=\u001b[0m \u001b[0mbase_arg_names\u001b[0m \u001b[0;34m+\u001b[0m \u001b[0mmissing_arg_names\u001b[0m\u001b[0;34m\u001b[0m\u001b[0;34m\u001b[0m\u001b[0m\n\u001b[1;32m   3064\u001b[0m     graph_function = ConcreteFunction(\n\u001b[0;32m-> 3065\u001b[0;31m         func_graph_module.func_graph_from_py_func(\n\u001b[0m\u001b[1;32m   3066\u001b[0m             \u001b[0mself\u001b[0m\u001b[0;34m.\u001b[0m\u001b[0m_name\u001b[0m\u001b[0;34m,\u001b[0m\u001b[0;34m\u001b[0m\u001b[0;34m\u001b[0m\u001b[0m\n\u001b[1;32m   3067\u001b[0m             \u001b[0mself\u001b[0m\u001b[0;34m.\u001b[0m\u001b[0m_python_function\u001b[0m\u001b[0;34m,\u001b[0m\u001b[0;34m\u001b[0m\u001b[0;34m\u001b[0m\u001b[0m\n",
      "\u001b[0;32m/opt/anaconda3/envs/learn-env/lib/python3.8/site-packages/tensorflow/python/framework/func_graph.py\u001b[0m in \u001b[0;36mfunc_graph_from_py_func\u001b[0;34m(name, python_func, args, kwargs, signature, func_graph, autograph, autograph_options, add_control_dependencies, arg_names, op_return_value, collections, capture_by_value, override_flat_arg_shapes)\u001b[0m\n\u001b[1;32m    984\u001b[0m         \u001b[0m_\u001b[0m\u001b[0;34m,\u001b[0m \u001b[0moriginal_func\u001b[0m \u001b[0;34m=\u001b[0m \u001b[0mtf_decorator\u001b[0m\u001b[0;34m.\u001b[0m\u001b[0munwrap\u001b[0m\u001b[0;34m(\u001b[0m\u001b[0mpython_func\u001b[0m\u001b[0;34m)\u001b[0m\u001b[0;34m\u001b[0m\u001b[0;34m\u001b[0m\u001b[0m\n\u001b[1;32m    985\u001b[0m \u001b[0;34m\u001b[0m\u001b[0m\n\u001b[0;32m--> 986\u001b[0;31m       \u001b[0mfunc_outputs\u001b[0m \u001b[0;34m=\u001b[0m \u001b[0mpython_func\u001b[0m\u001b[0;34m(\u001b[0m\u001b[0;34m*\u001b[0m\u001b[0mfunc_args\u001b[0m\u001b[0;34m,\u001b[0m \u001b[0;34m**\u001b[0m\u001b[0mfunc_kwargs\u001b[0m\u001b[0;34m)\u001b[0m\u001b[0;34m\u001b[0m\u001b[0;34m\u001b[0m\u001b[0m\n\u001b[0m\u001b[1;32m    987\u001b[0m \u001b[0;34m\u001b[0m\u001b[0m\n\u001b[1;32m    988\u001b[0m       \u001b[0;31m# invariant: `func_outputs` contains only Tensors, CompositeTensors,\u001b[0m\u001b[0;34m\u001b[0m\u001b[0;34m\u001b[0m\u001b[0;34m\u001b[0m\u001b[0m\n",
      "\u001b[0;32m/opt/anaconda3/envs/learn-env/lib/python3.8/site-packages/tensorflow/python/eager/def_function.py\u001b[0m in \u001b[0;36mwrapped_fn\u001b[0;34m(*args, **kwds)\u001b[0m\n\u001b[1;32m    598\u001b[0m         \u001b[0;31m# __wrapped__ allows AutoGraph to swap in a converted function. We give\u001b[0m\u001b[0;34m\u001b[0m\u001b[0;34m\u001b[0m\u001b[0;34m\u001b[0m\u001b[0m\n\u001b[1;32m    599\u001b[0m         \u001b[0;31m# the function a weak reference to itself to avoid a reference cycle.\u001b[0m\u001b[0;34m\u001b[0m\u001b[0;34m\u001b[0m\u001b[0;34m\u001b[0m\u001b[0m\n\u001b[0;32m--> 600\u001b[0;31m         \u001b[0;32mreturn\u001b[0m \u001b[0mweak_wrapped_fn\u001b[0m\u001b[0;34m(\u001b[0m\u001b[0;34m)\u001b[0m\u001b[0;34m.\u001b[0m\u001b[0m__wrapped__\u001b[0m\u001b[0;34m(\u001b[0m\u001b[0;34m*\u001b[0m\u001b[0margs\u001b[0m\u001b[0;34m,\u001b[0m \u001b[0;34m**\u001b[0m\u001b[0mkwds\u001b[0m\u001b[0;34m)\u001b[0m\u001b[0;34m\u001b[0m\u001b[0;34m\u001b[0m\u001b[0m\n\u001b[0m\u001b[1;32m    601\u001b[0m     \u001b[0mweak_wrapped_fn\u001b[0m \u001b[0;34m=\u001b[0m \u001b[0mweakref\u001b[0m\u001b[0;34m.\u001b[0m\u001b[0mref\u001b[0m\u001b[0;34m(\u001b[0m\u001b[0mwrapped_fn\u001b[0m\u001b[0;34m)\u001b[0m\u001b[0;34m\u001b[0m\u001b[0;34m\u001b[0m\u001b[0m\n\u001b[1;32m    602\u001b[0m \u001b[0;34m\u001b[0m\u001b[0m\n",
      "\u001b[0;32m/opt/anaconda3/envs/learn-env/lib/python3.8/site-packages/tensorflow/python/framework/func_graph.py\u001b[0m in \u001b[0;36mwrapper\u001b[0;34m(*args, **kwargs)\u001b[0m\n\u001b[1;32m    971\u001b[0m           \u001b[0;32mexcept\u001b[0m \u001b[0mException\u001b[0m \u001b[0;32mas\u001b[0m \u001b[0me\u001b[0m\u001b[0;34m:\u001b[0m  \u001b[0;31m# pylint:disable=broad-except\u001b[0m\u001b[0;34m\u001b[0m\u001b[0;34m\u001b[0m\u001b[0m\n\u001b[1;32m    972\u001b[0m             \u001b[0;32mif\u001b[0m \u001b[0mhasattr\u001b[0m\u001b[0;34m(\u001b[0m\u001b[0me\u001b[0m\u001b[0;34m,\u001b[0m \u001b[0;34m\"ag_error_metadata\"\u001b[0m\u001b[0;34m)\u001b[0m\u001b[0;34m:\u001b[0m\u001b[0;34m\u001b[0m\u001b[0;34m\u001b[0m\u001b[0m\n\u001b[0;32m--> 973\u001b[0;31m               \u001b[0;32mraise\u001b[0m \u001b[0me\u001b[0m\u001b[0;34m.\u001b[0m\u001b[0mag_error_metadata\u001b[0m\u001b[0;34m.\u001b[0m\u001b[0mto_exception\u001b[0m\u001b[0;34m(\u001b[0m\u001b[0me\u001b[0m\u001b[0;34m)\u001b[0m\u001b[0;34m\u001b[0m\u001b[0;34m\u001b[0m\u001b[0m\n\u001b[0m\u001b[1;32m    974\u001b[0m             \u001b[0;32melse\u001b[0m\u001b[0;34m:\u001b[0m\u001b[0;34m\u001b[0m\u001b[0;34m\u001b[0m\u001b[0m\n\u001b[1;32m    975\u001b[0m               \u001b[0;32mraise\u001b[0m\u001b[0;34m\u001b[0m\u001b[0;34m\u001b[0m\u001b[0m\n",
      "\u001b[0;31mValueError\u001b[0m: in user code:\n\n    /opt/anaconda3/envs/learn-env/lib/python3.8/site-packages/tensorflow/python/keras/engine/training.py:806 train_function  *\n        return step_function(self, iterator)\n    /opt/anaconda3/envs/learn-env/lib/python3.8/site-packages/tensorflow/python/keras/engine/training.py:796 step_function  **\n        outputs = model.distribute_strategy.run(run_step, args=(data,))\n    /opt/anaconda3/envs/learn-env/lib/python3.8/site-packages/tensorflow/python/distribute/distribute_lib.py:1211 run\n        return self._extended.call_for_each_replica(fn, args=args, kwargs=kwargs)\n    /opt/anaconda3/envs/learn-env/lib/python3.8/site-packages/tensorflow/python/distribute/distribute_lib.py:2585 call_for_each_replica\n        return self._call_for_each_replica(fn, args, kwargs)\n    /opt/anaconda3/envs/learn-env/lib/python3.8/site-packages/tensorflow/python/distribute/distribute_lib.py:2945 _call_for_each_replica\n        return fn(*args, **kwargs)\n    /opt/anaconda3/envs/learn-env/lib/python3.8/site-packages/tensorflow/python/keras/engine/training.py:789 run_step  **\n        outputs = model.train_step(data)\n    /opt/anaconda3/envs/learn-env/lib/python3.8/site-packages/tensorflow/python/keras/engine/training.py:747 train_step\n        y_pred = self(x, training=True)\n    /opt/anaconda3/envs/learn-env/lib/python3.8/site-packages/tensorflow/python/keras/engine/base_layer.py:975 __call__\n        input_spec.assert_input_compatibility(self.input_spec, inputs,\n    /opt/anaconda3/envs/learn-env/lib/python3.8/site-packages/tensorflow/python/keras/engine/input_spec.py:212 assert_input_compatibility\n        raise ValueError(\n\n    ValueError: Input 0 of layer sequential_1 is incompatible with the layer: expected axis -1 of input shape to have value 229376 but received input with shape [None, 200, 200, 1]\n"
     ]
    }
   ],
   "source": [
    "model.compile(loss='binary_crossentropy',\n",
    "              optimizer='adam',\n",
    "              metrics=['Accuracy'])\n",
    "history = model.fit(x_train, y_train, epochs=50,\n",
    "                    validation_data=(x_test, y_test))"
   ]
  },
  {
   "cell_type": "markdown",
   "metadata": {},
   "source": [
    "It seems to me that this model set up, with combining images and such just isn't going to work, so it'll be back to the drawing board entirely for me"
   ]
  },
  {
   "cell_type": "markdown",
   "metadata": {},
   "source": [
    "let's try going back to some of my originial work and make some adjustments for a CNN"
   ]
  },
  {
   "cell_type": "code",
   "execution_count": 3,
   "metadata": {},
   "outputs": [
    {
     "data": {
      "text/html": [
       "<div>\n",
       "<style scoped>\n",
       "    .dataframe tbody tr th:only-of-type {\n",
       "        vertical-align: middle;\n",
       "    }\n",
       "\n",
       "    .dataframe tbody tr th {\n",
       "        vertical-align: top;\n",
       "    }\n",
       "\n",
       "    .dataframe thead th {\n",
       "        text-align: right;\n",
       "    }\n",
       "</style>\n",
       "<table border=\"1\" class=\"dataframe\">\n",
       "  <thead>\n",
       "    <tr style=\"text-align: right;\">\n",
       "      <th></th>\n",
       "      <th>id</th>\n",
       "    </tr>\n",
       "  </thead>\n",
       "  <tbody>\n",
       "    <tr>\n",
       "      <th>0</th>\n",
       "      <td>I99265</td>\n",
       "    </tr>\n",
       "    <tr>\n",
       "      <th>1</th>\n",
       "      <td>I79080</td>\n",
       "    </tr>\n",
       "    <tr>\n",
       "      <th>2</th>\n",
       "      <td>I66824</td>\n",
       "    </tr>\n",
       "    <tr>\n",
       "      <th>3</th>\n",
       "      <td>I82705</td>\n",
       "    </tr>\n",
       "    <tr>\n",
       "      <th>4</th>\n",
       "      <td>I40404</td>\n",
       "    </tr>\n",
       "  </tbody>\n",
       "</table>\n",
       "</div>"
      ],
      "text/plain": [
       "       id\n",
       "0  I99265\n",
       "1  I79080\n",
       "2  I66824\n",
       "3  I82705\n",
       "4  I40404"
      ]
     },
     "execution_count": 3,
     "metadata": {},
     "output_type": "execute_result"
    }
   ],
   "source": [
    "images = df['Image Data ID'].tolist()\n",
    "df_2 = pd.DataFrame()\n",
    "df_2['id'] = list(images)\n",
    "df_2.head()"
   ]
  },
  {
   "cell_type": "code",
   "execution_count": 4,
   "metadata": {},
   "outputs": [],
   "source": [
    "def get_visit(subject):\n",
    "    hold1 = df.loc[df['Image Data ID'] == subject]\n",
    "    hold2 = hold1.iloc[0]\n",
    "    visitnum = hold2['Visit']\n",
    "    return visitnum\n",
    "\n",
    "def get_Group(subject):\n",
    "    hold1 = df.loc[df['Image Data ID'] == subject]\n",
    "    hold2 = hold1.iloc[0]\n",
    "    diag = hold2['Group']\n",
    "    return diag\n",
    "\n",
    "df_2['visit'] = df_2['id'].apply(get_visit)\n",
    "df_2['diagnosis'] = df_2['id'].apply(get_Group)\n",
    "\n"
   ]
  },
  {
   "cell_type": "code",
   "execution_count": 5,
   "metadata": {},
   "outputs": [],
   "source": [
    "import SimpleITK as sitk\n",
    "def get_images(subject):\n",
    "    path = 'Something/' + subject\n",
    "    image = sitk.ReadImage(path)\n",
    "    img = sitk.GetArrayFromImage(image)\n",
    "    return img\n",
    "df_2['images'] = df_2['id'].apply(get_images)"
   ]
  },
  {
   "cell_type": "markdown",
   "metadata": {},
   "source": [
    "This time for the sake of simplicity let's try using single images from slice 80 of each .nii file"
   ]
  },
  {
   "cell_type": "code",
   "execution_count": null,
   "metadata": {},
   "outputs": [],
   "source": [
    "#try and make models for slice 96 and 66, stack models?"
   ]
  },
  {
   "cell_type": "code",
   "execution_count": 6,
   "metadata": {},
   "outputs": [],
   "source": [
    "def reshape_images(images):\n",
    "    hold1 = images[81]\n",
    "    return hold1"
   ]
  },
  {
   "cell_type": "code",
   "execution_count": 7,
   "metadata": {},
   "outputs": [],
   "source": [
    "df_2['images'] = df_2['images'].apply(reshape_images)"
   ]
  },
  {
   "cell_type": "code",
   "execution_count": 8,
   "metadata": {},
   "outputs": [],
   "source": [
    "images = df_2['images']"
   ]
  },
  {
   "cell_type": "code",
   "execution_count": 9,
   "metadata": {},
   "outputs": [
    {
     "data": {
      "text/plain": [
       "(256, 256)"
      ]
     },
     "execution_count": 9,
     "metadata": {},
     "output_type": "execute_result"
    }
   ],
   "source": [
    "hold = images[0]\n",
    "hold.shape"
   ]
  },
  {
   "cell_type": "code",
   "execution_count": 10,
   "metadata": {},
   "outputs": [
    {
     "data": {
      "text/plain": [
       "<matplotlib.image.AxesImage at 0x7f8a83ebb490>"
      ]
     },
     "metadata": {},
     "output_type": "display_data"
    },
    {
     "data": {
      "image/png": "[encoded data removed]",
      "text/plain": [
       "<Figure size 432x288 with 1 Axes>"
      ]
     },
     "metadata": {
      "needs_background": "light"
     },
     "output_type": "display_data"
    }
   ],
   "source": [
    "display(plt.imshow(hold))"
   ]
  },
  {
   "cell_type": "code",
   "execution_count": null,
   "metadata": {},
   "outputs": [],
   "source": []
  },
  {
   "cell_type": "code",
   "execution_count": null,
   "metadata": {},
   "outputs": [],
   "source": []
  },
  {
   "cell_type": "code",
   "execution_count": 11,
   "metadata": {},
   "outputs": [],
   "source": [
    "import cv2\n",
    "def resize_images(images):\n",
    "    hold1 = images.copy()\n",
    "    hold2 = cv2.resize(hold1,(200,200),interpolation=cv2.INTER_CUBIC)\n",
    "    return hold2"
   ]
  },
  {
   "cell_type": "code",
   "execution_count": 12,
   "metadata": {},
   "outputs": [],
   "source": [
    "df_2['images'] = df_2['images'].apply(resize_images)"
   ]
  },
  {
   "cell_type": "code",
   "execution_count": 13,
   "metadata": {},
   "outputs": [
    {
     "data": {
      "text/plain": [
       "<matplotlib.image.AxesImage at 0x7f8a84163c70>"
      ]
     },
     "metadata": {},
     "output_type": "display_data"
    },
    {
     "data": {
      "image/png": "[encoded data removed]",
      "text/plain": [
       "<Figure size 432x288 with 1 Axes>"
      ]
     },
     "metadata": {
      "needs_background": "light"
     },
     "output_type": "display_data"
    }
   ],
   "source": [
    "images = df_2['images']\n",
    "test = images[0]\n",
    "display(plt.imshow(test))"
   ]
  },
  {
   "cell_type": "code",
   "execution_count": 14,
   "metadata": {},
   "outputs": [
    {
     "data": {
      "text/plain": [
       "numpy.ndarray"
      ]
     },
     "execution_count": 14,
     "metadata": {},
     "output_type": "execute_result"
    }
   ],
   "source": [
    "type(test)"
   ]
  },
  {
   "cell_type": "code",
   "execution_count": 15,
   "metadata": {},
   "outputs": [
    {
     "data": {
      "text/plain": [
       "(200, 200)"
      ]
     },
     "execution_count": 15,
     "metadata": {},
     "output_type": "execute_result"
    }
   ],
   "source": [
    "test.shape"
   ]
  },
  {
   "cell_type": "code",
   "execution_count": 16,
   "metadata": {},
   "outputs": [],
   "source": [
    "x = df_2['images']\n",
    "y = df_2['diagnosis']"
   ]
  },
  {
   "cell_type": "code",
   "execution_count": 17,
   "metadata": {},
   "outputs": [],
   "source": [
    "x_array = np.array(x)\n",
    "x_array = np.stack(x_array)"
   ]
  },
  {
   "cell_type": "code",
   "execution_count": 18,
   "metadata": {},
   "outputs": [],
   "source": [
    "x_array = x_array.reshape(420,200,200,1)"
   ]
  },
  {
   "cell_type": "code",
   "execution_count": 19,
   "metadata": {},
   "outputs": [],
   "source": [
    "def to_int(string):\n",
    "    if string == 'MCI':\n",
    "        return 'AD';\n",
    "    elif string == 'AD':\n",
    "        return 'AD'\n",
    "    else:\n",
    "        return 'CN'\n",
    "y = y.apply(to_int)\n",
    "\n",
    "target_encoder = LabelEncoder()\n",
    "target_encoder.fit(y)\n",
    "y = target_encoder.transform(y)"
   ]
  },
  {
   "cell_type": "code",
   "execution_count": 20,
   "metadata": {},
   "outputs": [],
   "source": [
    "x_train, x_test, y_train, y_test = train_test_split(x_array, y, random_state = 42)"
   ]
  },
  {
   "cell_type": "code",
   "execution_count": 52,
   "metadata": {},
   "outputs": [],
   "source": [
    "model = models.Sequential()\n",
    "model.add(layers.Conv2D(32, (3, 3), activation='relu', input_shape=(200, 200, 1)))\n",
    "model.add(layers.MaxPooling2D((2, 2)))\n",
    "model.add(layers.Conv2D(64, (3, 3), activation='relu'))\n",
    "model.add(layers.MaxPooling2D((2, 2)))\n",
    "model.add(layers.Conv2D(64, (3, 3), activation='relu'))"
   ]
  },
  {
   "cell_type": "code",
   "execution_count": 53,
   "metadata": {},
   "outputs": [],
   "source": [
    "model.add(layers.Flatten())\n",
    "model.add(layers.Dense(64, activation='relu'))\n",
    "model.add(Dense(units=1, activation = 'sigmoid'))\n",
    "\n"
   ]
  },
  {
   "cell_type": "code",
   "execution_count": 54,
   "metadata": {},
   "outputs": [],
   "source": [
    "model.compile(optimizer='adam',\n",
    "              loss='binary_crossentropy',\n",
    "              metrics=['accuracy'])"
   ]
  },
  {
   "cell_type": "code",
   "execution_count": 55,
   "metadata": {},
   "outputs": [
    {
     "name": "stdout",
     "output_type": "stream",
     "text": [
      "Epoch 1/10\n",
      "10/10 [==============================] - 6s 615ms/step - loss: 307.8193 - accuracy: 0.5429 - val_loss: 0.8909 - val_accuracy: 0.6762\n",
      "Epoch 2/10\n",
      "10/10 [==============================] - 6s 643ms/step - loss: 0.5464 - accuracy: 0.7587 - val_loss: 0.7942 - val_accuracy: 0.7238\n",
      "Epoch 3/10\n",
      "10/10 [==============================] - 6s 577ms/step - loss: 0.2721 - accuracy: 0.8762 - val_loss: 1.2745 - val_accuracy: 0.7429\n",
      "Epoch 4/10\n",
      "10/10 [==============================] - 6s 597ms/step - loss: 0.1253 - accuracy: 0.9460 - val_loss: 1.2242 - val_accuracy: 0.7905\n",
      "Epoch 5/10\n",
      "10/10 [==============================] - 6s 571ms/step - loss: 0.0467 - accuracy: 0.9905 - val_loss: 1.7389 - val_accuracy: 0.7619\n",
      "Epoch 6/10\n",
      "10/10 [==============================] - 6s 577ms/step - loss: 0.0120 - accuracy: 1.0000 - val_loss: 1.7634 - val_accuracy: 0.7810\n",
      "Epoch 7/10\n",
      "10/10 [==============================] - 6s 564ms/step - loss: 0.0035 - accuracy: 1.0000 - val_loss: 1.9708 - val_accuracy: 0.7429\n",
      "Epoch 8/10\n",
      "10/10 [==============================] - 6s 575ms/step - loss: 8.3278e-04 - accuracy: 1.0000 - val_loss: 3.0033 - val_accuracy: 0.7429\n",
      "Epoch 9/10\n",
      "10/10 [==============================] - 7s 683ms/step - loss: 2.8100e-04 - accuracy: 1.0000 - val_loss: 3.0683 - val_accuracy: 0.7333\n",
      "Epoch 10/10\n",
      "10/10 [==============================] - 6s 626ms/step - loss: 1.0705e-04 - accuracy: 1.0000 - val_loss: 3.0249 - val_accuracy: 0.7333\n"
     ]
    }
   ],
   "source": [
    "history = model.fit(x_train, y_train, epochs=10,\n",
    "                    validation_data=(x_test, y_test))"
   ]
  },
  {
   "cell_type": "code",
   "execution_count": 56,
   "metadata": {},
   "outputs": [
    {
     "ename": "TypeError",
     "evalue": "cannot pickle '_thread.RLock' object",
     "output_type": "error",
     "traceback": [
      "\u001b[0;31m---------------------------------------------------------------------------\u001b[0m",
      "\u001b[0;31mTypeError\u001b[0m                                 Traceback (most recent call last)",
      "\u001b[0;32m<ipython-input-56-809801f17d9b>\u001b[0m in \u001b[0;36m<module>\u001b[0;34m\u001b[0m\n\u001b[1;32m      1\u001b[0m \u001b[0;32mimport\u001b[0m \u001b[0mpickle\u001b[0m\u001b[0;34m\u001b[0m\u001b[0;34m\u001b[0m\u001b[0m\n\u001b[1;32m      2\u001b[0m \u001b[0;32mwith\u001b[0m \u001b[0mopen\u001b[0m\u001b[0;34m(\u001b[0m\u001b[0;34m'model.pkl'\u001b[0m\u001b[0;34m,\u001b[0m \u001b[0;34m'wb'\u001b[0m\u001b[0;34m)\u001b[0m \u001b[0;32mas\u001b[0m \u001b[0mf\u001b[0m\u001b[0;34m:\u001b[0m\u001b[0;34m\u001b[0m\u001b[0;34m\u001b[0m\u001b[0m\n\u001b[0;32m----> 3\u001b[0;31m     \u001b[0mpickle\u001b[0m\u001b[0;34m.\u001b[0m\u001b[0mdump\u001b[0m\u001b[0;34m(\u001b[0m\u001b[0mmodel\u001b[0m\u001b[0;34m,\u001b[0m \u001b[0mf\u001b[0m\u001b[0;34m)\u001b[0m\u001b[0;34m\u001b[0m\u001b[0;34m\u001b[0m\u001b[0m\n\u001b[0m",
      "\u001b[0;31mTypeError\u001b[0m: cannot pickle '_thread.RLock' object"
     ]
    }
   ],
   "source": [
    "import pickle\n",
    "with open('model.pkl', 'wb') as f:\n",
    "    pickle.dump(model, f)"
   ]
  },
  {
   "cell_type": "code",
   "execution_count": 58,
   "metadata": {},
   "outputs": [],
   "source": [
    "json_file = model.to_json()\n",
    "with open('model81.json', \"w\") as file:\n",
    "   file.write(json_file)\n",
    "\n",
    "model.save_weights('81weights.h5')"
   ]
  },
  {
   "cell_type": "markdown",
   "metadata": {},
   "source": [
    "This score is pretty solid and much beyyer than what I was dealing with earlier, let's try and adjust for overfitting then see how it works out."
   ]
  },
  {
   "cell_type": "code",
   "execution_count": null,
   "metadata": {},
   "outputs": [],
   "source": [
    "model = models.Sequential()\n",
    "model.add(layers.Conv2D(32, (3, 3), activation='relu', input_shape=(200, 200, 1), kernel_regularizer=keras.regularizers.l2(l2=0.01)))\n",
    "model.add(layers.MaxPooling2D((2, 2)))\n",
    "model.add(layers.Conv2D(64, (3, 3), activation='relu', kernel_regularizer=keras.regularizers.l2(l2=0.01)))\n",
    "model.add(layers.MaxPooling2D((2, 2)))\n",
    "model.add(layers.Conv2D(64, (3, 3), activation='relu', kernel_regularizer=keras.regularizers.l2(l2=0.01)))\n",
    "model.add(layers.Flatten())\n",
    "model.add(layers.Dense(64, activation='relu', kernel_regularizer=keras.regularizers.l2(l2=0.01)))\n",
    "model.add(Dense(units=1, activation = 'sigmoid'))\n",
    "\n",
    "\n"
   ]
  },
  {
   "cell_type": "code",
   "execution_count": null,
   "metadata": {},
   "outputs": [],
   "source": [
    "model.compile(optimizer='adam',\n",
    "              loss='binary_crossentropy',\n",
    "              metrics=['accuracy'])"
   ]
  },
  {
   "cell_type": "code",
   "execution_count": null,
   "metadata": {},
   "outputs": [],
   "source": [
    "history = model.fit(x_train, y_train, epochs=20,\n",
    "                    validation_data=(x_test, y_test))"
   ]
  },
  {
   "cell_type": "markdown",
   "metadata": {},
   "source": [
    "This was really not the effect I hoped for, let's try out a different strategy"
   ]
  },
  {
   "cell_type": "code",
   "execution_count": null,
   "metadata": {},
   "outputs": [],
   "source": [
    "model = models.Sequential()\n",
    "model.add(layers.Conv2D(32, (3, 3), activation='relu', input_shape=(200, 200, 1), kernel_regularizer=keras.regularizers.l2(l2=0.01)))\n",
    "model.add(layers.MaxPooling2D((2, 2)))\n",
    "model.add(Dropout(0.2))\n",
    "model.add(layers.Conv2D(64, (3, 3), activation='relu', kernel_regularizer=keras.regularizers.l2(l2=0.01)))\n",
    "model.add(layers.MaxPooling2D((2, 2)))\n",
    "model.add(Dropout(0.2))\n",
    "model.add(layers.Conv2D(64, (3, 3), activation='relu', kernel_regularizer=keras.regularizers.l2(l2=0.01)))\n",
    "model.add(layers.Flatten())\n",
    "model.add(layers.Dense(64, activation='relu', kernel_regularizer=keras.regularizers.l2(l2=0.01)))\n",
    "model.add(Dense(units=1, activation = 'sigmoid'))\n",
    "\n"
   ]
  },
  {
   "cell_type": "code",
   "execution_count": null,
   "metadata": {},
   "outputs": [],
   "source": [
    "model.compile(optimizer='adam',\n",
    "              loss='binary_crossentropy',\n",
    "              metrics=['Recall'])\n",
    "history = model.fit(x_train, y_train, epochs=20,\n",
    "                    validation_data=(x_test, y_test))"
   ]
  },
  {
   "cell_type": "code",
   "execution_count": null,
   "metadata": {},
   "outputs": [],
   "source": [
    "check = model.predict(x_train)\n",
    "check"
   ]
  },
  {
   "cell_type": "markdown",
   "metadata": {},
   "source": [
    "Yeah, really not working with drop down huh, let's go back to the pre-regularized/dropout model and limit the epochs see if ti works"
   ]
  },
  {
   "cell_type": "code",
   "execution_count": null,
   "metadata": {},
   "outputs": [],
   "source": [
    "model = models.Sequential()\n",
    "model.add(layers.Conv2D(32, (3, 3), activation='relu', input_shape=(200, 200, 1)))\n",
    "model.add(layers.MaxPooling2D((2, 2)))\n",
    "model.add(layers.Conv2D(64, (3, 3), activation='relu'))\n",
    "model.add(layers.MaxPooling2D((2, 2)))\n",
    "model.add(layers.Conv2D(64, (3, 3), activation='relu'))\n",
    "model.add(layers.Flatten())\n",
    "model.add(layers.Dense(64, activation='relu'))\n",
    "model.add(Dense(units=1, activation = 'sigmoid'))\n",
    "\n"
   ]
  },
  {
   "cell_type": "code",
   "execution_count": null,
   "metadata": {},
   "outputs": [],
   "source": [
    "model.compile(optimizer='adam',\n",
    "              loss='binary_crossentropy',\n",
    "              metrics=['Accuracy'])\n",
    "history = model.fit(x_train, y_train, epochs=15,\n",
    "                    validation_data=(x_test, y_test))"
   ]
  },
  {
   "cell_type": "code",
   "execution_count": null,
   "metadata": {},
   "outputs": [],
   "source": [
    "check = model.predict(x_train)\n",
    "check"
   ]
  },
  {
   "cell_type": "markdown",
   "metadata": {},
   "source": [
    "Decent at least, but while I'm here might as welll try using just drop out and see if it helps"
   ]
  },
  {
   "cell_type": "code",
   "execution_count": null,
   "metadata": {},
   "outputs": [],
   "source": [
    "model2 = models.Sequential()\n",
    "model2.add(layers.Conv2D(32, (3, 3), activation='relu', input_shape=(200, 200, 1)))\n",
    "model2.add(layers.MaxPooling2D((2, 2)))\n",
    "model2.add(Dropout(0.2))\n",
    "model2.add(layers.Conv2D(64, (3, 3), activation='relu'))\n",
    "model2.add(layers.MaxPooling2D((2, 2)))\n",
    "model2.add(Dropout(0.2))\n",
    "model2.add(layers.Conv2D(64, (3, 3), activation='relu'))\n",
    "model2.add(layers.Flatten())\n",
    "model2.add(layers.Dense(64, activation='relu'))\n",
    "model2.add(Dense(units=1, activation = 'sigmoid'))\n",
    "\n",
    "\n"
   ]
  },
  {
   "cell_type": "code",
   "execution_count": null,
   "metadata": {},
   "outputs": [],
   "source": [
    "model2.compile(optimizer='adam',\n",
    "              loss='binary_crossentropy',\n",
    "              metrics=['Accuracy'])\n",
    "history2 = model2.fit(x_train, y_train, epochs=15,\n",
    "                    validation_data=(x_test, y_test))"
   ]
  },
  {
   "cell_type": "markdown",
   "metadata": {},
   "source": [
    "Yeah drop out really fucks things up, low about we try and add/remove additional complexity to the model with hidden layers"
   ]
  },
  {
   "cell_type": "code",
   "execution_count": 21,
   "metadata": {},
   "outputs": [],
   "source": [
    "model3 = models.Sequential()\n",
    "model3.add(layers.Conv2D(32, (3, 3), activation='relu', input_shape=(200, 200, 1)))\n",
    "model3.add(layers.MaxPooling2D((2, 2)))\n",
    "model3.add(layers.Conv2D(64, (3, 3), activation='relu'))\n",
    "model3.add(layers.Flatten())\n",
    "model3.add(layers.Dense(64, activation='relu'))\n",
    "model3.add(Dense(units=1, activation = 'sigmoid'))\n",
    "\n",
    "\n"
   ]
  },
  {
   "cell_type": "code",
   "execution_count": 22,
   "metadata": {},
   "outputs": [
    {
     "name": "stdout",
     "output_type": "stream",
     "text": [
      "Epoch 1/15\n",
      "10/10 [==============================] - 9s 854ms/step - loss: 2229.2991 - accuracy: 0.4476 - val_loss: 56.7291 - val_accuracy: 0.4000\n",
      "Epoch 2/15\n",
      "10/10 [==============================] - 7s 728ms/step - loss: 14.2298 - accuracy: 0.1778 - val_loss: 4.5841 - val_accuracy: 0.0000e+00\n",
      "Epoch 3/15\n",
      "10/10 [==============================] - 7s 689ms/step - loss: 1.0256 - accuracy: 0.0190 - val_loss: 1.7533 - val_accuracy: 0.0000e+00\n",
      "Epoch 4/15\n",
      "10/10 [==============================] - 7s 725ms/step - loss: 0.3005 - accuracy: 0.0254 - val_loss: 1.3864 - val_accuracy: 0.0000e+00\n",
      "Epoch 5/15\n",
      "10/10 [==============================] - 6s 564ms/step - loss: 0.1318 - accuracy: 0.0254 - val_loss: 1.3967 - val_accuracy: 0.0000e+00\n",
      "Epoch 6/15\n",
      "10/10 [==============================] - 6s 572ms/step - loss: 0.0551 - accuracy: 0.0286 - val_loss: 1.1555 - val_accuracy: 0.0000e+00\n",
      "Epoch 7/15\n",
      "10/10 [==============================] - 6s 563ms/step - loss: 0.0451 - accuracy: 0.0349 - val_loss: 2.5916 - val_accuracy: 0.0095\n",
      "Epoch 8/15\n",
      "10/10 [==============================] - 5s 544ms/step - loss: 0.0202 - accuracy: 0.1460 - val_loss: 2.5916 - val_accuracy: 0.0000e+00\n",
      "Epoch 9/15\n",
      "10/10 [==============================] - 5s 549ms/step - loss: 0.0636 - accuracy: 0.0413 - val_loss: 1.3081 - val_accuracy: 0.0000e+00\n",
      "Epoch 10/15\n",
      "10/10 [==============================] - 5s 548ms/step - loss: 0.0635 - accuracy: 0.0413 - val_loss: 1.6343 - val_accuracy: 0.0000e+00\n",
      "Epoch 11/15\n",
      "10/10 [==============================] - 6s 591ms/step - loss: 0.0395 - accuracy: 0.0413 - val_loss: 1.6282 - val_accuracy: 0.0000e+00\n",
      "Epoch 12/15\n",
      "10/10 [==============================] - 7s 661ms/step - loss: 0.0179 - accuracy: 0.0444 - val_loss: 2.2882 - val_accuracy: 0.0000e+00\n",
      "Epoch 13/15\n",
      "10/10 [==============================] - 6s 626ms/step - loss: 0.0136 - accuracy: 0.0476 - val_loss: 1.9556 - val_accuracy: 0.0095\n",
      "Epoch 14/15\n",
      "10/10 [==============================] - 7s 656ms/step - loss: 0.0095 - accuracy: 0.0540 - val_loss: 2.0217 - val_accuracy: 0.0095\n",
      "Epoch 15/15\n",
      "10/10 [==============================] - 8s 821ms/step - loss: 0.0064 - accuracy: 0.0571 - val_loss: 2.4132 - val_accuracy: 0.0095\n"
     ]
    }
   ],
   "source": [
    "model3.compile(optimizer='adam',\n",
    "              loss='binary_crossentropy',\n",
    "              metrics=['Accuracy'])\n",
    "history3 = model3.fit(x_train, y_train, epochs=15,\n",
    "                    validation_data=(x_test, y_test))"
   ]
  },
  {
   "cell_type": "markdown",
   "metadata": {},
   "source": [
    "This seems bad, "
   ]
  },
  {
   "cell_type": "markdown",
   "metadata": {},
   "source": [
    ".nii contains more info than a single image, to make use of this let's try traing models for differeing slices then stacking the results"
   ]
  },
  {
   "cell_type": "code",
   "execution_count": 37,
   "metadata": {},
   "outputs": [],
   "source": [
    "images = df['Image Data ID'].tolist()\n",
    "df_2 = pd.DataFrame()\n",
    "df_2['id'] = list(images)\n",
    "df_2.head()\n",
    "df_2['visit'] = df_2['id'].apply(get_visit)\n",
    "df_2['diagnosis'] = df_2['id'].apply(get_Group)\n",
    "df_2['images'] = df_2['id'].apply(get_images)\n",
    "def reshape_images(images):\n",
    "    hold1 = images[96]\n",
    "    return hold1\n"
   ]
  },
  {
   "cell_type": "code",
   "execution_count": 38,
   "metadata": {},
   "outputs": [],
   "source": [
    "df_2['images'] = df_2['images'].apply(reshape_images)\n",
    "df_2['images'] = df_2['images'].apply(resize_images)"
   ]
  },
  {
   "cell_type": "code",
   "execution_count": 39,
   "metadata": {},
   "outputs": [],
   "source": [
    "x = df_2['images']\n",
    "y = df_2['diagnosis']\n",
    "x_array = np.array(x)\n",
    "x_array = np.stack(x_array)\n",
    "x_array = x_array.reshape(420,200,200,1)\n",
    "y = y.apply(to_int)\n",
    "\n",
    "target_encoder = LabelEncoder()\n",
    "target_encoder.fit(y)\n",
    "y = target_encoder.transform(y)\n",
    "x_train, x_test, y_train, y_test = train_test_split(x_array, y, random_state = 42)"
   ]
  },
  {
   "cell_type": "code",
   "execution_count": 40,
   "metadata": {},
   "outputs": [],
   "source": [
    "model = models.Sequential()\n",
    "model.add(layers.Conv2D(32, (3, 3), activation='relu', input_shape=(200, 200, 1)))\n",
    "model.add(layers.MaxPooling2D((2, 2)))\n",
    "model.add(layers.Conv2D(64, (3, 3), activation='relu'))\n",
    "model.add(layers.MaxPooling2D((2, 2)))\n",
    "model.add(layers.Conv2D(64, (3, 3), activation='relu'))\n",
    "model.add(layers.Flatten())\n",
    "model.add(layers.Dense(64, activation='relu'))\n",
    "model.add(Dense(units=1, activation = 'sigmoid'))\n",
    "\n"
   ]
  },
  {
   "cell_type": "code",
   "execution_count": 41,
   "metadata": {},
   "outputs": [
    {
     "name": "stdout",
     "output_type": "stream",
     "text": [
      "Epoch 1/20\n",
      "10/10 [==============================] - 7s 728ms/step - loss: 304.2444 - accuracy: 0.6127 - val_loss: 30.2707 - val_accuracy: 0.6571\n",
      "Epoch 2/20\n",
      "10/10 [==============================] - 6s 631ms/step - loss: 3.7864 - accuracy: 0.6667 - val_loss: 1.8644 - val_accuracy: 0.6952\n",
      "Epoch 3/20\n",
      "10/10 [==============================] - 6s 616ms/step - loss: 0.3150 - accuracy: 0.8762 - val_loss: 1.5186 - val_accuracy: 0.7048\n",
      "Epoch 4/20\n",
      "10/10 [==============================] - 6s 608ms/step - loss: 0.1624 - accuracy: 0.9524 - val_loss: 1.5081 - val_accuracy: 0.7238\n",
      "Epoch 5/20\n",
      "10/10 [==============================] - 7s 670ms/step - loss: 0.0984 - accuracy: 0.9778 - val_loss: 1.5766 - val_accuracy: 0.7333\n",
      "Epoch 6/20\n",
      "10/10 [==============================] - 6s 637ms/step - loss: 0.0318 - accuracy: 0.9968 - val_loss: 1.7243 - val_accuracy: 0.7143\n",
      "Epoch 7/20\n",
      "10/10 [==============================] - 6s 638ms/step - loss: 0.0167 - accuracy: 1.0000 - val_loss: 2.5558 - val_accuracy: 0.7048\n",
      "Epoch 8/20\n",
      "10/10 [==============================] - 6s 619ms/step - loss: 0.0035 - accuracy: 1.0000 - val_loss: 3.6846 - val_accuracy: 0.7524\n",
      "Epoch 9/20\n",
      "10/10 [==============================] - 7s 698ms/step - loss: 0.0028 - accuracy: 1.0000 - val_loss: 3.0585 - val_accuracy: 0.7333\n",
      "Epoch 10/20\n",
      "10/10 [==============================] - 8s 847ms/step - loss: 0.0013 - accuracy: 1.0000 - val_loss: 3.6132 - val_accuracy: 0.7429\n",
      "Epoch 11/20\n",
      "10/10 [==============================] - 9s 927ms/step - loss: 8.2266e-04 - accuracy: 1.0000 - val_loss: 3.9649 - val_accuracy: 0.7619\n",
      "Epoch 12/20\n",
      "10/10 [==============================] - 8s 836ms/step - loss: 3.2235e-04 - accuracy: 1.0000 - val_loss: 3.8571 - val_accuracy: 0.7333\n",
      "Epoch 13/20\n",
      "10/10 [==============================] - 8s 753ms/step - loss: 1.8017e-04 - accuracy: 1.0000 - val_loss: 4.1823 - val_accuracy: 0.7429\n",
      "Epoch 14/20\n",
      "10/10 [==============================] - 7s 729ms/step - loss: 1.0555e-04 - accuracy: 1.0000 - val_loss: 4.5935 - val_accuracy: 0.7429\n",
      "Epoch 15/20\n",
      "10/10 [==============================] - 7s 734ms/step - loss: 6.9430e-05 - accuracy: 1.0000 - val_loss: 4.8178 - val_accuracy: 0.7524\n",
      "Epoch 16/20\n",
      "10/10 [==============================] - 8s 803ms/step - loss: 5.1597e-05 - accuracy: 1.0000 - val_loss: 4.8921 - val_accuracy: 0.7524\n",
      "Epoch 17/20\n",
      "10/10 [==============================] - 7s 730ms/step - loss: 4.1151e-05 - accuracy: 1.0000 - val_loss: 4.8617 - val_accuracy: 0.7524\n",
      "Epoch 18/20\n",
      "10/10 [==============================] - 7s 721ms/step - loss: 3.4466e-05 - accuracy: 1.0000 - val_loss: 4.8547 - val_accuracy: 0.7524\n",
      "Epoch 19/20\n",
      "10/10 [==============================] - 7s 722ms/step - loss: 2.9327e-05 - accuracy: 1.0000 - val_loss: 4.8431 - val_accuracy: 0.7429\n",
      "Epoch 20/20\n",
      "10/10 [==============================] - 8s 794ms/step - loss: 2.5303e-05 - accuracy: 1.0000 - val_loss: 4.8417 - val_accuracy: 0.7429\n"
     ]
    }
   ],
   "source": [
    "model.compile(optimizer='adam',\n",
    "              loss='binary_crossentropy',\n",
    "              metrics=['accuracy'])\n",
    "history = model.fit(x_train, y_train, epochs=20,\n",
    "                    validation_data=(x_test, y_test))"
   ]
  },
  {
   "cell_type": "code",
   "execution_count": 42,
   "metadata": {},
   "outputs": [],
   "source": [
    "json_file = model.to_json()\n",
    "with open('model96.json', \"w\") as file:\n",
    "   file.write(json_file)"
   ]
  },
  {
   "cell_type": "markdown",
   "metadata": {},
   "source": [
    "now for the other direction slice"
   ]
  },
  {
   "cell_type": "code",
   "execution_count": 43,
   "metadata": {},
   "outputs": [],
   "source": [
    "images = df['Image Data ID'].tolist()\n",
    "df_2 = pd.DataFrame()\n",
    "df_2['id'] = list(images)\n",
    "df_2.head()\n",
    "df_2['visit'] = df_2['id'].apply(get_visit)\n",
    "df_2['diagnosis'] = df_2['id'].apply(get_Group)\n",
    "df_2['images'] = df_2['id'].apply(get_images)\n",
    "def reshape_images(images):\n",
    "    hold1 = images[66]\n",
    "    return hold1\n",
    "df_2['images'] = df_2['images'].apply(reshape_images)\n",
    "df_2['images'] = df_2['images'].apply(resize_images)\n"
   ]
  },
  {
   "cell_type": "code",
   "execution_count": 44,
   "metadata": {},
   "outputs": [],
   "source": [
    "x = df_2['images']\n",
    "y = df_2['diagnosis']\n",
    "x_array = np.array(x)\n",
    "x_array = np.stack(x_array)\n",
    "x_array = x_array.reshape(420,200,200,1)\n",
    "y = y.apply(to_int)\n",
    "\n",
    "target_encoder = LabelEncoder()\n",
    "target_encoder.fit(y)\n",
    "y = target_encoder.transform(y)\n",
    "x_train, x_test, y_train, y_test = train_test_split(x_array, y, random_state = 42)"
   ]
  },
  {
   "cell_type": "code",
   "execution_count": 45,
   "metadata": {},
   "outputs": [],
   "source": [
    "model = models.Sequential()\n",
    "model.add(layers.Conv2D(32, (3, 3), activation='relu', input_shape=(200, 200, 1)))\n",
    "model.add(layers.MaxPooling2D((2, 2)))\n",
    "model.add(layers.Conv2D(64, (3, 3), activation='relu'))\n",
    "model.add(layers.MaxPooling2D((2, 2)))\n",
    "model.add(layers.Conv2D(64, (3, 3), activation='relu'))\n",
    "model.add(layers.Flatten())\n",
    "model.add(layers.Dense(64, activation='relu'))\n",
    "model.add(Dense(units=1, activation = 'sigmoid'))\n",
    "\n"
   ]
  },
  {
   "cell_type": "code",
   "execution_count": 46,
   "metadata": {},
   "outputs": [
    {
     "name": "stdout",
     "output_type": "stream",
     "text": [
      "Epoch 1/20\n",
      "10/10 [==============================] - 7s 692ms/step - loss: 305.9434 - accuracy: 0.5905 - val_loss: 4.5941 - val_accuracy: 0.6476\n",
      "Epoch 2/20\n",
      "10/10 [==============================] - 6s 619ms/step - loss: 1.2257 - accuracy: 0.7365 - val_loss: 1.0924 - val_accuracy: 0.5714\n",
      "Epoch 3/20\n",
      "10/10 [==============================] - 8s 790ms/step - loss: 0.4831 - accuracy: 0.7714 - val_loss: 0.9103 - val_accuracy: 0.5714\n",
      "Epoch 4/20\n",
      "10/10 [==============================] - 7s 712ms/step - loss: 0.3457 - accuracy: 0.8413 - val_loss: 1.2542 - val_accuracy: 0.6381\n",
      "Epoch 5/20\n",
      "10/10 [==============================] - 10s 966ms/step - loss: 0.1905 - accuracy: 0.9333 - val_loss: 1.3078 - val_accuracy: 0.6952\n",
      "Epoch 6/20\n",
      "10/10 [==============================] - 8s 846ms/step - loss: 0.0759 - accuracy: 0.9714 - val_loss: 1.7396 - val_accuracy: 0.6952\n",
      "Epoch 7/20\n",
      "10/10 [==============================] - 8s 793ms/step - loss: 0.0425 - accuracy: 0.9873 - val_loss: 1.8566 - val_accuracy: 0.6762\n",
      "Epoch 8/20\n",
      "10/10 [==============================] - 9s 887ms/step - loss: 0.0484 - accuracy: 0.9778 - val_loss: 1.7919 - val_accuracy: 0.6857\n",
      "Epoch 9/20\n",
      "10/10 [==============================] - 9s 869ms/step - loss: 0.0702 - accuracy: 0.9778 - val_loss: 2.8559 - val_accuracy: 0.7619\n",
      "Epoch 10/20\n",
      "10/10 [==============================] - 8s 817ms/step - loss: 0.0181 - accuracy: 0.9968 - val_loss: 2.9596 - val_accuracy: 0.7429\n",
      "Epoch 11/20\n",
      "10/10 [==============================] - 7s 721ms/step - loss: 0.0054 - accuracy: 1.0000 - val_loss: 3.7770 - val_accuracy: 0.7524\n",
      "Epoch 12/20\n",
      "10/10 [==============================] - 8s 811ms/step - loss: 0.0016 - accuracy: 1.0000 - val_loss: 4.3920 - val_accuracy: 0.7333\n",
      "Epoch 13/20\n",
      "10/10 [==============================] - 8s 778ms/step - loss: 5.4077e-04 - accuracy: 1.0000 - val_loss: 4.4757 - val_accuracy: 0.7333\n",
      "Epoch 14/20\n",
      "10/10 [==============================] - 7s 707ms/step - loss: 2.7419e-04 - accuracy: 1.0000 - val_loss: 4.3505 - val_accuracy: 0.7333\n",
      "Epoch 15/20\n",
      "10/10 [==============================] - 7s 705ms/step - loss: 1.9256e-04 - accuracy: 1.0000 - val_loss: 4.3698 - val_accuracy: 0.7333\n",
      "Epoch 16/20\n",
      "10/10 [==============================] - 8s 754ms/step - loss: 1.4732e-04 - accuracy: 1.0000 - val_loss: 4.4177 - val_accuracy: 0.7333\n",
      "Epoch 17/20\n",
      "10/10 [==============================] - 7s 699ms/step - loss: 1.1250e-04 - accuracy: 1.0000 - val_loss: 4.4648 - val_accuracy: 0.7333\n",
      "Epoch 18/20\n",
      "10/10 [==============================] - 9s 917ms/step - loss: 8.7217e-05 - accuracy: 1.0000 - val_loss: 4.5093 - val_accuracy: 0.7429\n",
      "Epoch 19/20\n",
      "10/10 [==============================] - 9s 909ms/step - loss: 7.1652e-05 - accuracy: 1.0000 - val_loss: 4.5692 - val_accuracy: 0.7333\n",
      "Epoch 20/20\n",
      "10/10 [==============================] - 7s 748ms/step - loss: 5.6727e-05 - accuracy: 1.0000 - val_loss: 4.6276 - val_accuracy: 0.7333\n"
     ]
    }
   ],
   "source": [
    "model.compile(optimizer='adam',\n",
    "              loss='binary_crossentropy',\n",
    "              metrics=['accuracy'])\n",
    "history = model.fit(x_train, y_train, epochs=20,\n",
    "                    validation_data=(x_test, y_test))"
   ]
  },
  {
   "cell_type": "code",
   "execution_count": 48,
   "metadata": {},
   "outputs": [],
   "source": [
    "json_file = model.to_json()\n",
    "with open('model66.json', \"w\") as file:\n",
    "   file.write(json_file)\n",
    "\n",
    "model.save_weights('66weights.h5')"
   ]
  },
  {
   "cell_type": "code",
   "execution_count": null,
   "metadata": {},
   "outputs": [],
   "source": [
    "from keras.models import model_from_json\n",
    "\n",
    "\n",
    "def custom_predict(y_list):\n",
    "    hold = 0\n",
    "    model "
   ]
  },
  {
   "cell_type": "code",
   "execution_count": 50,
   "metadata": {},
   "outputs": [],
   "source": [
    "from keras.models import model_from_json\n",
    "\n",
    "\n",
    "def get_model(json_file, h5_file):\n",
    "    file = open(json_file, 'r')\n",
    "    model_json = file.read()\n",
    "    file.close()\n",
    "    loaded_model = model_from_json(model_json)\n",
    "    # load weights\n",
    "    loaded_model.load_weights(h5_file)\n",
    "    return loaded_model\n",
    "\n",
    "test = get_model('model66.json', '66weights.h5') "
   ]
  },
  {
   "cell_type": "code",
   "execution_count": 51,
   "metadata": {},
   "outputs": [
    {
     "data": {
      "text/plain": [
       "array([[1.60792169e-07],\n",
       "       [9.09519970e-01],\n",
       "       [9.51602817e-01],\n",
       "       [9.99582529e-01],\n",
       "       [9.99997735e-01],\n",
       "       [4.81913112e-30],\n",
       "       [8.11108992e-13],\n",
       "       [2.38796876e-08],\n",
       "       [9.09198139e-09],\n",
       "       [0.00000000e+00],\n",
       "       [0.00000000e+00],\n",
       "       [9.60009456e-01],\n",
       "       [6.38152361e-02],\n",
       "       [3.64399850e-02],\n",
       "       [8.03182423e-02],\n",
       "       [3.28122616e-01],\n",
       "       [4.21199758e-07],\n",
       "       [9.99995708e-01],\n",
       "       [4.69306633e-06],\n",
       "       [9.99974668e-01],\n",
       "       [3.29111771e-07],\n",
       "       [1.79304322e-14],\n",
       "       [1.07319664e-09],\n",
       "       [9.99999225e-01],\n",
       "       [7.59291351e-02],\n",
       "       [1.44343972e-02],\n",
       "       [4.67034261e-05],\n",
       "       [6.25781471e-09],\n",
       "       [8.42564987e-08],\n",
       "       [4.59849342e-14],\n",
       "       [9.96577322e-01],\n",
       "       [7.72207975e-04],\n",
       "       [8.79896850e-12],\n",
       "       [8.18875432e-03],\n",
       "       [1.71362376e-06],\n",
       "       [6.80842049e-10],\n",
       "       [1.01483442e-06],\n",
       "       [9.99990046e-01],\n",
       "       [1.15402507e-10],\n",
       "       [1.08767162e-12],\n",
       "       [1.00000000e+00],\n",
       "       [1.00000000e+00],\n",
       "       [9.99875247e-01],\n",
       "       [9.99994040e-01],\n",
       "       [9.99928594e-01],\n",
       "       [1.03040764e-12],\n",
       "       [8.34534764e-01],\n",
       "       [1.27064845e-10],\n",
       "       [7.96990395e-01],\n",
       "       [6.88536763e-02],\n",
       "       [1.41985238e-05],\n",
       "       [9.99976158e-01],\n",
       "       [7.32466106e-08],\n",
       "       [1.69665100e-07],\n",
       "       [6.29085093e-07],\n",
       "       [2.12305784e-03],\n",
       "       [2.18391418e-04],\n",
       "       [1.33267182e-11],\n",
       "       [1.83683302e-09],\n",
       "       [1.13433229e-32],\n",
       "       [4.61267919e-05],\n",
       "       [1.38106942e-03],\n",
       "       [5.27878344e-01],\n",
       "       [2.94470920e-10],\n",
       "       [9.96496260e-01],\n",
       "       [4.02346723e-06],\n",
       "       [6.94214259e-06],\n",
       "       [2.76926160e-03],\n",
       "       [9.19423699e-02],\n",
       "       [1.00000000e+00],\n",
       "       [1.29760385e-01],\n",
       "       [1.51219774e-05],\n",
       "       [1.23404076e-09],\n",
       "       [1.94424647e-16],\n",
       "       [9.99998927e-01],\n",
       "       [9.84442294e-01],\n",
       "       [8.40325676e-09],\n",
       "       [2.51591206e-04],\n",
       "       [1.30546129e-10],\n",
       "       [1.50654500e-07],\n",
       "       [1.01243619e-04],\n",
       "       [9.98317242e-01],\n",
       "       [5.27878463e-01],\n",
       "       [9.82311368e-03],\n",
       "       [5.02592087e-01],\n",
       "       [3.61379807e-06],\n",
       "       [3.57907325e-01],\n",
       "       [8.51099280e-09],\n",
       "       [3.00033248e-10],\n",
       "       [5.81902877e-26],\n",
       "       [3.42309475e-04],\n",
       "       [7.55310396e-07],\n",
       "       [9.99505937e-01],\n",
       "       [6.13075599e-06],\n",
       "       [2.26702483e-07],\n",
       "       [1.90272927e-01],\n",
       "       [1.04663646e-04],\n",
       "       [2.18391418e-04],\n",
       "       [5.00500202e-04],\n",
       "       [3.07710528e-01],\n",
       "       [4.02612243e-14],\n",
       "       [9.82311368e-03],\n",
       "       [1.87688597e-11],\n",
       "       [3.24029207e-01],\n",
       "       [9.99998093e-01]], dtype=float32)"
      ]
     },
     "execution_count": 51,
     "metadata": {},
     "output_type": "execute_result"
    }
   ],
   "source": [
    "test.predict(x_test)"
   ]
  },
  {
   "cell_type": "code",
   "execution_count": null,
   "metadata": {},
   "outputs": [],
   "source": []
  }
 ],
 "metadata": {
  "kernelspec": {
   "display_name": "Python 3",
   "language": "python",
   "name": "python3"
  },
  "language_info": {
   "codemirror_mode": {
    "name": "ipython",
    "version": 3
   },
   "file_extension": ".py",
   "mimetype": "text/x-python",
   "name": "python",
   "nbconvert_exporter": "python",
   "pygments_lexer": "ipython3",
   "version": "3.8.5"
  }
 },
 "nbformat": 4,
 "nbformat_minor": 4
}
